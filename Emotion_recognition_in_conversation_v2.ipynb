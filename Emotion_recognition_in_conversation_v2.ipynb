{
  "nbformat": 4,
  "nbformat_minor": 0,
  "metadata": {
    "colab": {
      "provenance": [],
      "machine_shape": "hm"
    },
    "kernelspec": {
      "name": "python3",
      "display_name": "Python 3"
    },
    "language_info": {
      "name": "python"
    },
    "accelerator": "GPU",
    "gpuClass": "premium"
  },
  "cells": [
    {
      "cell_type": "markdown",
      "source": [
        "## 프로젝트 개요\n",
        "- 이 데이터에는 연령, 성별, 컴퓨터, 상황, 질병, 감정에 대한 정보가 들어있다. \n",
        "- 실제 서비스를 위해서 문자 내용만 가지고 감성을 파악해야하기 때문에 위의 모든 데이터를 사용할 수 없다.\n",
        "- 가장 우선시 하여 사용할 데이터는 감정 > 상황 \n",
        "- 대화의 내용으로 질병, 성별, 연령을 유추는 할 수 있지만 그거는 너무 디테일한 내용이다. 우선 감정과 상황을 가지고 프로젝트를 진행 후 나중에 개선을 해보도록 하자"
      ],
      "metadata": {
        "id": "hlHTZcH4vOwQ"
      }
    },
    {
      "cell_type": "code",
      "source": [
        "!pip install transformers"
      ],
      "metadata": {
        "colab": {
          "base_uri": "https://localhost:8080/"
        },
        "id": "iQrFiJlOJROv",
        "outputId": "43baa205-acf8-4c35-8905-b696d1de2363"
      },
      "execution_count": 1,
      "outputs": [
        {
          "output_type": "stream",
          "name": "stdout",
          "text": [
            "Looking in indexes: https://pypi.org/simple, https://us-python.pkg.dev/colab-wheels/public/simple/\n",
            "Requirement already satisfied: transformers in /usr/local/lib/python3.9/dist-packages (4.27.4)\n",
            "Requirement already satisfied: requests in /usr/local/lib/python3.9/dist-packages (from transformers) (2.27.1)\n",
            "Requirement already satisfied: tqdm>=4.27 in /usr/local/lib/python3.9/dist-packages (from transformers) (4.65.0)\n",
            "Requirement already satisfied: filelock in /usr/local/lib/python3.9/dist-packages (from transformers) (3.10.7)\n",
            "Requirement already satisfied: pyyaml>=5.1 in /usr/local/lib/python3.9/dist-packages (from transformers) (6.0)\n",
            "Requirement already satisfied: regex!=2019.12.17 in /usr/local/lib/python3.9/dist-packages (from transformers) (2022.10.31)\n",
            "Requirement already satisfied: packaging>=20.0 in /usr/local/lib/python3.9/dist-packages (from transformers) (23.0)\n",
            "Requirement already satisfied: huggingface-hub<1.0,>=0.11.0 in /usr/local/lib/python3.9/dist-packages (from transformers) (0.13.3)\n",
            "Requirement already satisfied: tokenizers!=0.11.3,<0.14,>=0.11.1 in /usr/local/lib/python3.9/dist-packages (from transformers) (0.13.2)\n",
            "Requirement already satisfied: numpy>=1.17 in /usr/local/lib/python3.9/dist-packages (from transformers) (1.22.4)\n",
            "Requirement already satisfied: typing-extensions>=3.7.4.3 in /usr/local/lib/python3.9/dist-packages (from huggingface-hub<1.0,>=0.11.0->transformers) (4.5.0)\n",
            "Requirement already satisfied: urllib3<1.27,>=1.21.1 in /usr/local/lib/python3.9/dist-packages (from requests->transformers) (1.26.15)\n",
            "Requirement already satisfied: certifi>=2017.4.17 in /usr/local/lib/python3.9/dist-packages (from requests->transformers) (2022.12.7)\n",
            "Requirement already satisfied: charset-normalizer~=2.0.0 in /usr/local/lib/python3.9/dist-packages (from requests->transformers) (2.0.12)\n",
            "Requirement already satisfied: idna<4,>=2.5 in /usr/local/lib/python3.9/dist-packages (from requests->transformers) (3.4)\n"
          ]
        }
      ]
    },
    {
      "cell_type": "markdown",
      "source": [
        "## data"
      ],
      "metadata": {
        "id": "uamKLx53iQ1L"
      }
    },
    {
      "cell_type": "code",
      "execution_count": 2,
      "metadata": {
        "id": "uFyYtw_FhwIM"
      },
      "outputs": [],
      "source": [
        "# !unzip /content/drive/MyDrive/인공지능/대화속감정인식/data/Training.zip -d /content/drive/MyDrive/인공지능/대화속감정인식/data\n",
        "# !unzip /content/drive/MyDrive/인공지능/대화속감정인식/data/Validation.zip -d /content/drive/MyDrive/인공지능/대화속감정인식/data"
      ]
    },
    {
      "cell_type": "code",
      "source": [
        "from tqdm import tqdm\n",
        "import glob\n",
        "import json\n",
        "import os\n",
        "import re\n",
        "import csv\n",
        "import pandas as pd\n",
        "from collections import Counter\n",
        "import matplotlib.pyplot as plt"
      ],
      "metadata": {
        "id": "ZwTeL1nllIN1"
      },
      "execution_count": 3,
      "outputs": []
    },
    {
      "cell_type": "code",
      "source": [
        "train_path = \"/content/drive/MyDrive/인공지능/대화속감정인식/data/감성대화말뭉치(최종데이터)_Training.json\"\n",
        "valid_path = \"/content/drive/MyDrive/인공지능/대화속감정인식/data/감성대화말뭉치(최종데이터)_Validation.json\""
      ],
      "metadata": {
        "id": "QtP3oLxdk9Qq"
      },
      "execution_count": 4,
      "outputs": []
    },
    {
      "cell_type": "markdown",
      "source": [
        "## 데이터 확인"
      ],
      "metadata": {
        "id": "PGdSPfplDZok"
      }
    },
    {
      "cell_type": "code",
      "source": [
        "with open(train_path) as f:\n",
        "      data = json.load(f)"
      ],
      "metadata": {
        "id": "bIzrtrfXief-"
      },
      "execution_count": 5,
      "outputs": []
    },
    {
      "cell_type": "code",
      "source": [
        "len(data)"
      ],
      "metadata": {
        "colab": {
          "base_uri": "https://localhost:8080/"
        },
        "id": "B7DvVjJ9lLJm",
        "outputId": "4bd359d5-2a11-4873-f1e8-d8e57ba54839"
      },
      "execution_count": 6,
      "outputs": [
        {
          "output_type": "execute_result",
          "data": {
            "text/plain": [
              "51628"
            ]
          },
          "metadata": {},
          "execution_count": 6
        }
      ]
    },
    {
      "cell_type": "code",
      "source": [
        "print(data[0])"
      ],
      "metadata": {
        "colab": {
          "base_uri": "https://localhost:8080/"
        },
        "id": "1qzWQ4pxlVGF",
        "outputId": "0040e986-cc35-4f16-86e9-e64102c98965"
      },
      "execution_count": 7,
      "outputs": [
        {
          "output_type": "stream",
          "name": "stdout",
          "text": [
            "{'profile': {'persona-id': 'Pro_05349', 'persona': {'persona-id': 'A02_G02_C01', 'human': ['A02', 'G02'], 'computer': ['C01']}, 'emotion': {'emotion-id': 'S06_D02_E18', 'type': 'E18', 'situation': ['S06', 'D02']}}, 'talk': {'id': {'profile-id': 'Pro_05349', 'talk-id': 'Pro_05349_00053'}, 'content': {'HS01': '일은 왜 해도 해도 끝이 없을까? 화가 난다.', 'SS01': '많이 힘드시겠어요. 주위에 의논할 상대가 있나요?', 'HS02': '그냥 내가 해결하는 게 나아. 남들한테 부담 주고 싶지도 않고.', 'SS02': '혼자 해결하기로 했군요. 혼자서 해결하기 힘들면 주위에 의논할 사람을 찾아보세요. ', 'HS03': '', 'SS03': ''}}}\n"
          ]
        }
      ]
    },
    {
      "cell_type": "markdown",
      "source": [
        "### 감정 데이터 확인"
      ],
      "metadata": {
        "id": "5QrfgcHxDjI9"
      }
    },
    {
      "cell_type": "code",
      "source": [
        "emotion_list = []\n",
        "for i in range(len(data)):\n",
        "  emotion_list.append(data[i]['profile']['emotion']['type'])"
      ],
      "metadata": {
        "id": "TYv8HREvlmM0"
      },
      "execution_count": 8,
      "outputs": []
    },
    {
      "cell_type": "code",
      "source": [
        "counts = Counter(emotion_list)\n",
        "print(counts)"
      ],
      "metadata": {
        "colab": {
          "base_uri": "https://localhost:8080/"
        },
        "id": "6NC2dPbTAh7b",
        "outputId": "fcd19dd8-9294-4683-9062-58bc430b98a5"
      },
      "execution_count": 9,
      "outputs": [
        {
          "output_type": "stream",
          "name": "stdout",
          "text": [
            "Counter({'E37': 1229, 'E13': 1054, 'E24': 1002, 'E27': 993, 'E31': 991, 'E47': 984, 'E18': 975, 'E32': 971, 'E19': 969, 'E10': 958, 'E20': 958, 'E48': 953, 'E22': 950, 'E45': 949, 'E40': 937, 'E11': 926, 'E58': 918, 'E42': 911, 'E44': 910, 'E23': 906, 'E43': 901, 'E34': 901, 'E51': 900, 'E39': 899, 'E56': 897, 'E41': 896, 'E28': 896, 'E30': 893, 'E29': 884, 'E55': 883, 'E17': 882, 'E12': 875, 'E16': 873, 'E52': 872, 'E21': 870, 'E59': 870, 'E38': 869, 'E53': 865, 'E33': 864, 'E49': 861, 'E36': 860, 'E50': 859, 'E54': 859, 'E15': 845, 'E35': 842, 'E46': 840, 'E25': 838, 'E57': 833, 'E26': 828, 'E14': 803, 'E60': 660, 'E64': 655, 'E67': 639, 'E68': 634, 'E61': 631, 'E62': 609, 'E63': 597, 'E69': 570, 'E66': 568, 'E65': 563})\n"
          ]
        }
      ]
    },
    {
      "cell_type": "markdown",
      "source": [
        "#### 전체 감정"
      ],
      "metadata": {
        "id": "tYD9M7gIDfvg"
      }
    },
    {
      "cell_type": "code",
      "source": [
        "fig = plt.figure(figsize=(10, 5))\n",
        " \n",
        "# 시각화할 데이터\n",
        "x = list(counts.keys())\n",
        "y = list(counts.values())\n",
        " \n",
        "# bar 그래프 생성\n",
        "plt.bar(x, y, color='green')\n",
        " \n",
        "# 그래프 제목 설정\n",
        "plt.title(\"Counts of Unique Values\")\n",
        " \n",
        "# x축과 y축 레이블 설정\n",
        "plt.xlabel(\"Values\")\n",
        "plt.ylabel(\"Counts\")\n",
        " \n",
        "# 그래프 출력\n",
        "plt.show()"
      ],
      "metadata": {
        "colab": {
          "base_uri": "https://localhost:8080/",
          "height": 376
        },
        "id": "XKKFv6MaAi5h",
        "outputId": "57e2aaae-468f-4326-b43a-59eb8b916890"
      },
      "execution_count": 10,
      "outputs": [
        {
          "output_type": "display_data",
          "data": {
            "text/plain": [
              "<Figure size 1000x500 with 1 Axes>"
            ],
            "image/png": "[encoded data removed]"
          },
          "metadata": {}
        }
      ]
    },
    {
      "cell_type": "markdown",
      "source": [
        "#### 6개 감정으로 축소"
      ],
      "metadata": {
        "id": "De4Z-UXSDnPC"
      }
    },
    {
      "cell_type": "code",
      "source": [
        "anger_list = []\n",
        "sadness_list = []\n",
        "anxiety_list = []\n",
        "wound_list = []\n",
        "panic_list = []\n",
        "joy_list = []"
      ],
      "metadata": {
        "id": "37Daa8MlFAkK"
      },
      "execution_count": 11,
      "outputs": []
    },
    {
      "cell_type": "code",
      "source": [
        "for i in range(len(data)):\n",
        "  if 10 <= int(data[i]['profile']['emotion']['type'][-2:]) <= 19:\n",
        "    anger_list.append(data[i]['profile']['emotion']['type'])\n",
        "  elif 20 <= int(data[i]['profile']['emotion']['type'][-2:]) <= 29:\n",
        "    sadness_list.append(data[i]['profile']['emotion']['type'])\n",
        "  elif 30 <= int(data[i]['profile']['emotion']['type'][-2:]) <= 39:\n",
        "    anxiety_list.append(data[i]['profile']['emotion']['type'])\n",
        "  elif 40 <= int(data[i]['profile']['emotion']['type'][-2:]) <= 49:\n",
        "    wound_list.append(data[i]['profile']['emotion']['type'])\n",
        "  elif 50 <= int(data[i]['profile']['emotion']['type'][-2:]) <= 59:\n",
        "    panic_list.append(data[i]['profile']['emotion']['type'])\n",
        "  elif 60 <= int(data[i]['profile']['emotion']['type'][-2:]) <= 69:\n",
        "    joy_list.append(data[i]['profile']['emotion']['type'])\n"
      ],
      "metadata": {
        "id": "msGD8A60DF9g"
      },
      "execution_count": 12,
      "outputs": []
    },
    {
      "cell_type": "code",
      "source": [
        "print(len(anger_list))\n",
        "print(len(sadness_list))\n",
        "print(len(anxiety_list))\n",
        "print(len(wound_list))\n",
        "print(len(panic_list))\n",
        "print(len(joy_list))"
      ],
      "metadata": {
        "colab": {
          "base_uri": "https://localhost:8080/"
        },
        "id": "Yxnm9vyBGL5r",
        "outputId": "9307bbb9-4059-49d5-adbe-5597b2d97504"
      },
      "execution_count": 13,
      "outputs": [
        {
          "output_type": "stream",
          "name": "stdout",
          "text": [
            "9160\n",
            "9125\n",
            "9319\n",
            "9142\n",
            "8756\n",
            "6126\n"
          ]
        }
      ]
    },
    {
      "cell_type": "code",
      "source": [
        "categories = [anger_list, sadness_list, anxiety_list, wound_list, panic_list, joy_list]\n",
        "category_names = ['Anger', 'Sadness', 'Anxiety', 'Wound', 'Panic', 'Joy']\n",
        "\n",
        "category_lengths = [len(category) for category in categories]\n",
        "\n",
        "plt.bar(category_names, category_lengths)\n",
        "plt.xlabel('Category')\n",
        "plt.ylabel('Count')\n",
        "plt.title('Length of each category')\n",
        "plt.show()"
      ],
      "metadata": {
        "colab": {
          "base_uri": "https://localhost:8080/",
          "height": 472
        },
        "id": "kNP86c3CG7XM",
        "outputId": "9742845b-a2d9-4222-d4b5-7d3c5b982532"
      },
      "execution_count": 14,
      "outputs": [
        {
          "output_type": "display_data",
          "data": {
            "text/plain": [
              "<Figure size 640x480 with 1 Axes>"
            ],
            "image/png": "[encoded data removed]"
          },
          "metadata": {}
        }
      ]
    },
    {
      "cell_type": "markdown",
      "source": [
        "## 데이터 로더 구현하기\n",
        "- 필요한 데이터\n",
        "  - 대화\n",
        "  - 발화자\n",
        "  - 감정 \n",
        "- 필요한 로직\n",
        "  - 60가지로 나뉘어져 있는 감정을 6개로 바꾼다.\n",
        "  - 각 문장 앞에 CLS 토큰 지정\n",
        "  - 각 발화자 앞에 스페셜 토큰을 지정한다. \n",
        "    - 사람, 시스템, 사람, 시스템, 사람, 시스템 번갈아가며 나오기 때문에 특정 키 값을 가져올 필요없이 간격으로 스폐셜 토큰을 지정하면 될 것 같다.\n",
        "- 데이터를 다음과 같은 형태로 만들기\n",
        "  - [사람, 시스템, 사람, 시스템, 사람, 시스템, 감정]"
      ],
      "metadata": {
        "id": "WqS4OWpoI9JQ"
      }
    },
    {
      "cell_type": "code",
      "source": [
        "import json\n",
        "from torch.utils.data import Dataset\n",
        "from transformers import RobertaTokenizer, AutoTokenizer\n",
        "import torch\n",
        "\n",
        "class data_loader(Dataset):\n",
        "    def __init__(self,data_path):\n",
        "        self.tokenizer = AutoTokenizer.from_pretrained('klue/roberta-base')\n",
        "\n",
        "        with open(train_path) as f:\n",
        "          data = json.load(f)\n",
        "\n",
        "        self.session_dataset  = []\n",
        "\n",
        "        for i in range(len(data)):\n",
        "          if 10 <= int(data[i]['profile']['emotion']['type'][-2:]) <= 19:\n",
        "            data[i]['profile']['emotion']['type'] = '분노'\n",
        "          elif 20 <= int(data[i]['profile']['emotion']['type'][-2:]) <= 29:\n",
        "            data[i]['profile']['emotion']['type'] = '슬픔'\n",
        "          elif 30 <= int(data[i]['profile']['emotion']['type'][-2:]) <= 39:\n",
        "            data[i]['profile']['emotion']['type'] = '불안'\n",
        "          elif 40 <= int(data[i]['profile']['emotion']['type'][-2:]) <= 49:\n",
        "            data[i]['profile']['emotion']['type'] = '상처'\n",
        "          elif 50 <= int(data[i]['profile']['emotion']['type'][-2:]) <= 59:\n",
        "            data[i]['profile']['emotion']['type'] = '당황'\n",
        "          elif 60 <= int(data[i]['profile']['emotion']['type'][-2:]) <= 69:\n",
        "            data[i]['profile']['emotion']['type'] = '기쁨'\n",
        "\n",
        "        for i in range(len(data)):\n",
        "          data_values = list(data[i]['talk']['content'].values())\n",
        "          values = [val for val in data_values if val != '']\n",
        "          values.append(data[i]['profile']['emotion']['type'])\n",
        "          self.session_dataset.append(values)\n",
        "\n",
        "        self.special_words = [\"#hh#\", \"#hs#\"] # 발화자, 시스템\n",
        "        self.tokenizer.add_special_tokens({\"additional_special_tokens\": self.special_words}) # 나중에 모델부분에서 스폐셜 토큰 갯수를 더 추가해서 resize를 해야함함\n",
        "\n",
        "        self.emoList = ['분노', '슬픔', '불안', '상처', '당황', '기쁨']\n",
        "\n",
        "    def __len__(self):\n",
        "        return len(self.session_dataset)\n",
        "\n",
        "    def __getitem__(self,idx):\n",
        "        return self.session_dataset[idx]\n",
        "\n",
        "    def padding(self, batch_input_token):\n",
        "        batch_token_ids, batch_attention_masks = batch_input_token['input_ids'], batch_input_token['attention_mask']\n",
        "        trunc_batch_token_ids, trunc_batch_attention_masks = [], []\n",
        "        for batch_token_id, batch_attention_mask in zip(batch_token_ids, batch_attention_masks):\n",
        "            if len(batch_token_id) > self.tokenizer.model_max_length: \n",
        "                # 맨 앞에 감정을 담는 인자가 있기 때문에 앞에서 부터 자른다. \n",
        "                trunc_batch_token_id = [batch_token_id[0]] + batch_token_id[1:][:self.tokenizer.model_max_length-1]\n",
        "                trunc_batch_attention_mask = [batch_attention_mask[0]] + batch_attention_mask[1:][:self.tokenizer.model_max_length-1]\n",
        "                trunc_batch_token_ids.append(trunc_batch_token_id)\n",
        "                trunc_batch_attention_masks.append(trunc_batch_attention_mask)\n",
        "            else: # 512보다 짧은 경우\n",
        "                trunc_batch_token_ids.append(batch_token_id)\n",
        "                trunc_batch_attention_masks.append(batch_attention_mask)\n",
        "        \"\"\"padding token\"\"\"\n",
        "        max_length = max([len(x) for x in trunc_batch_token_ids])\n",
        "        padding_tokens, padding_attention_masks = [], []\n",
        "        for batch_token_id, batch_attention_mask in zip(trunc_batch_token_ids, trunc_batch_attention_masks):\n",
        "            padding_tokens.append(batch_token_id + [self.tokenizer.pad_token_id for _ in range(max_length-len(batch_token_id))])\n",
        "            padding_attention_masks.append(batch_attention_mask + [0 for _ in range(max_length-len(batch_token_id))])\n",
        "\n",
        "        return torch.tensor(padding_tokens), torch.tensor(padding_attention_masks)\n",
        "\n",
        "    def collate_fn(self, sessions):\n",
        "        batch_input, batch_labels = [], [] # com입력, 학습할 레이블\n",
        "        batch_PM_input = [] # pm 입력\n",
        "        for session in sessions: \n",
        "            input_str = self.tokenizer.cls_token \n",
        "            PM_input = []\n",
        "\n",
        "            for i in range(len(session[:-1])):\n",
        "                if i % 2 == 0: # [발화자, 시스템, 발화자, 시스템] 이런 형식으로 구성되어 있어 짝수:발화자, 홀수:시스템이 된다. \n",
        "                      input_str += \" \" + self.special_words[0] + session[i] + self.tokenizer.sep_token\n",
        "                else:\n",
        "                     input_str +=  \" \" + self.special_words[1] + session[i] + self.tokenizer.sep_token\n",
        "                \n",
        "                if i != 0 and i % 2 == 0:\n",
        "                    # 여기에서 스페셜 토큰으로 발화자를 구분해줘야할까? 일단 논문소개에서 해줬다고해서 했다. 발화자의 정보를 담고 있으면 더 잘 학습 될 것이다.\n",
        "                    PM_input.append(self.tokenizer.encode(self.special_words[0] + session[i], add_special_tokens=True, return_tensors='pt')) \n",
        "\n",
        "            batch_input.append(input_str)\n",
        "            batch_labels.append(self.emoList.index(session[-1]))\n",
        "            batch_PM_input.append(PM_input)\n",
        "        batch_input_token = self.tokenizer(batch_input, add_special_tokens=False)\n",
        "        batch_padding_token, batch_padding_attention_mask = self.padding(batch_input_token)\n",
        "\n",
        "        return batch_padding_token, batch_padding_attention_mask, batch_PM_input, torch.tensor(batch_labels)         "
      ],
      "metadata": {
        "id": "np4U5AoFIX9V"
      },
      "execution_count": 15,
      "outputs": []
    },
    {
      "cell_type": "code",
      "source": [
        "\"\"\" 배치 결과 확인 \"\"\"\n",
        "from torch.utils.data import DataLoader\n",
        "dev_dataset = data_loader(train_path)\n",
        "dev_dataloader = DataLoader(dev_dataset, batch_size=3, shuffle=False, num_workers=4, collate_fn=dev_dataset.collate_fn)\n",
        "\n",
        "for i, data in enumerate(dev_dataloader):\n",
        "    if i == 500:\n",
        "        print(data[0].shape)\n",
        "        batch_padding_token, batch_padding_attention_mask, batch_PM_input, batch_label = data\n",
        "        print(\"batch_padding_token\", batch_padding_token)\n",
        "        print(\"batch_padding_attention_mask\", batch_padding_attention_mask)\n",
        "        print(\"batch_PM_input\", batch_PM_input)\n",
        "        print(\"batch_label\", batch_label)\n",
        "        break"
      ],
      "metadata": {
        "id": "2BQ30I3oKg1k",
        "colab": {
          "base_uri": "https://localhost:8080/"
        },
        "outputId": "59493450-f8ce-4c36-dc52-39a85e9537f2"
      },
      "execution_count": 16,
      "outputs": [
        {
          "output_type": "stream",
          "name": "stdout",
          "text": [
            "torch.Size([3, 109])\n",
            "batch_padding_token tensor([[    0, 32000,   717,  2259,  4244,  2170,  4144,  2069,  1567,  8843,\n",
            "          2522,  4179,  2098,  2052,  1415,  2051,  2112,  1462, 20536,    18,\n",
            "             2, 32001,  3738,  8843,  2522,  4179,  2098,  2052,  1415,  2279,\n",
            "          2250,  2116,  1160,  2242,  2182,    18,     2, 32000,  4244,  2170,\n",
            "          4144,  2069,  1567,  3611,  2052,  1415,  2051,  2112, 18941,  2203,\n",
            "            18,     2, 32001,  4244,  2170,  4144,  2052,   861,  3826,  2052,\n",
            "          1097,  2116,  1513, 16809,  2182,    35,     2, 32000,  4244,  2138,\n",
            "          1521,  2205,  2259,  3949,  2031,  2170,  2318,  9288,  2178,  2088,\n",
            "          6169,  2069, 27773,  1892,   575,   555,  2227,    18,     2, 32001,\n",
            "          4244,  2138,  1521,  2205,  2259,  3949,  2031,  2170,  2318,  6169,\n",
            "          2069,  6185,  2370, 29062,  2259,  2242,  2182,    18,     2],\n",
            "        [    0, 32000,   717,  2259,  4610,  2170,  7340,  2052,  1415,  2259,\n",
            "          1856,  2052,  2181,  4244,  2138,  1378,  1897,    18,     2, 32001,\n",
            "          4610,  2170,  7340,  2052,  1415,  2279,  2067,  2242,  2182,    18,\n",
            "             2, 32000,  4224,  3611,  7285,   809,  4244,  2138,  1889,  7245,\n",
            "          3689,  4445,  2052,  2275,    18,     2, 32001,  4244,  2138,  3645,\n",
            "           859,  2075,  4445,  2052,  2067,  2918, 10283,    18,  3842,  1889,\n",
            "          2259,   578,  1560, 16809,  2182,    35,     2, 32000,  4244,  6396,\n",
            "          6080,   570,  1415,  5882,  2299,  6791,  4244,  2138,  4703,  2097,\n",
            "          2178,  2259,   575,  2119,  1560,  2073,   575,   555,  2227,    18,\n",
            "             2, 32001,  4244,  2138,  6791,  4703,  2097,  2178, 10554, 29062,\n",
            "          2259,  2242,  2182,    18,     2,     1,     1,     1,     1],\n",
            "        [    0, 32000,   732,   694,  2073,  7638,  2179,  2147,   717,  2259,\n",
            "          3760,  1085,  2065,  2484,  2051,    18,   732,  2116,  4177,  7638,\n",
            "          2052,   859,  2918,  2529,    35,     2, 32001,   694,  2052,  7638,\n",
            "          2179,  2147,  8169,  3624,  2170,  4419,  2205,  2067,  2259,  2242,\n",
            "          2182,    18,     2, 32000,  7638,  2052,   859, 19644,  3977,  2052,\n",
            "         11259,  2275,  1889,  9958,    18,     2, 32001,  7638,  2052,   859,\n",
            "          2015,  3627,  3711,   572,  4703,  2097,  2345,  1295,  1513, 16809,\n",
            "          2182,    35,     2, 32000,  3822,  3797,  3815,  2052,  2379,  7539,\n",
            "          2069,  1595,  2112,  3759,  2138,  1897,  9766,  2918,  2051,    18,\n",
            "             2, 32001,  3815,  2052,  2379,  7539,  3759,  2138,  1897,  2178,\n",
            "         10554, 29062,  2259,  2242,  2182,    18,     2,     1,     1]])\n",
            "batch_padding_attention_mask tensor([[1, 1, 1, 1, 1, 1, 1, 1, 1, 1, 1, 1, 1, 1, 1, 1, 1, 1, 1, 1, 1, 1, 1, 1,\n",
            "         1, 1, 1, 1, 1, 1, 1, 1, 1, 1, 1, 1, 1, 1, 1, 1, 1, 1, 1, 1, 1, 1, 1, 1,\n",
            "         1, 1, 1, 1, 1, 1, 1, 1, 1, 1, 1, 1, 1, 1, 1, 1, 1, 1, 1, 1, 1, 1, 1, 1,\n",
            "         1, 1, 1, 1, 1, 1, 1, 1, 1, 1, 1, 1, 1, 1, 1, 1, 1, 1, 1, 1, 1, 1, 1, 1,\n",
            "         1, 1, 1, 1, 1, 1, 1, 1, 1, 1, 1, 1, 1],\n",
            "        [1, 1, 1, 1, 1, 1, 1, 1, 1, 1, 1, 1, 1, 1, 1, 1, 1, 1, 1, 1, 1, 1, 1, 1,\n",
            "         1, 1, 1, 1, 1, 1, 1, 1, 1, 1, 1, 1, 1, 1, 1, 1, 1, 1, 1, 1, 1, 1, 1, 1,\n",
            "         1, 1, 1, 1, 1, 1, 1, 1, 1, 1, 1, 1, 1, 1, 1, 1, 1, 1, 1, 1, 1, 1, 1, 1,\n",
            "         1, 1, 1, 1, 1, 1, 1, 1, 1, 1, 1, 1, 1, 1, 1, 1, 1, 1, 1, 1, 1, 1, 1, 1,\n",
            "         1, 1, 1, 1, 1, 1, 1, 1, 1, 0, 0, 0, 0],\n",
            "        [1, 1, 1, 1, 1, 1, 1, 1, 1, 1, 1, 1, 1, 1, 1, 1, 1, 1, 1, 1, 1, 1, 1, 1,\n",
            "         1, 1, 1, 1, 1, 1, 1, 1, 1, 1, 1, 1, 1, 1, 1, 1, 1, 1, 1, 1, 1, 1, 1, 1,\n",
            "         1, 1, 1, 1, 1, 1, 1, 1, 1, 1, 1, 1, 1, 1, 1, 1, 1, 1, 1, 1, 1, 1, 1, 1,\n",
            "         1, 1, 1, 1, 1, 1, 1, 1, 1, 1, 1, 1, 1, 1, 1, 1, 1, 1, 1, 1, 1, 1, 1, 1,\n",
            "         1, 1, 1, 1, 1, 1, 1, 1, 1, 1, 1, 0, 0]])\n",
            "batch_PM_input [[tensor([[    0, 32000,  4244,  2170,  4144,  2069,  1567,  3611,  2052,  1415,\n",
            "          2051,  2112, 18941,  2203,    18,     2]]), tensor([[    0, 32000,  4244,  2138,  1521,  2205,  2259,  3949,  2031,  2170,\n",
            "          2318,  9288,  2178,  2088,  6169,  2069, 27773,  1892,   575,   555,\n",
            "          2227,    18,     2]])], [tensor([[    0, 32000,  4224,  3611,  7285,   809,  4244,  2138,  1889,  7245,\n",
            "          3689,  4445,  2052,  2275,    18,     2]]), tensor([[    0, 32000,  4244,  6396,  6080,   570,  1415,  5882,  2299,  6791,\n",
            "          4244,  2138,  4703,  2097,  2178,  2259,   575,  2119,  1560,  2073,\n",
            "           575,   555,  2227,    18,     2]])], [tensor([[    0, 32000,  7638,  2052,   859, 19644,  3977,  2052, 11259,  2275,\n",
            "          1889,  9958,    18,     2]]), tensor([[    0, 32000,  3822,  3797,  3815,  2052,  2379,  7539,  2069,  1595,\n",
            "          2112,  3759,  2138,  1897,  9766,  2918,  2051,    18,     2]])]]\n",
            "batch_label tensor([4, 0, 0])\n"
          ]
        }
      ]
    },
    {
      "cell_type": "code",
      "source": [
        "# !touch /content/drive/MyDrive/인공지능/대화속감정인식/dataset_v2.py"
      ],
      "metadata": {
        "id": "PgwtR0PWflEU"
      },
      "execution_count": 17,
      "outputs": []
    },
    {
      "cell_type": "markdown",
      "source": [
        "## 모델링"
      ],
      "metadata": {
        "id": "sYCMGQ4YSMUm"
      }
    },
    {
      "cell_type": "code",
      "source": [
        "from transformers import AutoModel, AutoTokenizer\n",
        "\n",
        "model = AutoModel.from_pretrained(\"klue/roberta-base\")\n",
        "tokenizer = AutoTokenizer.from_pretrained(\"klue/roberta-base\")\n",
        "\n",
        "special_words = [\"#hh#\", \"#hs#\"] # 발화자, 시스템\n",
        "tokenizer.add_special_tokens({\"additional_special_tokens\": special_words}) # 나중에 모델부분에서 스폐셜 토큰 갯수를 더 추가해서 resize를 해야함함\n",
        "model.resize_token_embeddings(len(tokenizer))"
      ],
      "metadata": {
        "colab": {
          "base_uri": "https://localhost:8080/"
        },
        "id": "baxA-LjKSLwj",
        "outputId": "859cdb37-1f9c-4606-88ea-c68441977301"
      },
      "execution_count": 18,
      "outputs": [
        {
          "output_type": "stream",
          "name": "stderr",
          "text": [
            "Some weights of the model checkpoint at klue/roberta-base were not used when initializing RobertaModel: ['lm_head.bias', 'lm_head.dense.bias', 'lm_head.decoder.weight', 'lm_head.decoder.bias', 'lm_head.layer_norm.weight', 'lm_head.layer_norm.bias', 'lm_head.dense.weight']\n",
            "- This IS expected if you are initializing RobertaModel from the checkpoint of a model trained on another task or with another architecture (e.g. initializing a BertForSequenceClassification model from a BertForPreTraining model).\n",
            "- This IS NOT expected if you are initializing RobertaModel from the checkpoint of a model that you expect to be exactly identical (initializing a BertForSequenceClassification model from a BertForSequenceClassification model).\n",
            "Some weights of RobertaModel were not initialized from the model checkpoint at klue/roberta-base and are newly initialized: ['roberta.pooler.dense.weight', 'roberta.pooler.dense.bias']\n",
            "You should probably TRAIN this model on a down-stream task to be able to use it for predictions and inference.\n"
          ]
        },
        {
          "output_type": "execute_result",
          "data": {
            "text/plain": [
              "Embedding(32002, 768)"
            ]
          },
          "metadata": {},
          "execution_count": 18
        }
      ]
    },
    {
      "cell_type": "code",
      "source": [
        "model "
      ],
      "metadata": {
        "colab": {
          "base_uri": "https://localhost:8080/"
        },
        "id": "HGLYqwBHSbr_",
        "outputId": "f48d70c9-41b6-49c5-a7fb-01c0cbee5924"
      },
      "execution_count": 19,
      "outputs": [
        {
          "output_type": "execute_result",
          "data": {
            "text/plain": [
              "RobertaModel(\n",
              "  (embeddings): RobertaEmbeddings(\n",
              "    (word_embeddings): Embedding(32002, 768)\n",
              "    (position_embeddings): Embedding(514, 768, padding_idx=1)\n",
              "    (token_type_embeddings): Embedding(1, 768)\n",
              "    (LayerNorm): LayerNorm((768,), eps=1e-05, elementwise_affine=True)\n",
              "    (dropout): Dropout(p=0.1, inplace=False)\n",
              "  )\n",
              "  (encoder): RobertaEncoder(\n",
              "    (layer): ModuleList(\n",
              "      (0-11): 12 x RobertaLayer(\n",
              "        (attention): RobertaAttention(\n",
              "          (self): RobertaSelfAttention(\n",
              "            (query): Linear(in_features=768, out_features=768, bias=True)\n",
              "            (key): Linear(in_features=768, out_features=768, bias=True)\n",
              "            (value): Linear(in_features=768, out_features=768, bias=True)\n",
              "            (dropout): Dropout(p=0.1, inplace=False)\n",
              "          )\n",
              "          (output): RobertaSelfOutput(\n",
              "            (dense): Linear(in_features=768, out_features=768, bias=True)\n",
              "            (LayerNorm): LayerNorm((768,), eps=1e-05, elementwise_affine=True)\n",
              "            (dropout): Dropout(p=0.1, inplace=False)\n",
              "          )\n",
              "        )\n",
              "        (intermediate): RobertaIntermediate(\n",
              "          (dense): Linear(in_features=768, out_features=3072, bias=True)\n",
              "          (intermediate_act_fn): GELUActivation()\n",
              "        )\n",
              "        (output): RobertaOutput(\n",
              "          (dense): Linear(in_features=3072, out_features=768, bias=True)\n",
              "          (LayerNorm): LayerNorm((768,), eps=1e-05, elementwise_affine=True)\n",
              "          (dropout): Dropout(p=0.1, inplace=False)\n",
              "        )\n",
              "      )\n",
              "    )\n",
              "  )\n",
              "  (pooler): RobertaPooler(\n",
              "    (dense): Linear(in_features=768, out_features=768, bias=True)\n",
              "    (activation): Tanh()\n",
              "  )\n",
              ")"
            ]
          },
          "metadata": {},
          "execution_count": 19
        }
      ]
    },
    {
      "cell_type": "code",
      "source": [
        "batch_padding_token.shape, batch_padding_attention_mask.shape"
      ],
      "metadata": {
        "colab": {
          "base_uri": "https://localhost:8080/"
        },
        "id": "3nY3SFy7Sdk_",
        "outputId": "8d60cd45-500c-4b99-9681-c0496e7281f1"
      },
      "execution_count": 20,
      "outputs": [
        {
          "output_type": "execute_result",
          "data": {
            "text/plain": [
              "(torch.Size([3, 109]), torch.Size([3, 109]))"
            ]
          },
          "metadata": {},
          "execution_count": 20
        }
      ]
    },
    {
      "cell_type": "code",
      "source": [
        "batch_padding_token, batch_padding_attention_mask"
      ],
      "metadata": {
        "colab": {
          "base_uri": "https://localhost:8080/"
        },
        "id": "EX9Thu0WP0i8",
        "outputId": "afa1ea1e-4a2a-4398-9da3-fbb010721289"
      },
      "execution_count": 21,
      "outputs": [
        {
          "output_type": "execute_result",
          "data": {
            "text/plain": [
              "(tensor([[    0, 32000,   717,  2259,  4244,  2170,  4144,  2069,  1567,  8843,\n",
              "           2522,  4179,  2098,  2052,  1415,  2051,  2112,  1462, 20536,    18,\n",
              "              2, 32001,  3738,  8843,  2522,  4179,  2098,  2052,  1415,  2279,\n",
              "           2250,  2116,  1160,  2242,  2182,    18,     2, 32000,  4244,  2170,\n",
              "           4144,  2069,  1567,  3611,  2052,  1415,  2051,  2112, 18941,  2203,\n",
              "             18,     2, 32001,  4244,  2170,  4144,  2052,   861,  3826,  2052,\n",
              "           1097,  2116,  1513, 16809,  2182,    35,     2, 32000,  4244,  2138,\n",
              "           1521,  2205,  2259,  3949,  2031,  2170,  2318,  9288,  2178,  2088,\n",
              "           6169,  2069, 27773,  1892,   575,   555,  2227,    18,     2, 32001,\n",
              "           4244,  2138,  1521,  2205,  2259,  3949,  2031,  2170,  2318,  6169,\n",
              "           2069,  6185,  2370, 29062,  2259,  2242,  2182,    18,     2],\n",
              "         [    0, 32000,   717,  2259,  4610,  2170,  7340,  2052,  1415,  2259,\n",
              "           1856,  2052,  2181,  4244,  2138,  1378,  1897,    18,     2, 32001,\n",
              "           4610,  2170,  7340,  2052,  1415,  2279,  2067,  2242,  2182,    18,\n",
              "              2, 32000,  4224,  3611,  7285,   809,  4244,  2138,  1889,  7245,\n",
              "           3689,  4445,  2052,  2275,    18,     2, 32001,  4244,  2138,  3645,\n",
              "            859,  2075,  4445,  2052,  2067,  2918, 10283,    18,  3842,  1889,\n",
              "           2259,   578,  1560, 16809,  2182,    35,     2, 32000,  4244,  6396,\n",
              "           6080,   570,  1415,  5882,  2299,  6791,  4244,  2138,  4703,  2097,\n",
              "           2178,  2259,   575,  2119,  1560,  2073,   575,   555,  2227,    18,\n",
              "              2, 32001,  4244,  2138,  6791,  4703,  2097,  2178, 10554, 29062,\n",
              "           2259,  2242,  2182,    18,     2,     1,     1,     1,     1],\n",
              "         [    0, 32000,   732,   694,  2073,  7638,  2179,  2147,   717,  2259,\n",
              "           3760,  1085,  2065,  2484,  2051,    18,   732,  2116,  4177,  7638,\n",
              "           2052,   859,  2918,  2529,    35,     2, 32001,   694,  2052,  7638,\n",
              "           2179,  2147,  8169,  3624,  2170,  4419,  2205,  2067,  2259,  2242,\n",
              "           2182,    18,     2, 32000,  7638,  2052,   859, 19644,  3977,  2052,\n",
              "          11259,  2275,  1889,  9958,    18,     2, 32001,  7638,  2052,   859,\n",
              "           2015,  3627,  3711,   572,  4703,  2097,  2345,  1295,  1513, 16809,\n",
              "           2182,    35,     2, 32000,  3822,  3797,  3815,  2052,  2379,  7539,\n",
              "           2069,  1595,  2112,  3759,  2138,  1897,  9766,  2918,  2051,    18,\n",
              "              2, 32001,  3815,  2052,  2379,  7539,  3759,  2138,  1897,  2178,\n",
              "          10554, 29062,  2259,  2242,  2182,    18,     2,     1,     1]]),\n",
              " tensor([[1, 1, 1, 1, 1, 1, 1, 1, 1, 1, 1, 1, 1, 1, 1, 1, 1, 1, 1, 1, 1, 1, 1, 1,\n",
              "          1, 1, 1, 1, 1, 1, 1, 1, 1, 1, 1, 1, 1, 1, 1, 1, 1, 1, 1, 1, 1, 1, 1, 1,\n",
              "          1, 1, 1, 1, 1, 1, 1, 1, 1, 1, 1, 1, 1, 1, 1, 1, 1, 1, 1, 1, 1, 1, 1, 1,\n",
              "          1, 1, 1, 1, 1, 1, 1, 1, 1, 1, 1, 1, 1, 1, 1, 1, 1, 1, 1, 1, 1, 1, 1, 1,\n",
              "          1, 1, 1, 1, 1, 1, 1, 1, 1, 1, 1, 1, 1],\n",
              "         [1, 1, 1, 1, 1, 1, 1, 1, 1, 1, 1, 1, 1, 1, 1, 1, 1, 1, 1, 1, 1, 1, 1, 1,\n",
              "          1, 1, 1, 1, 1, 1, 1, 1, 1, 1, 1, 1, 1, 1, 1, 1, 1, 1, 1, 1, 1, 1, 1, 1,\n",
              "          1, 1, 1, 1, 1, 1, 1, 1, 1, 1, 1, 1, 1, 1, 1, 1, 1, 1, 1, 1, 1, 1, 1, 1,\n",
              "          1, 1, 1, 1, 1, 1, 1, 1, 1, 1, 1, 1, 1, 1, 1, 1, 1, 1, 1, 1, 1, 1, 1, 1,\n",
              "          1, 1, 1, 1, 1, 1, 1, 1, 1, 0, 0, 0, 0],\n",
              "         [1, 1, 1, 1, 1, 1, 1, 1, 1, 1, 1, 1, 1, 1, 1, 1, 1, 1, 1, 1, 1, 1, 1, 1,\n",
              "          1, 1, 1, 1, 1, 1, 1, 1, 1, 1, 1, 1, 1, 1, 1, 1, 1, 1, 1, 1, 1, 1, 1, 1,\n",
              "          1, 1, 1, 1, 1, 1, 1, 1, 1, 1, 1, 1, 1, 1, 1, 1, 1, 1, 1, 1, 1, 1, 1, 1,\n",
              "          1, 1, 1, 1, 1, 1, 1, 1, 1, 1, 1, 1, 1, 1, 1, 1, 1, 1, 1, 1, 1, 1, 1, 1,\n",
              "          1, 1, 1, 1, 1, 1, 1, 1, 1, 1, 1, 0, 0]]))"
            ]
          },
          "metadata": {},
          "execution_count": 21
        }
      ]
    },
    {
      "cell_type": "code",
      "source": [
        "\"\"\" for CoM \"\"\"\n",
        "batch_com_out = model(input_ids=batch_padding_token, attention_mask=batch_padding_attention_mask)['last_hidden_state']\n",
        "print(batch_com_out.shape)\n",
        "batch_com_first = batch_com_out[:,0,:] # CLS 토큰의 output 가져오기 위해\n",
        "print(batch_com_first.shape)"
      ],
      "metadata": {
        "colab": {
          "base_uri": "https://localhost:8080/"
        },
        "id": "0hqieiViSlAm",
        "outputId": "71a3b2ae-9d08-4e19-e54f-8ca329807c42"
      },
      "execution_count": 22,
      "outputs": [
        {
          "output_type": "stream",
          "name": "stdout",
          "text": [
            "torch.Size([3, 109, 768])\n",
            "torch.Size([3, 768])\n"
          ]
        }
      ]
    },
    {
      "cell_type": "code",
      "source": [
        "result = model(input_ids=batch_padding_token, attention_mask=batch_padding_attention_mask)\n",
        "result.keys()"
      ],
      "metadata": {
        "colab": {
          "base_uri": "https://localhost:8080/"
        },
        "id": "-PZ0o4JySpdW",
        "outputId": "81ca6957-8aa4-4ba1-deab-8e6bafacbfea"
      },
      "execution_count": 23,
      "outputs": [
        {
          "output_type": "execute_result",
          "data": {
            "text/plain": [
              "odict_keys(['last_hidden_state', 'pooler_output'])"
            ]
          },
          "metadata": {},
          "execution_count": 23
        }
      ]
    },
    {
      "cell_type": "code",
      "source": [
        "import torch\n",
        "\n",
        "# 발화1: feature1 [1, 768]\n",
        "# 발화3: feature3 [1, 768]\n",
        "# 발화6에 해당하는 감정을 예측할 때 발화1, 발화3의 정보를 사용할 것\n",
        "# feature1 + feature3\n",
        "# (feature1, feature6) 어텐션 weights w1\n",
        "# (feature3, feature6) 어텐션 weights w3\n",
        "# w1*feature1 + w3*feature6\n",
        "# GRU(feature1, feature3)\n",
        "\n",
        "\"\"\" GRU 세팅 \"\"\"\n",
        "import torch.nn as nn \n",
        "hiddenDim = model.config.hidden_size\n",
        "zero = torch.empty(2, 1, hiddenDim)\n",
        "h0 = torch.zeros_like(zero) # (num_layers * num_directions, batch, hidden_size)\n",
        "speakerGRU = nn.GRU(hiddenDim, hiddenDim, 2, dropout=0.3) # (input, hidden, num_layer) (BERT_emb, BERT_emb, num_layer)\n",
        "\n",
        "\"\"\" GRU 통과 --> PM 결과 \"\"\"\n",
        "batch_pm_gru_first = []\n",
        "for PM_inputs in batch_PM_input:\n",
        "    if PM_inputs:\n",
        "        pm_outs = []\n",
        "        for PM_input in PM_inputs:\n",
        "            pm_out = model(PM_input)['last_hidden_state'][:,0,:] # CLS의 출력/attention에 해당하는 것을 명시하지 않고 토큰들만 넣어 pm 출력 뽑아냄 그중 CLS\n",
        "            pm_outs.append(pm_out)\n",
        "        pm_outs = torch.cat(pm_outs, 0).unsqueeze(1) # (speaker_num, batch=1, hidden_dim)로 만듬 토치텐서\n",
        "        pm_gru_outs, _ = speakerGRU(pm_outs, h0) # (speaker_num, batch=1, hidden_dim)로 만듬 토치텐서서 pm_outs의 hs 계산하기전 h0로 초기화하는 것/ 그리고 model의 hs와 현재 발화자의 값을 가져와 hs를 업데이트 하는 것이다.\n",
        "        pm_gru_first = pm_gru_outs[0,:,:] # (1, hidden_dim) 첫번째것이이 중요하니 해당하는 것을 가져와서 사용함\n",
        "        batch_pm_gru_first.append(pm_gru_first)\n",
        "    else:\n",
        "        batch_pm_gru_first.append(torch.zeros(1, hiddenDim)) #pm입력이 없는 경우 torch zero를 넣어준다.\n",
        "batch_pm_gru_first = torch.cat(batch_pm_gru_first, 0)"
      ],
      "metadata": {
        "id": "Hb9y4ZrxTOqW"
      },
      "execution_count": 24,
      "outputs": []
    },
    {
      "cell_type": "code",
      "source": [
        "batch_pm_gru_first.shape"
      ],
      "metadata": {
        "colab": {
          "base_uri": "https://localhost:8080/"
        },
        "id": "njuNpR0_TYYm",
        "outputId": "2ac7e8f5-57ff-4002-e35f-a80a3a30ddcb"
      },
      "execution_count": 25,
      "outputs": [
        {
          "output_type": "execute_result",
          "data": {
            "text/plain": [
              "torch.Size([3, 768])"
            ]
          },
          "metadata": {},
          "execution_count": 25
        }
      ]
    },
    {
      "cell_type": "code",
      "source": [
        "dev_dataset.emoList"
      ],
      "metadata": {
        "id": "8DJZw9SwTgOt",
        "colab": {
          "base_uri": "https://localhost:8080/"
        },
        "outputId": "37184b49-fb50-48c6-8b21-b35a9bdf837c"
      },
      "execution_count": 26,
      "outputs": [
        {
          "output_type": "execute_result",
          "data": {
            "text/plain": [
              "['분노', '슬픔', '불안', '상처', '당황', '기쁨']"
            ]
          },
          "metadata": {},
          "execution_count": 26
        }
      ]
    },
    {
      "cell_type": "code",
      "source": [
        "\"\"\" score matrix \"\"\"\n",
        "clsNum = len(dev_dataset.emoList)\n",
        "print(clsNum)\n",
        "W = nn.Linear(hiddenDim, clsNum)\n",
        "print(W)\n",
        "first_output = W(batch_com_first + batch_pm_gru_first)\n",
        "print(first_output.shape) # (B, C)"
      ],
      "metadata": {
        "colab": {
          "base_uri": "https://localhost:8080/"
        },
        "id": "-BZKlS-lQycO",
        "outputId": "36613142-21f6-4858-dc42-e190a58c3fd4"
      },
      "execution_count": 27,
      "outputs": [
        {
          "output_type": "stream",
          "name": "stdout",
          "text": [
            "6\n",
            "Linear(in_features=768, out_features=6, bias=True)\n",
            "torch.Size([3, 6])\n"
          ]
        }
      ]
    },
    {
      "cell_type": "code",
      "source": [
        "from transformers import AutoModel, AutoTokenizer\n",
        "import torch\n",
        "import torch.nn as nn\n",
        "\n",
        "class ERC_model(nn.Module):\n",
        "    def __init__(self, clsNum):\n",
        "        super(ERC_model, self).__init__()\n",
        "        self.com_model = AutoModel.from_pretrained('klue/roberta-base')\n",
        "        self.pm_model =  AutoModel.from_pretrained('klue/roberta-base')\n",
        "        self.tokenizer =  AutoTokenizer.from_pretrained('klue/roberta-base')\n",
        "\n",
        "        special_words = [\"#hh#\", \"#hs#\"] \n",
        "        self.tokenizer.add_special_tokens({\"additional_special_tokens\": special_words}) \n",
        "        self.com_model.resize_token_embeddings(len(self.tokenizer))\n",
        "        self.pm_model.resize_token_embeddings(len(self.tokenizer))\n",
        "\n",
        "        \"\"\"GRU\"\"\"\n",
        "        self.hiddenDim = self.com_model.config.hidden_size\n",
        "        zero = torch.empty(2, 1, self.hiddenDim)\n",
        "        self.h0 = torch.zeros_like(zero)\n",
        "        self.speakerGRU = nn.GRU(self.hiddenDim, self.hiddenDim, 2, dropout=0.3)\n",
        "\n",
        "        \"\"\"score matrix\"\"\"\n",
        "        self.W = nn.Linear(self.hiddenDim, clsNum)\n",
        "\n",
        "    def forward(self, batch_padding_token, batch_padding_attention_mask, batch_PM_input):\n",
        "        \"\"\"for CoM\"\"\"\n",
        "        batch_com_out = self.com_model(input_ids=batch_padding_token, attention_mask=batch_padding_attention_mask)['last_hidden_state']\n",
        "        batch_com_first = batch_com_out[:,0,:]\n",
        "\n",
        "        \"\"\" GRU 통과 --> PM 결과 \"\"\"\n",
        "        batch_pm_gru_first = []\n",
        "        for PM_inputs in batch_PM_input:\n",
        "            if PM_inputs:\n",
        "                pm_outs = []\n",
        "                for PM_input in PM_inputs:\n",
        "                    pm_out = self.pm_model(PM_input)['last_hidden_state'][:,0,:] # CLS의 출력/attention에 해당하는 것을 명시하지 않고 토큰들만 넣어 pm 출력 뽑아냄 그중 CLS\n",
        "                    pm_outs.append(pm_out)\n",
        "                pm_outs = torch.cat(pm_outs, 0).unsqueeze(1) # (speaker_num, batch=1, hidden_dim)로 만듬 토치텐서\n",
        "                pm_gru_outs, _ = self.speakerGRU(pm_outs, h0) # (speaker_num, batch=1, hidden_dim)로 만듬 토치텐서서 pm_outs의 hs 계산하기전 h0로 초기화하는 것/ 그리고 model의 hs와 현재 발화자의 값을 가져와 hs를 업데이트 하는 것이다.\n",
        "                pm_gru_first = pm_gru_outs[0,:,:] # (1, hidden_dim) 첫번째것이이 중요하니 해당하는 것을 가져와서 사용함\n",
        "                batch_pm_gru_first.append(pm_gru_first)\n",
        "            else:\n",
        "                batch_pm_gru_first.append(torch.zeros(1, hiddenDim)) #pm입력이 없는 경우 torch zero를 넣어준다.\n",
        "        batch_pm_gru_first = torch.cat(batch_pm_gru_first, 0)\n",
        "\n",
        "        \"\"\"score matrix\"\"\"\n",
        "        first_output = self.W(batch_com_first + batch_pm_gru_first)\n",
        "\n",
        "        return first_output"
      ],
      "metadata": {
        "id": "DYMeGjGZR99z"
      },
      "execution_count": 28,
      "outputs": []
    },
    {
      "cell_type": "code",
      "source": [
        "clsNum = len(dev_dataset.emoList)\n",
        "model = ERC_model(clsNum)\n",
        "result = model(batch_padding_token, batch_padding_attention_mask, batch_PM_input) # forward에 들어가서 동작\n",
        "print(result.shape)"
      ],
      "metadata": {
        "colab": {
          "base_uri": "https://localhost:8080/"
        },
        "id": "xYASFnMRK16X",
        "outputId": "574723b3-6a8b-4a03-c995-6a5f93a81330"
      },
      "execution_count": 29,
      "outputs": [
        {
          "output_type": "stream",
          "name": "stderr",
          "text": [
            "Some weights of the model checkpoint at klue/roberta-base were not used when initializing RobertaModel: ['lm_head.bias', 'lm_head.dense.bias', 'lm_head.decoder.weight', 'lm_head.decoder.bias', 'lm_head.layer_norm.weight', 'lm_head.layer_norm.bias', 'lm_head.dense.weight']\n",
            "- This IS expected if you are initializing RobertaModel from the checkpoint of a model trained on another task or with another architecture (e.g. initializing a BertForSequenceClassification model from a BertForPreTraining model).\n",
            "- This IS NOT expected if you are initializing RobertaModel from the checkpoint of a model that you expect to be exactly identical (initializing a BertForSequenceClassification model from a BertForSequenceClassification model).\n",
            "Some weights of RobertaModel were not initialized from the model checkpoint at klue/roberta-base and are newly initialized: ['roberta.pooler.dense.weight', 'roberta.pooler.dense.bias']\n",
            "You should probably TRAIN this model on a down-stream task to be able to use it for predictions and inference.\n",
            "Some weights of the model checkpoint at klue/roberta-base were not used when initializing RobertaModel: ['lm_head.bias', 'lm_head.dense.bias', 'lm_head.decoder.weight', 'lm_head.decoder.bias', 'lm_head.layer_norm.weight', 'lm_head.layer_norm.bias', 'lm_head.dense.weight']\n",
            "- This IS expected if you are initializing RobertaModel from the checkpoint of a model trained on another task or with another architecture (e.g. initializing a BertForSequenceClassification model from a BertForPreTraining model).\n",
            "- This IS NOT expected if you are initializing RobertaModel from the checkpoint of a model that you expect to be exactly identical (initializing a BertForSequenceClassification model from a BertForSequenceClassification model).\n",
            "Some weights of RobertaModel were not initialized from the model checkpoint at klue/roberta-base and are newly initialized: ['roberta.pooler.dense.weight', 'roberta.pooler.dense.bias']\n",
            "You should probably TRAIN this model on a down-stream task to be able to use it for predictions and inference.\n"
          ]
        },
        {
          "output_type": "stream",
          "name": "stdout",
          "text": [
            "torch.Size([3, 6])\n"
          ]
        }
      ]
    },
    {
      "cell_type": "code",
      "source": [
        "# !touch /content/drive/MyDrive/인공지능/대화속감정인식/model_v2.py"
      ],
      "metadata": {
        "id": "XnTGprwOMpCd"
      },
      "execution_count": 30,
      "outputs": []
    },
    {
      "cell_type": "markdown",
      "source": [
        "## 평가"
      ],
      "metadata": {
        "id": "vDPCmiHpmBj0"
      }
    },
    {
      "cell_type": "code",
      "source": [
        "import torch\n",
        "from tqdm import tqdm\n",
        "def CalACC(model, dataloader):\n",
        "    model.eval()\n",
        "    correct = 0 \n",
        "    label_list = []\n",
        "    pred_list = []\n",
        "    \n",
        "    # label arragne\n",
        "    with torch.no_grad():\n",
        "        for i_batch, data in enumerate(tqdm(dataloader)):\n",
        "            \"\"\"Prediction\"\"\"\n",
        "            batch_padding_token, batch_padding_attention_mask, batch_PM_input, batch_label = data\n",
        "            batch_padding_token = batch_padding_token.cuda()\n",
        "            batch_padding_attention_mask = batch_padding_attention_mask.cuda()\n",
        "            batch_PM_input = [[x2.cuda() for x2 in x1] for x1 in batch_PM_input]\n",
        "            batch_label = batch_label.cuda()        \n",
        "\n",
        "            \"\"\"Prediction\"\"\"\n",
        "            pred_logits = erc_model(batch_padding_token, batch_padding_attention_mask, batch_PM_input)\n",
        "            \n",
        "            \"\"\"Calculation\"\"\"    \n",
        "            pred_label = pred_logits.argmax(1).item()\n",
        "            true_label = batch_label.item()\n",
        "            \n",
        "            pred_list.append(pred_label)\n",
        "            label_list.append(true_label)\n",
        "            if pred_label == true_label:\n",
        "                correct += 1\n",
        "        acc = correct/len(dataloader)\n",
        "    return acc, pred_list, label_list"
      ],
      "metadata": {
        "id": "RqRBzB5ERFLS"
      },
      "execution_count": 31,
      "outputs": []
    },
    {
      "cell_type": "code",
      "source": [
        "import sys\n",
        "sys.path.append('/content/drive/MyDrive/인공지능/대화속감정인식')\n",
        "from dataset_v2 import data_loader\n",
        "from torch.utils.data import DataLoader\n",
        "\n",
        "train_dataset = data_loader(train_path)\n",
        "dev_dataset = data_loader(valid_path)\n",
        "test_dataset = data_loader(valid_path)\n",
        "\n",
        "train_dataloader = DataLoader(train_dataset, batch_size=1, shuffle=True, num_workers=4, collate_fn=train_dataset.collate_fn)\n",
        "dev_dataloader = DataLoader(dev_dataset, batch_size=1, shuffle=True, num_workers=4, collate_fn=dev_dataset.collate_fn)\n",
        "test_dataloader = DataLoader(test_dataset, batch_size=1, shuffle=True, num_workers=4, collate_fn=test_dataset.collate_fn)"
      ],
      "metadata": {
        "id": "h-6olnWLnYfh"
      },
      "execution_count": 32,
      "outputs": []
    },
    {
      "cell_type": "code",
      "source": [
        "len(train_dataloader), len(dev_dataloader), len(test_dataloader)"
      ],
      "metadata": {
        "colab": {
          "base_uri": "https://localhost:8080/"
        },
        "id": "YcJLv1uMn0WV",
        "outputId": "3aeb66a2-0d5b-4d77-bf0f-0314770bc83b"
      },
      "execution_count": 33,
      "outputs": [
        {
          "output_type": "execute_result",
          "data": {
            "text/plain": [
              "(51628, 6640, 6640)"
            ]
          },
          "metadata": {},
          "execution_count": 33
        }
      ]
    },
    {
      "cell_type": "code",
      "source": [
        "# sys.path.append('/content/drive/MyDrive/인공지능/대화속감정인식')\n",
        "# from model_v2 import ERC_model\n",
        "# clsNum = len(train_dataset.emoList)\n",
        "# erc_model = ERC_model(clsNum).cuda()"
      ],
      "metadata": {
        "id": "D8Epie1nojM9"
      },
      "execution_count": 34,
      "outputs": []
    },
    {
      "cell_type": "code",
      "source": [
        "# from sklearn.metrics import precision_recall_fscore_support\n",
        "# dev_acc, dev_pred_list, dev_label_list = CalACC(erc_model, dev_dataloader)\n",
        "# dev_pre, dev_rec, dev_fbeta, _ = precision_recall_fscore_support(dev_label_list, dev_pred_list, average='weighted')"
      ],
      "metadata": {
        "id": "zRhtk_aKoq-U"
      },
      "execution_count": 35,
      "outputs": []
    },
    {
      "cell_type": "markdown",
      "source": [
        "## 학습"
      ],
      "metadata": {
        "id": "tqldL8Nuqxw2"
      }
    },
    {
      "cell_type": "code",
      "source": [
        "# import torch.nn as nn\n",
        "# def CELoss(pred_outs, labels):\n",
        "#     \"\"\"\n",
        "#         pred_outs: [batch, clsNum]\n",
        "#         labels : [batch]\n",
        "#     \"\"\"\n",
        "#     loss = nn.CrossEntropyLoss()\n",
        "#     loss_val = loss(pred_outs, labels)\n",
        "#     return loss_val"
      ],
      "metadata": {
        "id": "ZJTruyBXo1cc"
      },
      "execution_count": 36,
      "outputs": []
    },
    {
      "cell_type": "code",
      "source": [
        "# import torch\n",
        "# from transformers import get_linear_schedule_with_warmup, AutoTokenizer\n",
        "# from tqdm import tqdm\n",
        "# import argparse\n",
        "# import pdb\n",
        "# import os\n",
        "# import sys\n",
        "# sys.path.append('/content/drive/MyDrive/인공지능/대화속감정인식')\n",
        "# from dataset_v2 import data_loader\n",
        "# from model_v2 import ERC_model\n",
        "# from torch.utils.data import DataLoader\n",
        "\n",
        "# import logging\n",
        "\n",
        "# # 로그 생성\n",
        "# logger = logging.getLogger()\n",
        "\n",
        "# # 로그의 출력 기준 설정\n",
        "# logger.setLevel(logging.INFO)\n",
        "\n",
        "# # log 출력\n",
        "# stream_handler = logging.StreamHandler()\n",
        "# logger.addHandler(stream_handler)\n",
        "\n",
        "# # log를 파일에 출력\n",
        "# file_handler = logging.FileHandler('erc.log')\n",
        "# logger.addHandler(file_handler)\n",
        "\n",
        "# def define_argparser():\n",
        "#     p = argparse.ArgumentParser()\n",
        "\n",
        "#     p.add_argument('--train_fn', required=True)\n",
        "#     p.add_argument('--dev_fn', required=True)\n",
        "#     p.add_argument('--test_fn', required=True)\n",
        "#     p.add_argument('--save_fn', required=True)\n",
        "    \n",
        "#     p.add_argument('--epochs', type=int, default=5)\n",
        "#     p.add_argument('--grad_norm', type=int, default=10)\n",
        "#     p.add_argument('--batch_size', type=int, default=1)\n",
        "#     p.add_argument('--num_workers', type=int, default=4)\n",
        "#     p.add_argument('--lr', type=float, default=1e-6)    \n",
        "\n",
        "#     config = p.parse_args()\n",
        "\n",
        "#     return config\n",
        "\n",
        "# def CELoss(pred_outs, labels):\n",
        "#     \"\"\"\n",
        "#         pred_outs: [batch, clsNum]\n",
        "#         labels: [batch]\n",
        "#     \"\"\"\n",
        "#     loss = nn.CrossEntropyLoss()\n",
        "#     loss_val = loss(pred_outs, labels)\n",
        "#     return loss_val\n",
        "\n",
        "# def SaveModel(model, path, tokenizer, config, optimizer, scheduler):\n",
        "#     if not os.path.exists(path):\n",
        "#         os.makedirs(path)\n",
        "\n",
        "#     model.save_pretrained(path)\n",
        "#     tokenizer.save_pretrained(path)\n",
        "#     torch.save(config, model.state_dict(), os.path.join(path, 'model.bin'))    \n",
        "#     logger.info(\"Saving model checkpoint to %s\", path)\n",
        "\n",
        "#     torch.save(optimizer.state_dict(), os.path.join(path, \"optimizer.pt\"))\n",
        "#     torch.save(scheduler.state_dict(), os.path.join(path, \"scheduler.pt\"))\n",
        "#     logger.info(\"Saving optimizer and scheduler states to %s\", path)\n",
        "\n",
        "# def CalACC(model, dataloader):\n",
        "#     model.eval()\n",
        "#     correct = 0\n",
        "#     label_list = []\n",
        "#     pred_list = []\n",
        "    \n",
        "#     # label arragne\n",
        "#     with torch.no_grad():\n",
        "#         for i_batch, data in enumerate(tqdm(dataloader)):\n",
        "#             \"\"\"Prediction\"\"\"\n",
        "#             batch_padding_token, batch_padding_attention_mask, batch_PM_input, batch_label = data\n",
        "#             batch_padding_token = batch_padding_token.cuda()\n",
        "#             batch_padding_attention_mask = batch_padding_attention_mask.cuda()\n",
        "#             batch_PM_input = [[x2.cuda() for x2 in x1] for x1 in batch_PM_input]\n",
        "#             batch_label = batch_label.cuda()        \n",
        "\n",
        "#             \"\"\"Prediction\"\"\"\n",
        "#             pred_logits = erc_model(batch_padding_token, batch_padding_attention_mask, batch_PM_input)\n",
        "            \n",
        "#             \"\"\"Calculation\"\"\"    \n",
        "#             pred_label = pred_logits.argmax(1).item()\n",
        "#             true_label = batch_label.item()\n",
        "            \n",
        "#             pred_list.append(pred_label)\n",
        "#             label_list.append(true_label)\n",
        "#             if pred_label == true_label:\n",
        "#                 correct += 1\n",
        "#         acc = correct/len(dataloader)\n",
        "#     return acc, pred_list, label_list\n",
        "\n",
        "# def main(config):\n",
        "\n",
        "#     tokenizer =  AutoTokenizer.from_pretrained('klue/roberta-base')\n",
        "\n",
        "#     train_dataset = data_loader(config.train_fn)\n",
        "#     dev_dataset = data_loader(config.dev_fn)\n",
        "#     test_dataset = data_loader(config.test_fn)\n",
        "\n",
        "#     train_dataloader = DataLoader(train_dataset, batch_size=config.batch_size, shuffle=True, num_workers=config.num_workers, collate_fn=train_dataset.collate_fn)\n",
        "#     dev_dataloader = DataLoader(dev_dataset, batch_size=config.batch_size, shuffle=False, num_workers=config.num_workers, collate_fn=dev_dataset.collate_fn)\n",
        "#     test_dataloader = DataLoader(test_dataset, batch_size=config.batch_size, shuffle=False, num_workers=config.num_workers, collate_fn=test_dataset.collate_fn)\n",
        "\n",
        "#     clsNum = len(train_dataset.emoList)\n",
        "#     erc_model = ERC_model(clsNum).cuda()\n",
        "\n",
        "#     num_training_steps = len(train_dataset)*config.epochs\n",
        "#     num_warmup_steps = len(train_dataset)\n",
        "#     optimizer = torch.optim.AdamW(erc_model.parameters(), lr=config.lr) # , eps=1e-06, weight_decay=0.01\n",
        "#     scheduler = get_linear_schedule_with_warmup(optimizer, num_warmup_steps=num_warmup_steps, num_training_steps=num_training_steps)\n",
        "\n",
        "#     logger.info(\"##########학습 시작##########\")\n",
        "#     best_dev_fscore = 0\n",
        "#     for epoch in tqdm(range(config.epochs)):\n",
        "#         erc_model.train()\n",
        "#         for i_batch, data in enumerate(tqdm(train_dataloader)):\n",
        "#             batch_padding_token, batch_padding_attention_mask, batch_PM_input, batch_label = data\n",
        "#             batch_padding_token = batch_padding_token.cuda()\n",
        "#             batch_padding_attention_mask = batch_padding_attention_mask.cuda()\n",
        "#             batch_PM_input = [[x2.cuda() for x2 in x1] for x1 in batch_PM_input]\n",
        "#             batch_label = batch_label.cuda()        \n",
        "\n",
        "#             \"\"\"Prediction\"\"\"\n",
        "#             pred_logits = erc_model(batch_padding_token, batch_padding_attention_mask, batch_PM_input)\n",
        "\n",
        "#             \"\"\"Loss calculation & training\"\"\"\n",
        "#             loss_val = CELoss(pred_logits, batch_label)\n",
        "\n",
        "#             loss_val.backward()\n",
        "#             torch.nn.utils.clip_grad_norm_(erc_model.parameters(), config.grad_norm)\n",
        "#             optimizer.step()\n",
        "#             scheduler.step()\n",
        "#             optimizer.zero_grad()\n",
        "\n",
        "\n",
        "#         \"\"\"dev & test evaluation\"\"\"\n",
        "#         erc_model.eval()\n",
        "\n",
        "#         dev_acc, dev_pred_list, dev_label_list = CalACC(erc_model, dev_dataloader)\n",
        "#         dev_pre, dev_rec, dev_fbeta, _ = precision_recall_fscore_support(dev_label_list, dev_pred_list, average='weighted')\n",
        "        \n",
        "#         logger.info(\"Dev W-avg F1: {}\".format(dev_fbeta))\n",
        "        \n",
        "#         test_acc, test_pred_list, test_label_list = CalACC(erc_model, test_dataloader)\n",
        "#         \"\"\"Best Score & Model Save\"\"\"\n",
        "#         if dev_fbeta > best_dev_fscore:\n",
        "#             best_dev_fscore = dev_fbeta\n",
        "\n",
        "#             test_acc, test_pred_list, test_label_list = CalACC(erc_model, test_dataloader)\n",
        "#             test_pre, test_rec, test_fbeta, _ = precision_recall_fscore_support(test_label_list, test_pred_list, average='weighted')                \n",
        "\n",
        "#             SaveModel(erc_model, config.save_path, tokenizer, config, optimizer, scheduler)\n",
        "#             logger.info(\"Epoch:{}, Test W-avg F1: {}\".format(epoch, test_fbeta))\n",
        "\n",
        "\n",
        "# if __name__ == '__main__':\n",
        "#     config = define_argparser()\n",
        "#     main(config)\n"
      ],
      "metadata": {
        "id": "cseDZodevZ0P"
      },
      "execution_count": 37,
      "outputs": []
    },
    {
      "cell_type": "code",
      "source": [
        "# !touch /content/drive/MyDrive/인공지능/대화속감정인식/train_v2.py"
      ],
      "metadata": {
        "id": "AuzPA3mvHb4N"
      },
      "execution_count": 38,
      "outputs": []
    },
    {
      "cell_type": "code",
      "source": [
        "!python /content/drive/MyDrive/인공지능/대화속감정인식/train_v2.py --train_fn \"/content/drive/MyDrive/인공지능/대화속감정인식/data/감성대화말뭉치(최종데이터)_Training.json\" --dev_fn \"/content/drive/MyDrive/인공지능/대화속감정인식/data/감성대화말뭉치(최종데이터)_Validation.json\" --test_fn \"/content/drive/MyDrive/인공지능/대화속감정인식/data/감성대화말뭉치(최종데이터)_Validation.json\" --save_fn \"/content/drive/MyDrive/인공지능/대화속감정인식/checkpoint\" --epochs 5 "
      ],
      "metadata": {
        "id": "X0pp823_HsAM"
      },
      "execution_count": null,
      "outputs": []
    },
    {
      "cell_type": "markdown",
      "source": [
        "## 평가"
      ],
      "metadata": {
        "id": "uMvy_CfWKpek"
      }
    },
    {
      "cell_type": "code",
      "source": [
        "\n",
        "import torch\n",
        "from dataset_v2 import data_loader\n",
        "from torch.utils.data import DataLoader\n",
        "\n",
        "test_dataset = data_loader(valid_path)\n",
        "test_dataloader = DataLoader(test_dataset, batch_size=1, shuffle=False, num_workers=4, collate_fn=test_dataset.collate_fn)\n",
        "\n",
        "from model_v2 import ERC_model\n",
        "clsNum = len(test_dataset.emoList)\n",
        "erc_model = ERC_model(clsNum).cuda()\n",
        "model_path = \"/content/drive/MyDrive/인공지능/대화속감정인식/checkpoint/checkpoint-4/ERC_model.bin\"\n",
        "checkpoint = torch.load(model_path)\n",
        "erc_model.load_state_dict(checkpoint['ERC_model'])\n",
        "erc_model.eval()\n",
        "print('')\n",
        "     "
      ],
      "metadata": {
        "id": "yn5JMxXS8xuC"
      },
      "execution_count": null,
      "outputs": []
    },
    {
      "cell_type": "code",
      "source": [
        "from tqdm import tqdm\n",
        "\n",
        "def ErrorSamples(model, dataloader):\n",
        "    model.eval()\n",
        "    correct = 0\n",
        "    label_list = []\n",
        "    pred_list = []    \n",
        "    \n",
        "    error_samples = []\n",
        "    # label arragne\n",
        "    with torch.no_grad():\n",
        "        for i_batch, data in enumerate(tqdm(dataloader)):\n",
        "            \"\"\"Prediction\"\"\"\n",
        "            batch_padding_token, batch_padding_attention_mask, batch_PM_input, batch_label = data\n",
        "            batch_padding_token = batch_padding_token.cuda()\n",
        "            batch_padding_attention_mask = batch_padding_attention_mask.cuda()\n",
        "            batch_PM_input = [[x2.cuda() for x2 in x1] for x1 in batch_PM_input]\n",
        "            batch_label = batch_label.cuda()        \n",
        "\n",
        "            \"\"\"Prediction\"\"\"\n",
        "            pred_logits,_ = erc_model(batch_padding_token, batch_padding_attention_mask, batch_PM_input)\n",
        "            \n",
        "            \"\"\"Calculation\"\"\"    \n",
        "            pred_label = pred_logits.argmax(1).item()\n",
        "            true_label = batch_label.item()\n",
        "            \n",
        "            pred_list.append(pred_label)\n",
        "            label_list.append(true_label)            \n",
        "            if pred_label != true_label:\n",
        "                error_samples.append([batch_padding_token, true_label, pred_label])\n",
        "            if pred_label == true_label:\n",
        "                correct += 1\n",
        "        acc = correct/len(dataloader)                \n",
        "    return error_samples, acc, pred_list, label_list\n",
        "     "
      ],
      "metadata": {
        "id": "VehMtPRa9KAj"
      },
      "execution_count": 48,
      "outputs": []
    },
    {
      "cell_type": "code",
      "source": [
        "error_samples, acc, pred_list, label_list = ErrorSamples(erc_model, test_dataloader)"
      ],
      "metadata": {
        "colab": {
          "base_uri": "https://localhost:8080/"
        },
        "id": "M1Gae35O9dOP",
        "outputId": "3d32a8e3-d17a-4815-c6f6-9ff2279a5ba8"
      },
      "execution_count": 49,
      "outputs": [
        {
          "output_type": "stream",
          "name": "stderr",
          "text": [
            "100%|██████████| 6640/6640 [03:53<00:00, 28.41it/s]\n"
          ]
        }
      ]
    },
    {
      "cell_type": "code",
      "source": [
        "import random\n",
        "random_error_samples = random.sample(error_samples, 10)\n",
        "     \n",
        "for random_error_sample in random_error_samples:\n",
        "    batch_padding_token, true_label, pred_label = random_error_sample\n",
        "    print('--------------------------------------------------------')\n",
        "    print(\"입력 문장들: \", test_dataset.tokenizer.decode(batch_padding_token.squeeze(0).tolist()))\n",
        "    print(\"정답 감정: \", test_dataset.emoList[true_label])\n",
        "    print(\"예측 감정: \", test_dataset.emoList[pred_label])"
      ],
      "metadata": {
        "colab": {
          "base_uri": "https://localhost:8080/"
        },
        "id": "b5XViLBL9hTf",
        "outputId": "5953eed0-3adf-4a32-b0fa-d38ec52307dc"
      },
      "execution_count": 52,
      "outputs": [
        {
          "output_type": "stream",
          "name": "stdout",
          "text": [
            "--------------------------------------------------------\n",
            "입력 문장들:  [CLS] #hh# 뇌종양인데 아들한테 말을 못 해서 힘들어. [SEP] #hs# 힘드시겠어요. 조금 더 자세히 말씀해 주시겠어요? [SEP] #hh# 아들이 알면 걱정할까 봐 내 병을 아들에게 말 못하고 있어. [SEP] #hs# 아드님에게 말을 못하셨군요. 이 상황을 극복하기 위해 할 수 있는 일에는 어떤 것이 있을까요? [SEP] #hh# 병이 더 악화되기 전에 아내와 의논해야겠어. [SEP] #hs# 아내와 잘 의논하시길 바라요. [SEP]\n",
            "정답 감정:  당황\n",
            "예측 감정:  불안\n",
            "--------------------------------------------------------\n",
            "입력 문장들:  [CLS] #hh# 보청기 없이는 듣기 힘든데 열린 음악회를 보러 갔는데 보청기를 놓고 왔어. [SEP] #hs# 보청기를 놓고 오셔서 굉장히 아쉽고 속상하시겠어요. [SEP] #hh# 그냥 집에 갈지 고민 중이야. [SEP] #hs# 집으로 돌아가실지 고민 중이시군요. 어떻게 해야 후회하지 않을 선택을 할까요? [SEP] #hh# 이미 왔으니까 동영상을 찍어 놓고 집에 가서 제대로 봐야겠어. [SEP] #hs# 동영상을 잘 찍어서 집에서 기분 좋게 보셨으면 좋겠어요. [SEP]\n",
            "정답 감정:  불안\n",
            "예측 감정:  슬픔\n",
            "--------------------------------------------------------\n",
            "입력 문장들:  [CLS] #hh# 직장이 있을 땐 사람 대하는 게 어렵지 않았는데 정년퇴직을 하고 나서 어려워졌어. [SEP] #hs# 사람과의 관계 때문에 걱정이군요. 무엇을 하면 좀 더 나아질까요? [SEP] #hh# 등산 동호회에 가입해서 활동할 생각이야. [SEP] #hs# 운동도 하고 사람들과의 관계도 원만해질 것 같네요. 응원할게요. [SEP]\n",
            "정답 감정:  불안\n",
            "예측 감정:  상처\n",
            "--------------------------------------------------------\n",
            "입력 문장들:  [CLS] #hh# 아들 때문에 싫다는 병원에 억지로 끌려와 검사받게 됐어. [SEP] #hs# 억지로 검사를 받게 되어서 정말 속상하실 것 같아요. [SEP] #hh# 아들이 끌고 와서 억지로 오긴 했지만 이 병원에서 검사받기 싫어. [SEP] #hs# 사용자님의 진심을 아들이 알아주면 좋겠어요. [SEP] #hh# 아들에게 싫다고 의사 표현을 분명히 해야겠어. [SEP] #hs# 아들과의 대화를 통해 검사를 받지 않게 되시면 좋겠어요. [SEP]\n",
            "정답 감정:  분노\n",
            "예측 감정:  상처\n",
            "--------------------------------------------------------\n",
            "입력 문장들:  [CLS] #hh# 휴가를 맞아 친구들과 바다로 낚시를 하러 갔다가 폭풍우를 만나서 나만 살아남아서 죄책감이 들고 슬퍼. [SEP] #hs# 사용자님만 살아남은 것에 죄책감과 슬픈 마음이 드시는군요. [SEP] #hh# 시간을 되돌리고 싶어. 친구들이 나를 원망할까 봐 죄책감이 들고 슬퍼. [SEP] #hs# 죄책감과 슬픈 마음을 어떻게 치유할 수 있을까요? [SEP] #hh# 먼저 떠난 친구들을 위해서라도 현재 내 삶을 포기하지 않고 봉사하며 생을 마감하고 싶어. [SEP] #hs# 봉사하는 활동을 통해 죄책감과 슬픈 마음을 덜어 보고자 하시는군요. [SEP]\n",
            "정답 감정:  슬픔\n",
            "예측 감정:  당황\n",
            "--------------------------------------------------------\n",
            "입력 문장들:  [CLS] #hh# 훌쩍 커버린 자식들을 이젠 무력으로 이길 자신이 없어. [SEP] #hs# 훌쩍 커버린 자식들을 무력으로 이길 자신이 없으셔서 속상하시겠어요. [SEP] #hh# 이젠 혼내도 자식들이 내 말을 듣지 않아. [SEP] #hs# 지금의 상황을 극복할 방법으로 어떤 것이 있을까요? [SEP] #hh# 이젠 무력이 아닌 자식들과 대화로 해결해보려 노력해야지. [SEP] #hs# 당신의 노력이 꼭 좋은 결과로 이어지길 바라요. [SEP]\n",
            "정답 감정:  분노\n",
            "예측 감정:  불안\n",
            "--------------------------------------------------------\n",
            "입력 문장들:  [CLS] #hh# 내 아내가 움직이지 못하는 내 몸을 잡고 계속해서 눈물을 흘렸어. 우는 내 아내를 보니 마음이 너무 아파. [SEP] #hs# 우는 아내를 보니 마음이 아프시군요. 더 자세히 이야기해 주실 수 있나요? [SEP] #hh# 내가 얼마 전에 교통사고를 크게 당했어. 사고 후유증으로 몸을 움직일 수 없게 된 거야. [SEP] #hs# 어떤 것이 슬픔을 덜 느끼게 하는 데 도움이 될까요? [SEP] #hh# 내가 슬픈 것보다 아내가 슬픈 게 더 슬픈 것 같아. 먼저 아내를 달래줘야겠어. [SEP] #hs# 아내의 슬픔이 잘 달래졌으면 좋겠어요. [SEP]\n",
            "정답 감정:  상처\n",
            "예측 감정:  슬픔\n",
            "--------------------------------------------------------\n",
            "입력 문장들:  [CLS] #hh# 아내가 내 항암 치료비를 벌기 위해서 뒤늦게 일을 하기 시작했어. [SEP] #hs# 치료비를 벌기 위해 힘들게 일을 하고 온 아내를 보면서 눈물이 나시는 군요. 슬프시겠어요. [SEP] #hh# 이럴 때는 신은 내 편이 아니라는 생각이 들어. 너무 속상해. [SEP] #hs# 어떻게 하면 지금 상황을 변화시킬 수 있을까요? [SEP] #hh# 아내에게 더 잘해줄 거야. 비록 내가 할 수 있는 건 많지 않지만 아내에게 할 수 있는 건 다 할 거야. [SEP] #hs# 아내에 대한 사랑으로 잘 극복해 나가길 바라요. [SEP]\n",
            "정답 감정:  상처\n",
            "예측 감정:  슬픔\n",
            "--------------------------------------------------------\n",
            "입력 문장들:  [CLS] #hh# 딸이 자꾸 방 정리를 하지 않아. 그래서 정말 짜증이 나. [SEP] #hs# 딸이 방 정리를 하지 않아서 짜증이 나시는군요. [SEP] #hh# 음식을 먹고 치우려고 하지도 않고. 벌레도 벌레지만 건강에도 좋지 않으니까. [SEP] #hs# 지금의 기분을 해결하기 위해 무언가 할 수 있는 방법이 있나요? [SEP] #hh# 모르겠어. 일단 딸에게 다시 차분히 말해봐야 할 것 같아. [SEP] #hs# 딸과의 대화가 원하는 방향으로 끝맺시길 바랄게요. [SEP]\n",
            "정답 감정:  불안\n",
            "예측 감정:  분노\n",
            "--------------------------------------------------------\n",
            "입력 문장들:  [CLS] #hh# 부사장님께서 내가 어려워하는 일을 맡기셨어. [SEP] #hs# 부사장님께서 어려운 업무를 맡기셨군요. [SEP] #hh# 응. 난 이 업무를 잘하고 싶어. [SEP] #hs# 맡은 업무를 잘 할 수 있는 방법을 찾으시는군요. 어떤 방법이 있을까요? [SEP] #hh# 이 업무를 잘하는 직원에게 자문을 받아야겠어. [SEP] #hs# 맡은 업무를 잘하는 직원에게 도움을 받으려 하시는군요. 잘 되길 바랄게요. [SEP]\n",
            "정답 감정:  슬픔\n",
            "예측 감정:  불안\n"
          ]
        }
      ]
    },
    {
      "cell_type": "code",
      "source": [],
      "metadata": {
        "id": "NSvKknxPIz8_"
      },
      "execution_count": null,
      "outputs": []
    }
  ]
}