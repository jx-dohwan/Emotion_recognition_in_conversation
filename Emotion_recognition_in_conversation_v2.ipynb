{
  "nbformat": 4,
  "nbformat_minor": 0,
  "metadata": {
    "colab": {
      "provenance": []
    },
    "kernelspec": {
      "name": "python3",
      "display_name": "Python 3"
    },
    "language_info": {
      "name": "python"
    }
  },
  "cells": [
    {
      "cell_type": "markdown",
      "source": [
        "## 프로젝트 개요\n",
        "- 이 데이터에는 연령, 성별, 컴퓨터, 상황, 질병, 감정에 대한 정보가 들어있다. \n",
        "- 실제 서비스를 위해서 문자 내용만 가지고 감성을 파악해야하기 때문에 위의 모든 데이터를 사용할 수 없다.\n",
        "- 가장 우선시 하여 사용할 데이터는 감정 > 상황 \n",
        "- 대화의 내용으로 질병, 성별, 연령을 유추는 할 수 있지만 그거는 너무 디테일한 내용이다. 우선 감정과 상황을 가지고 프로젝트를 진행 후 나중에 개선을 해보도록 하자"
      ],
      "metadata": {
        "id": "hlHTZcH4vOwQ"
      }
    },
    {
      "cell_type": "code",
      "source": [
        "!pip install transformers"
      ],
      "metadata": {
        "colab": {
          "base_uri": "https://localhost:8080/"
        },
        "id": "iQrFiJlOJROv",
        "outputId": "63fc150d-ba7d-4dad-bbd6-a7bfc548b759"
      },
      "execution_count": 1,
      "outputs": [
        {
          "output_type": "stream",
          "name": "stdout",
          "text": [
            "Looking in indexes: https://pypi.org/simple, https://us-python.pkg.dev/colab-wheels/public/simple/\n",
            "Collecting transformers\n",
            "  Downloading transformers-4.27.4-py3-none-any.whl (6.8 MB)\n",
            "\u001b[2K     \u001b[90m━━━━━━━━━━━━━━━━━━━━━━━━━━━━━━━━━━━━━━━━\u001b[0m \u001b[32m6.8/6.8 MB\u001b[0m \u001b[31m32.5 MB/s\u001b[0m eta \u001b[36m0:00:00\u001b[0m\n",
            "\u001b[?25hRequirement already satisfied: filelock in /usr/local/lib/python3.9/dist-packages (from transformers) (3.10.7)\n",
            "Requirement already satisfied: regex!=2019.12.17 in /usr/local/lib/python3.9/dist-packages (from transformers) (2022.10.31)\n",
            "Collecting huggingface-hub<1.0,>=0.11.0\n",
            "  Downloading huggingface_hub-0.13.3-py3-none-any.whl (199 kB)\n",
            "\u001b[2K     \u001b[90m━━━━━━━━━━━━━━━━━━━━━━━━━━━━━━━━━━━━━━\u001b[0m \u001b[32m199.8/199.8 KB\u001b[0m \u001b[31m19.6 MB/s\u001b[0m eta \u001b[36m0:00:00\u001b[0m\n",
            "\u001b[?25hCollecting tokenizers!=0.11.3,<0.14,>=0.11.1\n",
            "  Downloading tokenizers-0.13.2-cp39-cp39-manylinux_2_17_x86_64.manylinux2014_x86_64.whl (7.6 MB)\n",
            "\u001b[2K     \u001b[90m━━━━━━━━━━━━━━━━━━━━━━━━━━━━━━━━━━━━━━━━\u001b[0m \u001b[32m7.6/7.6 MB\u001b[0m \u001b[31m68.3 MB/s\u001b[0m eta \u001b[36m0:00:00\u001b[0m\n",
            "\u001b[?25hRequirement already satisfied: packaging>=20.0 in /usr/local/lib/python3.9/dist-packages (from transformers) (23.0)\n",
            "Requirement already satisfied: pyyaml>=5.1 in /usr/local/lib/python3.9/dist-packages (from transformers) (6.0)\n",
            "Requirement already satisfied: tqdm>=4.27 in /usr/local/lib/python3.9/dist-packages (from transformers) (4.65.0)\n",
            "Requirement already satisfied: numpy>=1.17 in /usr/local/lib/python3.9/dist-packages (from transformers) (1.22.4)\n",
            "Requirement already satisfied: requests in /usr/local/lib/python3.9/dist-packages (from transformers) (2.27.1)\n",
            "Requirement already satisfied: typing-extensions>=3.7.4.3 in /usr/local/lib/python3.9/dist-packages (from huggingface-hub<1.0,>=0.11.0->transformers) (4.5.0)\n",
            "Requirement already satisfied: certifi>=2017.4.17 in /usr/local/lib/python3.9/dist-packages (from requests->transformers) (2022.12.7)\n",
            "Requirement already satisfied: idna<4,>=2.5 in /usr/local/lib/python3.9/dist-packages (from requests->transformers) (3.4)\n",
            "Requirement already satisfied: urllib3<1.27,>=1.21.1 in /usr/local/lib/python3.9/dist-packages (from requests->transformers) (1.26.15)\n",
            "Requirement already satisfied: charset-normalizer~=2.0.0 in /usr/local/lib/python3.9/dist-packages (from requests->transformers) (2.0.12)\n",
            "Installing collected packages: tokenizers, huggingface-hub, transformers\n",
            "Successfully installed huggingface-hub-0.13.3 tokenizers-0.13.2 transformers-4.27.4\n"
          ]
        }
      ]
    },
    {
      "cell_type": "markdown",
      "source": [
        "## data"
      ],
      "metadata": {
        "id": "uamKLx53iQ1L"
      }
    },
    {
      "cell_type": "code",
      "execution_count": 2,
      "metadata": {
        "id": "uFyYtw_FhwIM"
      },
      "outputs": [],
      "source": [
        "# !unzip /content/drive/MyDrive/인공지능/대화속감정인식/data/Training.zip -d /content/drive/MyDrive/인공지능/대화속감정인식/data\n",
        "# !unzip /content/drive/MyDrive/인공지능/대화속감정인식/data/Validation.zip -d /content/drive/MyDrive/인공지능/대화속감정인식/data"
      ]
    },
    {
      "cell_type": "code",
      "source": [
        "from tqdm import tqdm\n",
        "import glob\n",
        "import json\n",
        "import os\n",
        "import re\n",
        "import csv\n",
        "import pandas as pd\n",
        "from collections import Counter\n",
        "import matplotlib.pyplot as plt"
      ],
      "metadata": {
        "id": "ZwTeL1nllIN1"
      },
      "execution_count": 3,
      "outputs": []
    },
    {
      "cell_type": "code",
      "source": [
        "train_path = \"/content/drive/MyDrive/인공지능/대화속감정인식/data/감성대화말뭉치(최종데이터)_Training.json\"\n",
        "valid_path = \"/content/drive/MyDrive/인공지능/대화속감정인식/data/감성대화말뭉치(최종데이터)_Validation.json\""
      ],
      "metadata": {
        "id": "QtP3oLxdk9Qq"
      },
      "execution_count": 4,
      "outputs": []
    },
    {
      "cell_type": "markdown",
      "source": [
        "## 데이터 확인"
      ],
      "metadata": {
        "id": "PGdSPfplDZok"
      }
    },
    {
      "cell_type": "code",
      "source": [
        "with open(train_path) as f:\n",
        "      data = json.load(f)"
      ],
      "metadata": {
        "id": "bIzrtrfXief-"
      },
      "execution_count": 5,
      "outputs": []
    },
    {
      "cell_type": "code",
      "source": [
        "len(data)"
      ],
      "metadata": {
        "colab": {
          "base_uri": "https://localhost:8080/"
        },
        "id": "B7DvVjJ9lLJm",
        "outputId": "377956c5-8312-4f2e-d4e1-f6e3405a7568"
      },
      "execution_count": 6,
      "outputs": [
        {
          "output_type": "execute_result",
          "data": {
            "text/plain": [
              "51628"
            ]
          },
          "metadata": {},
          "execution_count": 6
        }
      ]
    },
    {
      "cell_type": "code",
      "source": [
        "print(data[0])"
      ],
      "metadata": {
        "colab": {
          "base_uri": "https://localhost:8080/"
        },
        "id": "1qzWQ4pxlVGF",
        "outputId": "fbf5e77b-aa99-49b4-a49f-7c7f74b45498"
      },
      "execution_count": 7,
      "outputs": [
        {
          "output_type": "stream",
          "name": "stdout",
          "text": [
            "{'profile': {'persona-id': 'Pro_05349', 'persona': {'persona-id': 'A02_G02_C01', 'human': ['A02', 'G02'], 'computer': ['C01']}, 'emotion': {'emotion-id': 'S06_D02_E18', 'type': 'E18', 'situation': ['S06', 'D02']}}, 'talk': {'id': {'profile-id': 'Pro_05349', 'talk-id': 'Pro_05349_00053'}, 'content': {'HS01': '일은 왜 해도 해도 끝이 없을까? 화가 난다.', 'SS01': '많이 힘드시겠어요. 주위에 의논할 상대가 있나요?', 'HS02': '그냥 내가 해결하는 게 나아. 남들한테 부담 주고 싶지도 않고.', 'SS02': '혼자 해결하기로 했군요. 혼자서 해결하기 힘들면 주위에 의논할 사람을 찾아보세요. ', 'HS03': '', 'SS03': ''}}}\n"
          ]
        }
      ]
    },
    {
      "cell_type": "markdown",
      "source": [
        "### 감정 데이터 확인"
      ],
      "metadata": {
        "id": "5QrfgcHxDjI9"
      }
    },
    {
      "cell_type": "code",
      "source": [
        "emotion_list = []\n",
        "for i in range(len(data)):\n",
        "  emotion_list.append(data[i]['profile']['emotion']['type'])"
      ],
      "metadata": {
        "id": "TYv8HREvlmM0"
      },
      "execution_count": 8,
      "outputs": []
    },
    {
      "cell_type": "code",
      "source": [
        "counts = Counter(emotion_list)\n",
        "print(counts)"
      ],
      "metadata": {
        "colab": {
          "base_uri": "https://localhost:8080/"
        },
        "id": "6NC2dPbTAh7b",
        "outputId": "66740c04-5e69-4d7f-9b01-65c42f8888bd"
      },
      "execution_count": 9,
      "outputs": [
        {
          "output_type": "stream",
          "name": "stdout",
          "text": [
            "Counter({'E37': 1229, 'E13': 1054, 'E24': 1002, 'E27': 993, 'E31': 991, 'E47': 984, 'E18': 975, 'E32': 971, 'E19': 969, 'E10': 958, 'E20': 958, 'E48': 953, 'E22': 950, 'E45': 949, 'E40': 937, 'E11': 926, 'E58': 918, 'E42': 911, 'E44': 910, 'E23': 906, 'E43': 901, 'E34': 901, 'E51': 900, 'E39': 899, 'E56': 897, 'E41': 896, 'E28': 896, 'E30': 893, 'E29': 884, 'E55': 883, 'E17': 882, 'E12': 875, 'E16': 873, 'E52': 872, 'E21': 870, 'E59': 870, 'E38': 869, 'E53': 865, 'E33': 864, 'E49': 861, 'E36': 860, 'E50': 859, 'E54': 859, 'E15': 845, 'E35': 842, 'E46': 840, 'E25': 838, 'E57': 833, 'E26': 828, 'E14': 803, 'E60': 660, 'E64': 655, 'E67': 639, 'E68': 634, 'E61': 631, 'E62': 609, 'E63': 597, 'E69': 570, 'E66': 568, 'E65': 563})\n"
          ]
        }
      ]
    },
    {
      "cell_type": "markdown",
      "source": [
        "#### 전체 감정"
      ],
      "metadata": {
        "id": "tYD9M7gIDfvg"
      }
    },
    {
      "cell_type": "code",
      "source": [
        "fig = plt.figure(figsize=(10, 5))\n",
        " \n",
        "# 시각화할 데이터\n",
        "x = list(counts.keys())\n",
        "y = list(counts.values())\n",
        " \n",
        "# bar 그래프 생성\n",
        "plt.bar(x, y, color='green')\n",
        " \n",
        "# 그래프 제목 설정\n",
        "plt.title(\"Counts of Unique Values\")\n",
        " \n",
        "# x축과 y축 레이블 설정\n",
        "plt.xlabel(\"Values\")\n",
        "plt.ylabel(\"Counts\")\n",
        " \n",
        "# 그래프 출력\n",
        "plt.show()"
      ],
      "metadata": {
        "colab": {
          "base_uri": "https://localhost:8080/",
          "height": 487
        },
        "id": "XKKFv6MaAi5h",
        "outputId": "481460a7-2dd0-4498-c366-65cf8138448f"
      },
      "execution_count": 10,
      "outputs": [
        {
          "output_type": "display_data",
          "data": {
            "text/plain": [
              "<Figure size 1000x500 with 1 Axes>"
            ],
            "image/png": "[encoded data removed]"
          },
          "metadata": {}
        }
      ]
    },
    {
      "cell_type": "markdown",
      "source": [
        "#### 6개 감정으로 축소"
      ],
      "metadata": {
        "id": "De4Z-UXSDnPC"
      }
    },
    {
      "cell_type": "code",
      "source": [
        "anger_list = []\n",
        "sadness_list = []\n",
        "anxiety_list = []\n",
        "wound_list = []\n",
        "panic_list = []\n",
        "joy_list = []"
      ],
      "metadata": {
        "id": "37Daa8MlFAkK"
      },
      "execution_count": 11,
      "outputs": []
    },
    {
      "cell_type": "code",
      "source": [
        "for i in range(len(data)):\n",
        "  if 10 <= int(data[i]['profile']['emotion']['type'][-2:]) <= 19:\n",
        "    anger_list.append(data[i]['profile']['emotion']['type'])\n",
        "  elif 20 <= int(data[i]['profile']['emotion']['type'][-2:]) <= 29:\n",
        "    sadness_list.append(data[i]['profile']['emotion']['type'])\n",
        "  elif 30 <= int(data[i]['profile']['emotion']['type'][-2:]) <= 39:\n",
        "    anxiety_list.append(data[i]['profile']['emotion']['type'])\n",
        "  elif 40 <= int(data[i]['profile']['emotion']['type'][-2:]) <= 49:\n",
        "    wound_list.append(data[i]['profile']['emotion']['type'])\n",
        "  elif 50 <= int(data[i]['profile']['emotion']['type'][-2:]) <= 59:\n",
        "    panic_list.append(data[i]['profile']['emotion']['type'])\n",
        "  elif 60 <= int(data[i]['profile']['emotion']['type'][-2:]) <= 69:\n",
        "    joy_list.append(data[i]['profile']['emotion']['type'])\n"
      ],
      "metadata": {
        "id": "msGD8A60DF9g"
      },
      "execution_count": 12,
      "outputs": []
    },
    {
      "cell_type": "code",
      "source": [
        "print(len(anger_list))\n",
        "print(len(sadness_list))\n",
        "print(len(anxiety_list))\n",
        "print(len(wound_list))\n",
        "print(len(panic_list))\n",
        "print(len(joy_list))"
      ],
      "metadata": {
        "colab": {
          "base_uri": "https://localhost:8080/"
        },
        "id": "Yxnm9vyBGL5r",
        "outputId": "f49a6f5a-51a8-4d38-b4b8-bfd47355dde6"
      },
      "execution_count": 13,
      "outputs": [
        {
          "output_type": "stream",
          "name": "stdout",
          "text": [
            "9160\n",
            "9125\n",
            "9319\n",
            "9142\n",
            "8756\n",
            "6126\n"
          ]
        }
      ]
    },
    {
      "cell_type": "code",
      "source": [
        "categories = [anger_list, sadness_list, anxiety_list, wound_list, panic_list, joy_list]\n",
        "category_names = ['Anger', 'Sadness', 'Anxiety', 'Wound', 'Panic', 'Joy']\n",
        "\n",
        "category_lengths = [len(category) for category in categories]\n",
        "\n",
        "plt.bar(category_names, category_lengths)\n",
        "plt.xlabel('Category')\n",
        "plt.ylabel('Count')\n",
        "plt.title('Length of each category')\n",
        "plt.show()"
      ],
      "metadata": {
        "colab": {
          "base_uri": "https://localhost:8080/",
          "height": 472
        },
        "id": "kNP86c3CG7XM",
        "outputId": "3eaf746f-b954-4023-b09c-42bc5a42097a"
      },
      "execution_count": 14,
      "outputs": [
        {
          "output_type": "display_data",
          "data": {
            "text/plain": [
              "<Figure size 640x480 with 1 Axes>"
            ],
            "image/png": "[encoded data removed]"
          },
          "metadata": {}
        }
      ]
    },
    {
      "cell_type": "markdown",
      "source": [
        "## 데이터 로더 구현하기\n",
        "- 필요한 데이터\n",
        "  - 대화\n",
        "  - 발화자\n",
        "  - 감정 \n",
        "- 필요한 로직\n",
        "  - 60가지로 나뉘어져 있는 감정을 6개로 바꾼다.\n",
        "  - 각 문장 앞에 CLS 토큰 지정\n",
        "  - 각 발화자 앞에 스페셜 토큰을 지정한다. \n",
        "    - 사람, 시스템, 사람, 시스템, 사람, 시스템 번갈아가며 나오기 때문에 특정 키 값을 가져올 필요없이 간격으로 스폐셜 토큰을 지정하면 될 것 같다.\n",
        "- 데이터를 다음과 같은 형태로 만들기\n",
        "  - [사람, 시스템, 사람, 시스템, 사람, 시스템, 감정]"
      ],
      "metadata": {
        "id": "WqS4OWpoI9JQ"
      }
    },
    {
      "cell_type": "code",
      "source": [
        "data[0]['talk']['content']"
      ],
      "metadata": {
        "colab": {
          "base_uri": "https://localhost:8080/"
        },
        "id": "BTmRJYL7o6WU",
        "outputId": "b78d7ba2-f718-44e2-fb9a-35d33a0b1b8c"
      },
      "execution_count": 32,
      "outputs": [
        {
          "output_type": "execute_result",
          "data": {
            "text/plain": [
              "{'HS01': '일은 왜 해도 해도 끝이 없을까? 화가 난다.',\n",
              " 'SS01': '많이 힘드시겠어요. 주위에 의논할 상대가 있나요?',\n",
              " 'HS02': '그냥 내가 해결하는 게 나아. 남들한테 부담 주고 싶지도 않고.',\n",
              " 'SS02': '혼자 해결하기로 했군요. 혼자서 해결하기 힘들면 주위에 의논할 사람을 찾아보세요. ',\n",
              " 'HS03': '',\n",
              " 'SS03': ''}"
            ]
          },
          "metadata": {},
          "execution_count": 32
        }
      ]
    },
    {
      "cell_type": "code",
      "source": [
        "for k,v in enumerate(data[0]['talk']['content']):\n",
        "  print(k)"
      ],
      "metadata": {
        "colab": {
          "base_uri": "https://localhost:8080/"
        },
        "id": "F5BX_gL2oK67",
        "outputId": "36e9700b-4ed1-447a-81a9-90dadcd0b977"
      },
      "execution_count": 31,
      "outputs": [
        {
          "output_type": "stream",
          "name": "stdout",
          "text": [
            "0\n",
            "1\n",
            "2\n",
            "3\n",
            "4\n",
            "5\n"
          ]
        }
      ]
    },
    {
      "cell_type": "code",
      "source": [
        "data_values = list(data[0]['talk']['content'].values())\n",
        "values = [val for val in data_values if val != '']"
      ],
      "metadata": {
        "id": "t2LGGT7spOZC"
      },
      "execution_count": 33,
      "outputs": []
    },
    {
      "cell_type": "code",
      "source": [
        "with open(train_path) as f:\n",
        "    data = json.load(f)\n",
        "\n",
        "session_dataset  = []\n",
        "\n",
        "for i in range(len(data)):\n",
        "  if 10 <= int(data[i]['profile']['emotion']['type'][-2:]) <= 19:\n",
        "    data[i]['profile']['emotion']['type'] = 'Anger'\n",
        "  elif 20 <= int(data[i]['profile']['emotion']['type'][-2:]) <= 29:\n",
        "    data[i]['profile']['emotion']['type'] = 'Sadness'\n",
        "  elif 30 <= int(data[i]['profile']['emotion']['type'][-2:]) <= 39:\n",
        "    data[i]['profile']['emotion']['type'] = 'Anxiety'\n",
        "  elif 40 <= int(data[i]['profile']['emotion']['type'][-2:]) <= 49:\n",
        "    data[i]['profile']['emotion']['type'] = 'Wound'\n",
        "  elif 50 <= int(data[i]['profile']['emotion']['type'][-2:]) <= 59:\n",
        "    data[i]['profile']['emotion']['type'] = 'Panic'\n",
        "  elif 60 <= int(data[i]['profile']['emotion']['type'][-2:]) <= 69:\n",
        "    data[i]['profile']['emotion']['type'] = 'Joy'\n",
        "\n",
        "for i in range(len(data)):\n",
        "  data_values = list(data[i]['talk']['content'].values())\n",
        "  values = [val for val in data_values if val != '']\n",
        "  values.append(data[i]['profile']['emotion']['type'])\n",
        "  session.append(values)"
      ],
      "metadata": {
        "id": "1HMpJhLvngBX"
      },
      "execution_count": 35,
      "outputs": []
    },
    {
      "cell_type": "code",
      "source": [
        "session[0]"
      ],
      "metadata": {
        "colab": {
          "base_uri": "https://localhost:8080/"
        },
        "id": "RWXMBhDdqDeb",
        "outputId": "ace377ac-12be-488b-f6e7-fdcf95defc08"
      },
      "execution_count": 36,
      "outputs": [
        {
          "output_type": "execute_result",
          "data": {
            "text/plain": [
              "['일은 왜 해도 해도 끝이 없을까? 화가 난다.',\n",
              " '많이 힘드시겠어요. 주위에 의논할 상대가 있나요?',\n",
              " '그냥 내가 해결하는 게 나아. 남들한테 부담 주고 싶지도 않고.',\n",
              " '혼자 해결하기로 했군요. 혼자서 해결하기 힘들면 주위에 의논할 사람을 찾아보세요. ',\n",
              " 'Anger']"
            ]
          },
          "metadata": {},
          "execution_count": 36
        }
      ]
    },
    {
      "cell_type": "code",
      "source": [
        "print(data[0]['talk']['content']['HS01'])"
      ],
      "metadata": {
        "colab": {
          "base_uri": "https://localhost:8080/"
        },
        "id": "thnNrdOul0BB",
        "outputId": "82ee7dbb-3a31-4039-915c-443fdead929c"
      },
      "execution_count": 25,
      "outputs": [
        {
          "output_type": "stream",
          "name": "stdout",
          "text": [
            "일은 왜 해도 해도 끝이 없을까? 화가 난다.\n"
          ]
        }
      ]
    },
    {
      "cell_type": "code",
      "source": [
        "import json\n",
        "from torch.utils.data import Dataset\n",
        "from transformers import RobertaTokenizer\n",
        "import torch\n",
        "\n",
        "class data_loader(Dataset):\n",
        "    def __init__(self,data_path):\n",
        "        self.tokenizer = RobertaTokenizer.from_pretrained('roberta-base')\n",
        "\n",
        "        with open(train_path) as f:\n",
        "          data = json.load(f)\n",
        "\n",
        "        self.session_dataset  = []\n",
        "\n",
        "        for i in range(len(data)):\n",
        "          if 10 <= int(data[i]['profile']['emotion']['type'][-2:]) <= 19:\n",
        "            data[i]['profile']['emotion']['type'] = 'Anger'\n",
        "          elif 20 <= int(data[i]['profile']['emotion']['type'][-2:]) <= 29:\n",
        "            data[i]['profile']['emotion']['type'] = 'Sadness'\n",
        "          elif 30 <= int(data[i]['profile']['emotion']['type'][-2:]) <= 39:\n",
        "            data[i]['profile']['emotion']['type'] = 'Anxiety'\n",
        "          elif 40 <= int(data[i]['profile']['emotion']['type'][-2:]) <= 49:\n",
        "            data[i]['profile']['emotion']['type'] = 'Wound'\n",
        "          elif 50 <= int(data[i]['profile']['emotion']['type'][-2:]) <= 59:\n",
        "            data[i]['profile']['emotion']['type'] = 'Panic'\n",
        "          elif 60 <= int(data[i]['profile']['emotion']['type'][-2:]) <= 69:\n",
        "            data[i]['profile']['emotion']['type'] = 'Joy'\n",
        "\n",
        "        for i in range(len(data)):\n",
        "          data_values = list(data[i]['talk']['content'].values())\n",
        "          values = [val for val in data_values if val != '']\n",
        "          values.append(data[i]['profile']['emotion']['type'])\n",
        "          session_dataset.append(values)\n",
        "\n",
        "    def __len__(self):\n",
        "        return len(self.session_dataset)\n",
        "\n",
        "    def __getitem__(self,idx):\n",
        "        return self.session.datasetp[idx]"
      ],
      "metadata": {
        "colab": {
          "base_uri": "https://localhost:8080/",
          "height": 136
        },
        "id": "np4U5AoFIX9V",
        "outputId": "ca25940f-dd8e-4510-e751-5c39bcc1d2f5"
      },
      "execution_count": 15,
      "outputs": [
        {
          "output_type": "error",
          "ename": "IndentationError",
          "evalue": "ignored",
          "traceback": [
            "\u001b[0;36m  File \u001b[0;32m\"<ipython-input-15-89f59aa59c3a>\"\u001b[0;36m, line \u001b[0;32m16\u001b[0m\n\u001b[0;31m    def __getitem__():\u001b[0m\n\u001b[0m    ^\u001b[0m\n\u001b[0;31mIndentationError\u001b[0m\u001b[0;31m:\u001b[0m expected an indented block\n"
          ]
        }
      ]
    }
  ]
}