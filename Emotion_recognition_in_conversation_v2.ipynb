{
  "nbformat": 4,
  "nbformat_minor": 0,
  "metadata": {
    "colab": {
      "provenance": []
    },
    "kernelspec": {
      "name": "python3",
      "display_name": "Python 3"
    },
    "language_info": {
      "name": "python"
    }
  },
  "cells": [
    {
      "cell_type": "markdown",
      "source": [
        "## data"
      ],
      "metadata": {
        "id": "uamKLx53iQ1L"
      }
    },
    {
      "cell_type": "code",
      "execution_count": 3,
      "metadata": {
        "colab": {
          "base_uri": "https://localhost:8080/"
        },
        "id": "uFyYtw_FhwIM",
        "outputId": "c7ff1ef7-f354-42d8-a69c-7c1bffbcd1fa"
      },
      "outputs": [
        {
          "output_type": "stream",
          "name": "stdout",
          "text": [
            "Archive:  /content/drive/MyDrive/인공지능/대화속감정인식/data/Training.zip\n",
            "replace /content/drive/MyDrive/인공지능/대화속감정인식/data/감성대화말뭉치(최종데이터)_Training.json? [y]es, [n]o, [A]ll, [N]one, [r]ename: Archive:  /content/drive/MyDrive/인공지능/대화속감정인식/data/Validation.zip\n",
            "  inflating: /content/drive/MyDrive/인공지능/대화속감정인식/data/감성대화말뭉치(최종데이터)_Validation.json  \n"
          ]
        }
      ],
      "source": [
        "# !unzip /content/drive/MyDrive/인공지능/대화속감정인식/data/Training.zip -d /content/drive/MyDrive/인공지능/대화속감정인식/data\n",
        "# !unzip /content/drive/MyDrive/인공지능/대화속감정인식/data/Validation.zip -d /content/drive/MyDrive/인공지능/대화속감정인식/data"
      ]
    },
    {
      "cell_type": "code",
      "source": [
        "from tqdm import tqdm\n",
        "import glob\n",
        "import json\n",
        "import os\n",
        "import re\n",
        "import csv\n",
        "import pandas as pd"
      ],
      "metadata": {
        "id": "ZwTeL1nllIN1"
      },
      "execution_count": 4,
      "outputs": []
    },
    {
      "cell_type": "code",
      "source": [
        "train_path = \"/content/drive/MyDrive/인공지능/대화속감정인식/data/감성대화말뭉치(최종데이터)_Training.json\"\n",
        "valid_path = \"/content/drive/MyDrive/인공지능/대화속감정인식/data/감성대화말뭉치(최종데이터)_Validation.json\""
      ],
      "metadata": {
        "id": "QtP3oLxdk9Qq"
      },
      "execution_count": 6,
      "outputs": []
    },
    {
      "cell_type": "code",
      "source": [
        "with open(valid_path) as f:\n",
        "      data = json.load(f)"
      ],
      "metadata": {
        "id": "bIzrtrfXief-"
      },
      "execution_count": 7,
      "outputs": []
    },
    {
      "cell_type": "code",
      "source": [
        "len(data)"
      ],
      "metadata": {
        "colab": {
          "base_uri": "https://localhost:8080/"
        },
        "id": "B7DvVjJ9lLJm",
        "outputId": "5934a98c-baf6-4c8e-f11a-9dc61227089c"
      },
      "execution_count": 11,
      "outputs": [
        {
          "output_type": "execute_result",
          "data": {
            "text/plain": [
              "6640"
            ]
          },
          "metadata": {},
          "execution_count": 11
        }
      ]
    },
    {
      "cell_type": "code",
      "source": [
        "print(data[0])"
      ],
      "metadata": {
        "colab": {
          "base_uri": "https://localhost:8080/"
        },
        "id": "1qzWQ4pxlVGF",
        "outputId": "1c752411-5d2c-4f08-a897-ff192cd44d2c"
      },
      "execution_count": 12,
      "outputs": [
        {
          "output_type": "stream",
          "name": "stdout",
          "text": [
            "{'profile': {'persona-id': 'Pro_03802', 'persona': {'persona-id': 'A02_G01_C01', 'human': ['A02', 'G01'], 'computer': ['C01']}, 'emotion': {'emotion-id': 'S06_D02_E31', 'type': 'E31', 'situation': ['S06', 'D02']}}, 'talk': {'id': {'profile-id': 'Pro_03802', 'talk-id': 'Pro_03802_00007'}, 'content': {'HS01': '이번 프로젝트에서 발표를 하는데 내가 실수하는 바람에 우리 팀이 감점을 받았어. 너무 미안해.', 'SS01': '실수하시다니 정말 미안한 마음이 크겠어요.', 'HS02': '내 능력이 부족한 거 같은데 그만 다녀야 될거같아.', 'SS02': '능력을 올리려면 어떤 방법이 있을까요?', 'HS03': '퇴근 후 여가에 회사 일을 더 열심히 해서 피해가 가지 않도록 해야겠어.', 'SS03': '꼭 좋은 결과 있길 바라요.'}}}\n"
          ]
        }
      ]
    },
    {
      "cell_type": "code",
      "source": [
        "print(data[1])"
      ],
      "metadata": {
        "colab": {
          "base_uri": "https://localhost:8080/"
        },
        "id": "tuNkTlsallXd",
        "outputId": "fbdd4c54-1582-4741-c3b7-daa1efb4474e"
      },
      "execution_count": 13,
      "outputs": [
        {
          "output_type": "stream",
          "name": "stdout",
          "text": [
            "{'profile': {'persona-id': 'Pro_03802', 'persona': {'persona-id': 'A02_G01_C01', 'human': ['A02', 'G01'], 'computer': ['C01']}, 'emotion': {'emotion-id': 'S06_D02_E31', 'type': 'E31', 'situation': ['S06', 'D02']}}, 'talk': {'id': {'profile-id': 'Pro_03802', 'talk-id': 'Pro_03802_00012'}, 'content': {'HS01': '회사에서 중요한 프로젝트를 혼자 하게 됐는데 솔직히 두렵고 무서워.', 'SS01': '큰 프로젝트를 혼자 하셔서 고민이 많겠네요.', 'HS02': '나에게 너무 크게 느껴지는 중요한 프로젝트라 버거운 느낌이 들어.', 'SS02': '프로젝트를 잘하시기 위해서 어떤 걸 할 수 있나요?', 'HS03': '동료 직원에게 도움을 요청해서 같이 해결해야겠어.', 'SS03': '동료 직원에게 도움을 요청하기로 하셨군요.'}}}\n"
          ]
        }
      ]
    },
    {
      "cell_type": "code",
      "source": [],
      "metadata": {
        "id": "TYv8HREvlmM0"
      },
      "execution_count": null,
      "outputs": []
    }
  ]
}