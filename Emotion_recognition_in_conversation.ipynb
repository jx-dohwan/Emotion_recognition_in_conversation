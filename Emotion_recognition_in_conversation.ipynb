{
  "nbformat": 4,
  "nbformat_minor": 0,
  "metadata": {
    "colab": {
      "provenance": [],
      "mount_file_id": "1URNcc0FULnOgdqkON7rPer1dGmiOF6mr",
      "authorship_tag": "ABX9TyO7BC7EPur4T0sD+hY0pJsD",
      "include_colab_link": true
    },
    "kernelspec": {
      "name": "python3",
      "display_name": "Python 3"
    },
    "language_info": {
      "name": "python"
    }
  },
  "cells": [
    {
      "cell_type": "markdown",
      "metadata": {
        "id": "view-in-github",
        "colab_type": "text"
      },
      "source": [
        "<a href=\"https://colab.research.google.com/github/jx-dohwan/Emotion_recognition_in_conversation.ipynb/blob/main/Emotion_recognition_in_conversation.ipynb\" target=\"_parent\"><img src=\"https://colab.research.google.com/assets/colab-badge.svg\" alt=\"Open In Colab\"/></a>"
      ]
    },
    {
      "cell_type": "code",
      "execution_count": 6,
      "metadata": {
        "colab": {
          "base_uri": "https://localhost:8080/"
        },
        "id": "j5j89T56rQ-X",
        "outputId": "03c11dda-6445-44b1-cf3b-6439e68dccfd"
      },
      "outputs": [
        {
          "output_type": "stream",
          "name": "stdout",
          "text": [
            "Looking in indexes: https://pypi.org/simple, https://us-python.pkg.dev/colab-wheels/public/simple/\n",
            "Requirement already satisfied: transformers==4.4.0 in /usr/local/lib/python3.8/dist-packages (4.4.0)\n",
            "Requirement already satisfied: packaging in /usr/local/lib/python3.8/dist-packages (from transformers==4.4.0) (23.0)\n",
            "Requirement already satisfied: regex!=2019.12.17 in /usr/local/lib/python3.8/dist-packages (from transformers==4.4.0) (2022.6.2)\n",
            "Requirement already satisfied: tokenizers<0.11,>=0.10.1 in /usr/local/lib/python3.8/dist-packages (from transformers==4.4.0) (0.10.3)\n",
            "Requirement already satisfied: filelock in /usr/local/lib/python3.8/dist-packages (from transformers==4.4.0) (3.9.0)\n",
            "Requirement already satisfied: requests in /usr/local/lib/python3.8/dist-packages (from transformers==4.4.0) (2.25.1)\n",
            "Requirement already satisfied: tqdm>=4.27 in /usr/local/lib/python3.8/dist-packages (from transformers==4.4.0) (4.64.1)\n",
            "Requirement already satisfied: numpy>=1.17 in /usr/local/lib/python3.8/dist-packages (from transformers==4.4.0) (1.21.6)\n",
            "Requirement already satisfied: sacremoses in /usr/local/lib/python3.8/dist-packages (from transformers==4.4.0) (0.0.53)\n",
            "Requirement already satisfied: chardet<5,>=3.0.2 in /usr/local/lib/python3.8/dist-packages (from requests->transformers==4.4.0) (4.0.0)\n",
            "Requirement already satisfied: urllib3<1.27,>=1.21.1 in /usr/local/lib/python3.8/dist-packages (from requests->transformers==4.4.0) (1.24.3)\n",
            "Requirement already satisfied: idna<3,>=2.5 in /usr/local/lib/python3.8/dist-packages (from requests->transformers==4.4.0) (2.10)\n",
            "Requirement already satisfied: certifi>=2017.4.17 in /usr/local/lib/python3.8/dist-packages (from requests->transformers==4.4.0) (2022.12.7)\n",
            "Requirement already satisfied: joblib in /usr/local/lib/python3.8/dist-packages (from sacremoses->transformers==4.4.0) (1.2.0)\n",
            "Requirement already satisfied: click in /usr/local/lib/python3.8/dist-packages (from sacremoses->transformers==4.4.0) (7.1.2)\n",
            "Requirement already satisfied: six in /usr/local/lib/python3.8/dist-packages (from sacremoses->transformers==4.4.0) (1.15.0)\n",
            "Looking in indexes: https://pypi.org/simple, https://us-python.pkg.dev/colab-wheels/public/simple/\n",
            "Requirement already satisfied: sklearn in /usr/local/lib/python3.8/dist-packages (0.0.post1)\n"
          ]
        }
      ],
      "source": [
        "!pip install transformers==4.4.0\n",
        "!pip install sklearn"
      ]
    },
    {
      "cell_type": "code",
      "source": [
        "import torch\n",
        "torch.__version__"
      ],
      "metadata": {
        "colab": {
          "base_uri": "https://localhost:8080/",
          "height": 35
        },
        "id": "4NitMYgLr96E",
        "outputId": "ff5bfd91-7a28-4083-8970-d8148cef3c93"
      },
      "execution_count": 7,
      "outputs": [
        {
          "output_type": "execute_result",
          "data": {
            "text/plain": [
              "'1.13.1+cu116'"
            ],
            "application/vnd.google.colaboratory.intrinsic+json": {
              "type": "string"
            }
          },
          "metadata": {},
          "execution_count": 7
        }
      ]
    },
    {
      "cell_type": "code",
      "source": [
        "!nvidia-smi"
      ],
      "metadata": {
        "colab": {
          "base_uri": "https://localhost:8080/"
        },
        "id": "dG3OdnDOsW3X",
        "outputId": "be3f4024-f0d7-406a-ae21-7815f3f28b32"
      },
      "execution_count": 8,
      "outputs": [
        {
          "output_type": "stream",
          "name": "stdout",
          "text": [
            "NVIDIA-SMI has failed because it couldn't communicate with the NVIDIA driver. Make sure that the latest NVIDIA driver is installed and running.\n",
            "\n"
          ]
        }
      ]
    },
    {
      "cell_type": "markdown",
      "source": [
        "##  데이터 다운로드"
      ],
      "metadata": {
        "id": "hxqfhIkktFAI"
      }
    },
    {
      "cell_type": "code",
      "source": [
        "!git clone https://github.com/declare-lab/MELD.git"
      ],
      "metadata": {
        "colab": {
          "base_uri": "https://localhost:8080/"
        },
        "id": "NaHilvsqsr7P",
        "outputId": "1fe4e59d-25f0-40f9-8afe-3d6e5c2c714e"
      },
      "execution_count": 9,
      "outputs": [
        {
          "output_type": "stream",
          "name": "stdout",
          "text": [
            "Cloning into 'MELD'...\n",
            "remote: Enumerating objects: 487, done.\u001b[K\n",
            "remote: Counting objects: 100% (12/12), done.\u001b[K\n",
            "remote: Compressing objects: 100% (12/12), done.\u001b[K\n",
            "remote: Total 487 (delta 6), reused 0 (delta 0), pack-reused 475\u001b[K\n",
            "Receiving objects: 100% (487/487), 8.12 MiB | 41.15 MiB/s, done.\n",
            "Resolving deltas: 100% (254/254), done.\n"
          ]
        }
      ]
    },
    {
      "cell_type": "code",
      "source": [
        "import glob # 어떤 리스트가 있는지 도출하는 것\n",
        "data_path = \"./MELD/data/MELD/*csv\"\n",
        "data_path_list = glob.glob(data_path)\n",
        "print(data_path_list)"
      ],
      "metadata": {
        "colab": {
          "base_uri": "https://localhost:8080/"
        },
        "id": "0JubQmz6tXrt",
        "outputId": "4c6eab55-3e64-4444-ba29-f3ef2d44c980"
      },
      "execution_count": 11,
      "outputs": [
        {
          "output_type": "stream",
          "name": "stdout",
          "text": [
            "['./MELD/data/MELD/test_sent_emo.csv', './MELD/data/MELD/dev_sent_emo.csv', './MELD/data/MELD/train_sent_emo.csv']\n"
          ]
        }
      ]
    },
    {
      "cell_type": "markdown",
      "source": [
        "## 데이터 확인"
      ],
      "metadata": {
        "id": "g3Ignv8Ytr8T"
      }
    },
    {
      "cell_type": "code",
      "source": [
        "!head -5 './MELD/data/MELD/dev_sent_emo.csv' # head는 해당 파일의 앞부분을 보겠다."
      ],
      "metadata": {
        "colab": {
          "base_uri": "https://localhost:8080/"
        },
        "id": "ixQfN_KLtpid",
        "outputId": "e255af5a-ac49-433c-e5f1-aa115dbd037c"
      },
      "execution_count": 13,
      "outputs": [
        {
          "output_type": "stream",
          "name": "stdout",
          "text": [
            "Sr No.,Utterance,Speaker,Emotion,Sentiment,Dialogue_ID,Utterance_ID,Season,Episode,StartTime,EndTime\r\n",
            "1,\"Oh my God, he’s lost it. He’s totally lost it.\",Phoebe,sadness,negative,0,0,4,7,\"00:20:57,256\",\"00:21:00,049\"\r\n",
            "2,What?,Monica,surprise,negative,0,1,4,7,\"00:21:01,927\",\"00:21:03,261\"\r\n",
            "3,\"Or! Or, we could go to the bank, close our accounts and cut them off at the source.\",Ross,neutral,neutral,1,0,4,4,\"00:12:24,660\",\"00:12:30,915\"\r\n",
            "4,You’re a genius!,Chandler,joy,positive,1,1,4,4,\"00:12:32,334\",\"00:12:33,960\"\r\n"
          ]
        }
      ]
    },
    {
      "cell_type": "code",
      "source": [
        "# 데이터 출력\n",
        "import csv #csv 확장자를 읽어들임임\n",
        "for data_path in data_path_list:\n",
        "  f = open(data_path, 'r')\n",
        "  rdr = csv.reader(f)\n",
        "\n",
        "  for line in rdr:\n",
        "    print(line)\n",
        "    break\n",
        "\n",
        "  f.close()\n",
        "  break\n"
      ],
      "metadata": {
        "colab": {
          "base_uri": "https://localhost:8080/"
        },
        "id": "lv-NAgOxt6gM",
        "outputId": "db5e4cde-980b-40d8-d091-9509b4f9e8fe"
      },
      "execution_count": 14,
      "outputs": [
        {
          "output_type": "stream",
          "name": "stdout",
          "text": [
            "['Sr No.', 'Utterance', 'Speaker', 'Emotion', 'Sentiment', 'Dialogue_ID', 'Utterance_ID', 'Season', 'Episode', 'StartTime', 'EndTime']\n"
          ]
        }
      ]
    },
    {
      "cell_type": "markdown",
      "source": [
        "## 세션으로 데이터 분할하기"
      ],
      "metadata": {
        "id": "K7ilfgU3uWHW"
      }
    },
    {
      "cell_type": "markdown",
      "source": [
        "[발화1, 발화2, 발화3] --> 감정예측한다는 것은 발화3에 해당하는 감정을\n",
        "여기서 발화1, 발화2에 해당하는 감정이 있고, 이를 학습데이터로 사용해야된다.\n",
        "--> [발화1], [발화1, 발화2]\n",
        "\n",
        "//\n",
        "모델이 roberta: bidirectional\n",
        ": attention이 양방향\n",
        "\n",
        "[발화1, 발화2, 발화3]: 여기서 발화2에 해당하는 감정을 학습한다.\n",
        ": 동시에 발화1에 해당하는 감정을 학습한다."
      ],
      "metadata": {
        "id": "CVIeMuy0CJNa"
      }
    },
    {
      "cell_type": "code",
      "source": [
        "# 데이터 저장\n",
        "# roberta : bidirectional \n",
        "# attention이 양방향\n",
        "def split(session):\n",
        "    final_data = []\n",
        "    split_session = []\n",
        "    for line in session:\n",
        "        split_session.append(line)\n",
        "        final_data.append(split_session[:])    \n",
        "    return final_data\n",
        "    \n",
        "for data_path in data_path_list:\n",
        "    f = open(data_path, 'r')\n",
        "    rdr = csv.reader(f)# 리스트 하나씩 데이터 불러읽어 들이기\n",
        "    \n",
        "    \"\"\" 세션 데이터 저장할 것\"\"\"\n",
        "    session_dataset = []\n",
        "    session = []\n",
        "    speaker_set = []\n",
        "    \n",
        "    \"\"\" 실제 데이터 저장 방식 \"\"\"\n",
        "    pre_sess = 'start'\n",
        "    for i, line in enumerate(rdr):\n",
        "        if i == 0:\n",
        "            \"\"\" 저장할 데이터들 index 확인 \"\"\"\n",
        "            header  = line\n",
        "            utt_idx = header.index('Utterance')\n",
        "            speaker_idx = header.index('Speaker')\n",
        "            emo_idx = header.index('Emotion')\n",
        "            sess_idx = header.index('Dialogue_ID')\n",
        "        else:\n",
        "            utt = line[utt_idx]\n",
        "            speaker = line[speaker_idx]\n",
        "            \"\"\" 유니크한 스피커로 바꾸기 \"\"\"\n",
        "            if speaker in speaker_set:# 스키퍼셋안에 있는 스피커(즉 이미 있는 스피커라면)\n",
        "                uniq_speaker = speaker_set.index(speaker)# 어떤 사람이 말했는지 그 사람의 index를 uniq로 둔다.\n",
        "            else:# 처음 등장한 인물이라면\n",
        "                speaker_set.append(speaker)# 스피커셋에 스피커를 넣어주고\n",
        "                uniq_speaker = speaker_set.index(speaker)#유니크 스피커가 몇 번째 인덱스에 해당하는지 바꿔줌\n",
        "            emotion = line[emo_idx]\n",
        "            sess = line[sess_idx]\n",
        "            \n",
        "            if pre_sess == 'start' or sess == pre_sess:# sess이 pre_sess이 같거나 start일때 저장\n",
        "                session.append([uniq_speaker, utt, emotion])\n",
        "            else:#다를경우 초기화하고 다시저장?\n",
        "                \"\"\" 세션 데이터 저장 \"\"\"\n",
        "                # session_dataset.append(session)\n",
        "                session_dataset += split(session)# 서브세셔으로 분리하여 데이터로 바꿈\n",
        "                session = [[uniq_speaker, utt, emotion]]\n",
        "                speaker_set = []\n",
        "            pre_sess = sess   \n",
        "    \"\"\" 마지막 세션 저장 \"\"\"\n",
        "    # session_dataset.append(session)\n",
        "    session_dataset += split(session)\n",
        "    f.close()\n",
        "    \n",
        "    \"\"\" 데이터 분할하기 \"\"\"\n",
        "    break"
      ],
      "metadata": {
        "id": "wB2jqfpUyjFa"
      },
      "execution_count": 38,
      "outputs": []
    },
    {
      "cell_type": "code",
      "source": [
        "session_dataset[0]"
      ],
      "metadata": {
        "colab": {
          "base_uri": "https://localhost:8080/"
        },
        "id": "Bz5gG4f4EM-X",
        "outputId": "85a0dd34-0ddd-4a2f-c6e8-2a35f8f36ba9"
      },
      "execution_count": 39,
      "outputs": [
        {
          "output_type": "execute_result",
          "data": {
            "text/plain": [
              "[[0, 'Why do all you’re coffee mugs have numbers on the bottom?', 'surprise']]"
            ]
          },
          "metadata": {},
          "execution_count": 39
        }
      ]
    },
    {
      "cell_type": "code",
      "source": [
        "session_dataset[1]"
      ],
      "metadata": {
        "colab": {
          "base_uri": "https://localhost:8080/"
        },
        "id": "W4nP_cJ4ENLa",
        "outputId": "4337e127-ef7f-480e-c68f-c65aad1a6894"
      },
      "execution_count": 40,
      "outputs": [
        {
          "output_type": "execute_result",
          "data": {
            "text/plain": [
              "[[0, 'Why do all you’re coffee mugs have numbers on the bottom?', 'surprise'],\n",
              " [1,\n",
              "  'Oh. That’s so Monica can keep track. That way if one on them is missing, she can be like, ‘Where’s number 27?!’',\n",
              "  'anger']]"
            ]
          },
          "metadata": {},
          "execution_count": 40
        }
      ]
    },
    {
      "cell_type": "code",
      "source": [],
      "metadata": {
        "id": "EMFZIAB0Epbc"
      },
      "execution_count": null,
      "outputs": []
    }
  ]
}