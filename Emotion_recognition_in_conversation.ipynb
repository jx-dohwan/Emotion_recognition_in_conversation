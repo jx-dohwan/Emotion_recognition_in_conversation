{
  "nbformat": 4,
  "nbformat_minor": 0,
  "metadata": {
    "colab": {
      "provenance": [],
      "mount_file_id": "1URNcc0FULnOgdqkON7rPer1dGmiOF6mr",
      "authorship_tag": "ABX9TyNpIcO8dDXA8MCsGV/Sk1UC",
      "include_colab_link": true
    },
    "kernelspec": {
      "name": "python3",
      "display_name": "Python 3"
    },
    "language_info": {
      "name": "python"
    },
    "gpuClass": "premium",
    "widgets": {
      "application/vnd.jupyter.widget-state+json": {
        "1bbae49ab5234ed18256c94554271133": {
          "model_module": "@jupyter-widgets/controls",
          "model_name": "HBoxModel",
          "model_module_version": "1.5.0",
          "state": {
            "_dom_classes": [],
            "_model_module": "@jupyter-widgets/controls",
            "_model_module_version": "1.5.0",
            "_model_name": "HBoxModel",
            "_view_count": null,
            "_view_module": "@jupyter-widgets/controls",
            "_view_module_version": "1.5.0",
            "_view_name": "HBoxView",
            "box_style": "",
            "children": [
              "IPY_MODEL_06cde5c22e2a44819b83374bf539c9a3",
              "IPY_MODEL_0b3e8bac7dc64d8ab3f44f5d63f53b41",
              "IPY_MODEL_d229add0b23d43ae906dfed14eea3c00"
            ],
            "layout": "IPY_MODEL_bb1a6b1f3f6246df8d6294c769244798"
          }
        },
        "06cde5c22e2a44819b83374bf539c9a3": {
          "model_module": "@jupyter-widgets/controls",
          "model_name": "HTMLModel",
          "model_module_version": "1.5.0",
          "state": {
            "_dom_classes": [],
            "_model_module": "@jupyter-widgets/controls",
            "_model_module_version": "1.5.0",
            "_model_name": "HTMLModel",
            "_view_count": null,
            "_view_module": "@jupyter-widgets/controls",
            "_view_module_version": "1.5.0",
            "_view_name": "HTMLView",
            "description": "",
            "description_tooltip": null,
            "layout": "IPY_MODEL_cc7109b4fc1742eab8fe97b36ad48c10",
            "placeholder": "​",
            "style": "IPY_MODEL_2e43ba9fd8204ad8ac12e54cf7e4cdb4",
            "value": "Downloading (…)olve/main/vocab.json: 100%"
          }
        },
        "0b3e8bac7dc64d8ab3f44f5d63f53b41": {
          "model_module": "@jupyter-widgets/controls",
          "model_name": "FloatProgressModel",
          "model_module_version": "1.5.0",
          "state": {
            "_dom_classes": [],
            "_model_module": "@jupyter-widgets/controls",
            "_model_module_version": "1.5.0",
            "_model_name": "FloatProgressModel",
            "_view_count": null,
            "_view_module": "@jupyter-widgets/controls",
            "_view_module_version": "1.5.0",
            "_view_name": "ProgressView",
            "bar_style": "success",
            "description": "",
            "description_tooltip": null,
            "layout": "IPY_MODEL_bb236ae1c58548ac8a6e751d24f42485",
            "max": 898823,
            "min": 0,
            "orientation": "horizontal",
            "style": "IPY_MODEL_f19c71f431fe4729990b83834c9647c0",
            "value": 898823
          }
        },
        "d229add0b23d43ae906dfed14eea3c00": {
          "model_module": "@jupyter-widgets/controls",
          "model_name": "HTMLModel",
          "model_module_version": "1.5.0",
          "state": {
            "_dom_classes": [],
            "_model_module": "@jupyter-widgets/controls",
            "_model_module_version": "1.5.0",
            "_model_name": "HTMLModel",
            "_view_count": null,
            "_view_module": "@jupyter-widgets/controls",
            "_view_module_version": "1.5.0",
            "_view_name": "HTMLView",
            "description": "",
            "description_tooltip": null,
            "layout": "IPY_MODEL_445d5a26e26341878fb567fa60aad050",
            "placeholder": "​",
            "style": "IPY_MODEL_012e2de6ecf94c5a8d926a71d2ec3109",
            "value": " 899k/899k [00:00&lt;00:00, 2.12MB/s]"
          }
        },
        "bb1a6b1f3f6246df8d6294c769244798": {
          "model_module": "@jupyter-widgets/base",
          "model_name": "LayoutModel",
          "model_module_version": "1.2.0",
          "state": {
            "_model_module": "@jupyter-widgets/base",
            "_model_module_version": "1.2.0",
            "_model_name": "LayoutModel",
            "_view_count": null,
            "_view_module": "@jupyter-widgets/base",
            "_view_module_version": "1.2.0",
            "_view_name": "LayoutView",
            "align_content": null,
            "align_items": null,
            "align_self": null,
            "border": null,
            "bottom": null,
            "display": null,
            "flex": null,
            "flex_flow": null,
            "grid_area": null,
            "grid_auto_columns": null,
            "grid_auto_flow": null,
            "grid_auto_rows": null,
            "grid_column": null,
            "grid_gap": null,
            "grid_row": null,
            "grid_template_areas": null,
            "grid_template_columns": null,
            "grid_template_rows": null,
            "height": null,
            "justify_content": null,
            "justify_items": null,
            "left": null,
            "margin": null,
            "max_height": null,
            "max_width": null,
            "min_height": null,
            "min_width": null,
            "object_fit": null,
            "object_position": null,
            "order": null,
            "overflow": null,
            "overflow_x": null,
            "overflow_y": null,
            "padding": null,
            "right": null,
            "top": null,
            "visibility": null,
            "width": null
          }
        },
        "cc7109b4fc1742eab8fe97b36ad48c10": {
          "model_module": "@jupyter-widgets/base",
          "model_name": "LayoutModel",
          "model_module_version": "1.2.0",
          "state": {
            "_model_module": "@jupyter-widgets/base",
            "_model_module_version": "1.2.0",
            "_model_name": "LayoutModel",
            "_view_count": null,
            "_view_module": "@jupyter-widgets/base",
            "_view_module_version": "1.2.0",
            "_view_name": "LayoutView",
            "align_content": null,
            "align_items": null,
            "align_self": null,
            "border": null,
            "bottom": null,
            "display": null,
            "flex": null,
            "flex_flow": null,
            "grid_area": null,
            "grid_auto_columns": null,
            "grid_auto_flow": null,
            "grid_auto_rows": null,
            "grid_column": null,
            "grid_gap": null,
            "grid_row": null,
            "grid_template_areas": null,
            "grid_template_columns": null,
            "grid_template_rows": null,
            "height": null,
            "justify_content": null,
            "justify_items": null,
            "left": null,
            "margin": null,
            "max_height": null,
            "max_width": null,
            "min_height": null,
            "min_width": null,
            "object_fit": null,
            "object_position": null,
            "order": null,
            "overflow": null,
            "overflow_x": null,
            "overflow_y": null,
            "padding": null,
            "right": null,
            "top": null,
            "visibility": null,
            "width": null
          }
        },
        "2e43ba9fd8204ad8ac12e54cf7e4cdb4": {
          "model_module": "@jupyter-widgets/controls",
          "model_name": "DescriptionStyleModel",
          "model_module_version": "1.5.0",
          "state": {
            "_model_module": "@jupyter-widgets/controls",
            "_model_module_version": "1.5.0",
            "_model_name": "DescriptionStyleModel",
            "_view_count": null,
            "_view_module": "@jupyter-widgets/base",
            "_view_module_version": "1.2.0",
            "_view_name": "StyleView",
            "description_width": ""
          }
        },
        "bb236ae1c58548ac8a6e751d24f42485": {
          "model_module": "@jupyter-widgets/base",
          "model_name": "LayoutModel",
          "model_module_version": "1.2.0",
          "state": {
            "_model_module": "@jupyter-widgets/base",
            "_model_module_version": "1.2.0",
            "_model_name": "LayoutModel",
            "_view_count": null,
            "_view_module": "@jupyter-widgets/base",
            "_view_module_version": "1.2.0",
            "_view_name": "LayoutView",
            "align_content": null,
            "align_items": null,
            "align_self": null,
            "border": null,
            "bottom": null,
            "display": null,
            "flex": null,
            "flex_flow": null,
            "grid_area": null,
            "grid_auto_columns": null,
            "grid_auto_flow": null,
            "grid_auto_rows": null,
            "grid_column": null,
            "grid_gap": null,
            "grid_row": null,
            "grid_template_areas": null,
            "grid_template_columns": null,
            "grid_template_rows": null,
            "height": null,
            "justify_content": null,
            "justify_items": null,
            "left": null,
            "margin": null,
            "max_height": null,
            "max_width": null,
            "min_height": null,
            "min_width": null,
            "object_fit": null,
            "object_position": null,
            "order": null,
            "overflow": null,
            "overflow_x": null,
            "overflow_y": null,
            "padding": null,
            "right": null,
            "top": null,
            "visibility": null,
            "width": null
          }
        },
        "f19c71f431fe4729990b83834c9647c0": {
          "model_module": "@jupyter-widgets/controls",
          "model_name": "ProgressStyleModel",
          "model_module_version": "1.5.0",
          "state": {
            "_model_module": "@jupyter-widgets/controls",
            "_model_module_version": "1.5.0",
            "_model_name": "ProgressStyleModel",
            "_view_count": null,
            "_view_module": "@jupyter-widgets/base",
            "_view_module_version": "1.2.0",
            "_view_name": "StyleView",
            "bar_color": null,
            "description_width": ""
          }
        },
        "445d5a26e26341878fb567fa60aad050": {
          "model_module": "@jupyter-widgets/base",
          "model_name": "LayoutModel",
          "model_module_version": "1.2.0",
          "state": {
            "_model_module": "@jupyter-widgets/base",
            "_model_module_version": "1.2.0",
            "_model_name": "LayoutModel",
            "_view_count": null,
            "_view_module": "@jupyter-widgets/base",
            "_view_module_version": "1.2.0",
            "_view_name": "LayoutView",
            "align_content": null,
            "align_items": null,
            "align_self": null,
            "border": null,
            "bottom": null,
            "display": null,
            "flex": null,
            "flex_flow": null,
            "grid_area": null,
            "grid_auto_columns": null,
            "grid_auto_flow": null,
            "grid_auto_rows": null,
            "grid_column": null,
            "grid_gap": null,
            "grid_row": null,
            "grid_template_areas": null,
            "grid_template_columns": null,
            "grid_template_rows": null,
            "height": null,
            "justify_content": null,
            "justify_items": null,
            "left": null,
            "margin": null,
            "max_height": null,
            "max_width": null,
            "min_height": null,
            "min_width": null,
            "object_fit": null,
            "object_position": null,
            "order": null,
            "overflow": null,
            "overflow_x": null,
            "overflow_y": null,
            "padding": null,
            "right": null,
            "top": null,
            "visibility": null,
            "width": null
          }
        },
        "012e2de6ecf94c5a8d926a71d2ec3109": {
          "model_module": "@jupyter-widgets/controls",
          "model_name": "DescriptionStyleModel",
          "model_module_version": "1.5.0",
          "state": {
            "_model_module": "@jupyter-widgets/controls",
            "_model_module_version": "1.5.0",
            "_model_name": "DescriptionStyleModel",
            "_view_count": null,
            "_view_module": "@jupyter-widgets/base",
            "_view_module_version": "1.2.0",
            "_view_name": "StyleView",
            "description_width": ""
          }
        },
        "09682ed7c06e4590be4eb6e82b6b3e6f": {
          "model_module": "@jupyter-widgets/controls",
          "model_name": "HBoxModel",
          "model_module_version": "1.5.0",
          "state": {
            "_dom_classes": [],
            "_model_module": "@jupyter-widgets/controls",
            "_model_module_version": "1.5.0",
            "_model_name": "HBoxModel",
            "_view_count": null,
            "_view_module": "@jupyter-widgets/controls",
            "_view_module_version": "1.5.0",
            "_view_name": "HBoxView",
            "box_style": "",
            "children": [
              "IPY_MODEL_f18b4d247de745ee9f76d95a5cb9d258",
              "IPY_MODEL_5eeb096c35294568b36d7377b3c602ea",
              "IPY_MODEL_bcc5e00c901440078904e52185a84cfb"
            ],
            "layout": "IPY_MODEL_e425e6d798444273a9678858fd0c387e"
          }
        },
        "f18b4d247de745ee9f76d95a5cb9d258": {
          "model_module": "@jupyter-widgets/controls",
          "model_name": "HTMLModel",
          "model_module_version": "1.5.0",
          "state": {
            "_dom_classes": [],
            "_model_module": "@jupyter-widgets/controls",
            "_model_module_version": "1.5.0",
            "_model_name": "HTMLModel",
            "_view_count": null,
            "_view_module": "@jupyter-widgets/controls",
            "_view_module_version": "1.5.0",
            "_view_name": "HTMLView",
            "description": "",
            "description_tooltip": null,
            "layout": "IPY_MODEL_eb9db898ee3e4cb885927273152f4664",
            "placeholder": "​",
            "style": "IPY_MODEL_e09a886ce665402a8fb1feaf8fdbf27b",
            "value": "Downloading (…)olve/main/merges.txt: 100%"
          }
        },
        "5eeb096c35294568b36d7377b3c602ea": {
          "model_module": "@jupyter-widgets/controls",
          "model_name": "FloatProgressModel",
          "model_module_version": "1.5.0",
          "state": {
            "_dom_classes": [],
            "_model_module": "@jupyter-widgets/controls",
            "_model_module_version": "1.5.0",
            "_model_name": "FloatProgressModel",
            "_view_count": null,
            "_view_module": "@jupyter-widgets/controls",
            "_view_module_version": "1.5.0",
            "_view_name": "ProgressView",
            "bar_style": "success",
            "description": "",
            "description_tooltip": null,
            "layout": "IPY_MODEL_049c42134ce5441baf6c7ad72c87fea2",
            "max": 456318,
            "min": 0,
            "orientation": "horizontal",
            "style": "IPY_MODEL_9c04e10d6b3b48c2a01e2066c5055d9b",
            "value": 456318
          }
        },
        "bcc5e00c901440078904e52185a84cfb": {
          "model_module": "@jupyter-widgets/controls",
          "model_name": "HTMLModel",
          "model_module_version": "1.5.0",
          "state": {
            "_dom_classes": [],
            "_model_module": "@jupyter-widgets/controls",
            "_model_module_version": "1.5.0",
            "_model_name": "HTMLModel",
            "_view_count": null,
            "_view_module": "@jupyter-widgets/controls",
            "_view_module_version": "1.5.0",
            "_view_name": "HTMLView",
            "description": "",
            "description_tooltip": null,
            "layout": "IPY_MODEL_6b1f41608e0f4d209f3aaefcd7904a02",
            "placeholder": "​",
            "style": "IPY_MODEL_58c55f2992fb4427a1aa73634bc571b6",
            "value": " 456k/456k [00:00&lt;00:00, 1.21MB/s]"
          }
        },
        "e425e6d798444273a9678858fd0c387e": {
          "model_module": "@jupyter-widgets/base",
          "model_name": "LayoutModel",
          "model_module_version": "1.2.0",
          "state": {
            "_model_module": "@jupyter-widgets/base",
            "_model_module_version": "1.2.0",
            "_model_name": "LayoutModel",
            "_view_count": null,
            "_view_module": "@jupyter-widgets/base",
            "_view_module_version": "1.2.0",
            "_view_name": "LayoutView",
            "align_content": null,
            "align_items": null,
            "align_self": null,
            "border": null,
            "bottom": null,
            "display": null,
            "flex": null,
            "flex_flow": null,
            "grid_area": null,
            "grid_auto_columns": null,
            "grid_auto_flow": null,
            "grid_auto_rows": null,
            "grid_column": null,
            "grid_gap": null,
            "grid_row": null,
            "grid_template_areas": null,
            "grid_template_columns": null,
            "grid_template_rows": null,
            "height": null,
            "justify_content": null,
            "justify_items": null,
            "left": null,
            "margin": null,
            "max_height": null,
            "max_width": null,
            "min_height": null,
            "min_width": null,
            "object_fit": null,
            "object_position": null,
            "order": null,
            "overflow": null,
            "overflow_x": null,
            "overflow_y": null,
            "padding": null,
            "right": null,
            "top": null,
            "visibility": null,
            "width": null
          }
        },
        "eb9db898ee3e4cb885927273152f4664": {
          "model_module": "@jupyter-widgets/base",
          "model_name": "LayoutModel",
          "model_module_version": "1.2.0",
          "state": {
            "_model_module": "@jupyter-widgets/base",
            "_model_module_version": "1.2.0",
            "_model_name": "LayoutModel",
            "_view_count": null,
            "_view_module": "@jupyter-widgets/base",
            "_view_module_version": "1.2.0",
            "_view_name": "LayoutView",
            "align_content": null,
            "align_items": null,
            "align_self": null,
            "border": null,
            "bottom": null,
            "display": null,
            "flex": null,
            "flex_flow": null,
            "grid_area": null,
            "grid_auto_columns": null,
            "grid_auto_flow": null,
            "grid_auto_rows": null,
            "grid_column": null,
            "grid_gap": null,
            "grid_row": null,
            "grid_template_areas": null,
            "grid_template_columns": null,
            "grid_template_rows": null,
            "height": null,
            "justify_content": null,
            "justify_items": null,
            "left": null,
            "margin": null,
            "max_height": null,
            "max_width": null,
            "min_height": null,
            "min_width": null,
            "object_fit": null,
            "object_position": null,
            "order": null,
            "overflow": null,
            "overflow_x": null,
            "overflow_y": null,
            "padding": null,
            "right": null,
            "top": null,
            "visibility": null,
            "width": null
          }
        },
        "e09a886ce665402a8fb1feaf8fdbf27b": {
          "model_module": "@jupyter-widgets/controls",
          "model_name": "DescriptionStyleModel",
          "model_module_version": "1.5.0",
          "state": {
            "_model_module": "@jupyter-widgets/controls",
            "_model_module_version": "1.5.0",
            "_model_name": "DescriptionStyleModel",
            "_view_count": null,
            "_view_module": "@jupyter-widgets/base",
            "_view_module_version": "1.2.0",
            "_view_name": "StyleView",
            "description_width": ""
          }
        },
        "049c42134ce5441baf6c7ad72c87fea2": {
          "model_module": "@jupyter-widgets/base",
          "model_name": "LayoutModel",
          "model_module_version": "1.2.0",
          "state": {
            "_model_module": "@jupyter-widgets/base",
            "_model_module_version": "1.2.0",
            "_model_name": "LayoutModel",
            "_view_count": null,
            "_view_module": "@jupyter-widgets/base",
            "_view_module_version": "1.2.0",
            "_view_name": "LayoutView",
            "align_content": null,
            "align_items": null,
            "align_self": null,
            "border": null,
            "bottom": null,
            "display": null,
            "flex": null,
            "flex_flow": null,
            "grid_area": null,
            "grid_auto_columns": null,
            "grid_auto_flow": null,
            "grid_auto_rows": null,
            "grid_column": null,
            "grid_gap": null,
            "grid_row": null,
            "grid_template_areas": null,
            "grid_template_columns": null,
            "grid_template_rows": null,
            "height": null,
            "justify_content": null,
            "justify_items": null,
            "left": null,
            "margin": null,
            "max_height": null,
            "max_width": null,
            "min_height": null,
            "min_width": null,
            "object_fit": null,
            "object_position": null,
            "order": null,
            "overflow": null,
            "overflow_x": null,
            "overflow_y": null,
            "padding": null,
            "right": null,
            "top": null,
            "visibility": null,
            "width": null
          }
        },
        "9c04e10d6b3b48c2a01e2066c5055d9b": {
          "model_module": "@jupyter-widgets/controls",
          "model_name": "ProgressStyleModel",
          "model_module_version": "1.5.0",
          "state": {
            "_model_module": "@jupyter-widgets/controls",
            "_model_module_version": "1.5.0",
            "_model_name": "ProgressStyleModel",
            "_view_count": null,
            "_view_module": "@jupyter-widgets/base",
            "_view_module_version": "1.2.0",
            "_view_name": "StyleView",
            "bar_color": null,
            "description_width": ""
          }
        },
        "6b1f41608e0f4d209f3aaefcd7904a02": {
          "model_module": "@jupyter-widgets/base",
          "model_name": "LayoutModel",
          "model_module_version": "1.2.0",
          "state": {
            "_model_module": "@jupyter-widgets/base",
            "_model_module_version": "1.2.0",
            "_model_name": "LayoutModel",
            "_view_count": null,
            "_view_module": "@jupyter-widgets/base",
            "_view_module_version": "1.2.0",
            "_view_name": "LayoutView",
            "align_content": null,
            "align_items": null,
            "align_self": null,
            "border": null,
            "bottom": null,
            "display": null,
            "flex": null,
            "flex_flow": null,
            "grid_area": null,
            "grid_auto_columns": null,
            "grid_auto_flow": null,
            "grid_auto_rows": null,
            "grid_column": null,
            "grid_gap": null,
            "grid_row": null,
            "grid_template_areas": null,
            "grid_template_columns": null,
            "grid_template_rows": null,
            "height": null,
            "justify_content": null,
            "justify_items": null,
            "left": null,
            "margin": null,
            "max_height": null,
            "max_width": null,
            "min_height": null,
            "min_width": null,
            "object_fit": null,
            "object_position": null,
            "order": null,
            "overflow": null,
            "overflow_x": null,
            "overflow_y": null,
            "padding": null,
            "right": null,
            "top": null,
            "visibility": null,
            "width": null
          }
        },
        "58c55f2992fb4427a1aa73634bc571b6": {
          "model_module": "@jupyter-widgets/controls",
          "model_name": "DescriptionStyleModel",
          "model_module_version": "1.5.0",
          "state": {
            "_model_module": "@jupyter-widgets/controls",
            "_model_module_version": "1.5.0",
            "_model_name": "DescriptionStyleModel",
            "_view_count": null,
            "_view_module": "@jupyter-widgets/base",
            "_view_module_version": "1.2.0",
            "_view_name": "StyleView",
            "description_width": ""
          }
        },
        "015404010a994ab586b4cf4b86326649": {
          "model_module": "@jupyter-widgets/controls",
          "model_name": "HBoxModel",
          "model_module_version": "1.5.0",
          "state": {
            "_dom_classes": [],
            "_model_module": "@jupyter-widgets/controls",
            "_model_module_version": "1.5.0",
            "_model_name": "HBoxModel",
            "_view_count": null,
            "_view_module": "@jupyter-widgets/controls",
            "_view_module_version": "1.5.0",
            "_view_name": "HBoxView",
            "box_style": "",
            "children": [
              "IPY_MODEL_001f0a48bda54521bcfdeae089d18469",
              "IPY_MODEL_12d3a5d1774d4ca1b1a16fc281ae7c7e",
              "IPY_MODEL_79e3c59d9a4441f8bc077e0e0497d12f"
            ],
            "layout": "IPY_MODEL_09b9309b4eab4a1bbd21b6f5147a6bb1"
          }
        },
        "001f0a48bda54521bcfdeae089d18469": {
          "model_module": "@jupyter-widgets/controls",
          "model_name": "HTMLModel",
          "model_module_version": "1.5.0",
          "state": {
            "_dom_classes": [],
            "_model_module": "@jupyter-widgets/controls",
            "_model_module_version": "1.5.0",
            "_model_name": "HTMLModel",
            "_view_count": null,
            "_view_module": "@jupyter-widgets/controls",
            "_view_module_version": "1.5.0",
            "_view_name": "HTMLView",
            "description": "",
            "description_tooltip": null,
            "layout": "IPY_MODEL_b5a6b576af104634a95d0da95a1290da",
            "placeholder": "​",
            "style": "IPY_MODEL_b3519bf15e10489ab13ec27973645918",
            "value": "Downloading (…)lve/main/config.json: 100%"
          }
        },
        "12d3a5d1774d4ca1b1a16fc281ae7c7e": {
          "model_module": "@jupyter-widgets/controls",
          "model_name": "FloatProgressModel",
          "model_module_version": "1.5.0",
          "state": {
            "_dom_classes": [],
            "_model_module": "@jupyter-widgets/controls",
            "_model_module_version": "1.5.0",
            "_model_name": "FloatProgressModel",
            "_view_count": null,
            "_view_module": "@jupyter-widgets/controls",
            "_view_module_version": "1.5.0",
            "_view_name": "ProgressView",
            "bar_style": "success",
            "description": "",
            "description_tooltip": null,
            "layout": "IPY_MODEL_81b338ca92cc498283d0b6c8382d605d",
            "max": 481,
            "min": 0,
            "orientation": "horizontal",
            "style": "IPY_MODEL_1077cf2d914d40abaf555744647f42d0",
            "value": 481
          }
        },
        "79e3c59d9a4441f8bc077e0e0497d12f": {
          "model_module": "@jupyter-widgets/controls",
          "model_name": "HTMLModel",
          "model_module_version": "1.5.0",
          "state": {
            "_dom_classes": [],
            "_model_module": "@jupyter-widgets/controls",
            "_model_module_version": "1.5.0",
            "_model_name": "HTMLModel",
            "_view_count": null,
            "_view_module": "@jupyter-widgets/controls",
            "_view_module_version": "1.5.0",
            "_view_name": "HTMLView",
            "description": "",
            "description_tooltip": null,
            "layout": "IPY_MODEL_937e509fc37b468e829a036bad6e2f88",
            "placeholder": "​",
            "style": "IPY_MODEL_8784158defe04b6d862783f6db0d2b97",
            "value": " 481/481 [00:00&lt;00:00, 3.79kB/s]"
          }
        },
        "09b9309b4eab4a1bbd21b6f5147a6bb1": {
          "model_module": "@jupyter-widgets/base",
          "model_name": "LayoutModel",
          "model_module_version": "1.2.0",
          "state": {
            "_model_module": "@jupyter-widgets/base",
            "_model_module_version": "1.2.0",
            "_model_name": "LayoutModel",
            "_view_count": null,
            "_view_module": "@jupyter-widgets/base",
            "_view_module_version": "1.2.0",
            "_view_name": "LayoutView",
            "align_content": null,
            "align_items": null,
            "align_self": null,
            "border": null,
            "bottom": null,
            "display": null,
            "flex": null,
            "flex_flow": null,
            "grid_area": null,
            "grid_auto_columns": null,
            "grid_auto_flow": null,
            "grid_auto_rows": null,
            "grid_column": null,
            "grid_gap": null,
            "grid_row": null,
            "grid_template_areas": null,
            "grid_template_columns": null,
            "grid_template_rows": null,
            "height": null,
            "justify_content": null,
            "justify_items": null,
            "left": null,
            "margin": null,
            "max_height": null,
            "max_width": null,
            "min_height": null,
            "min_width": null,
            "object_fit": null,
            "object_position": null,
            "order": null,
            "overflow": null,
            "overflow_x": null,
            "overflow_y": null,
            "padding": null,
            "right": null,
            "top": null,
            "visibility": null,
            "width": null
          }
        },
        "b5a6b576af104634a95d0da95a1290da": {
          "model_module": "@jupyter-widgets/base",
          "model_name": "LayoutModel",
          "model_module_version": "1.2.0",
          "state": {
            "_model_module": "@jupyter-widgets/base",
            "_model_module_version": "1.2.0",
            "_model_name": "LayoutModel",
            "_view_count": null,
            "_view_module": "@jupyter-widgets/base",
            "_view_module_version": "1.2.0",
            "_view_name": "LayoutView",
            "align_content": null,
            "align_items": null,
            "align_self": null,
            "border": null,
            "bottom": null,
            "display": null,
            "flex": null,
            "flex_flow": null,
            "grid_area": null,
            "grid_auto_columns": null,
            "grid_auto_flow": null,
            "grid_auto_rows": null,
            "grid_column": null,
            "grid_gap": null,
            "grid_row": null,
            "grid_template_areas": null,
            "grid_template_columns": null,
            "grid_template_rows": null,
            "height": null,
            "justify_content": null,
            "justify_items": null,
            "left": null,
            "margin": null,
            "max_height": null,
            "max_width": null,
            "min_height": null,
            "min_width": null,
            "object_fit": null,
            "object_position": null,
            "order": null,
            "overflow": null,
            "overflow_x": null,
            "overflow_y": null,
            "padding": null,
            "right": null,
            "top": null,
            "visibility": null,
            "width": null
          }
        },
        "b3519bf15e10489ab13ec27973645918": {
          "model_module": "@jupyter-widgets/controls",
          "model_name": "DescriptionStyleModel",
          "model_module_version": "1.5.0",
          "state": {
            "_model_module": "@jupyter-widgets/controls",
            "_model_module_version": "1.5.0",
            "_model_name": "DescriptionStyleModel",
            "_view_count": null,
            "_view_module": "@jupyter-widgets/base",
            "_view_module_version": "1.2.0",
            "_view_name": "StyleView",
            "description_width": ""
          }
        },
        "81b338ca92cc498283d0b6c8382d605d": {
          "model_module": "@jupyter-widgets/base",
          "model_name": "LayoutModel",
          "model_module_version": "1.2.0",
          "state": {
            "_model_module": "@jupyter-widgets/base",
            "_model_module_version": "1.2.0",
            "_model_name": "LayoutModel",
            "_view_count": null,
            "_view_module": "@jupyter-widgets/base",
            "_view_module_version": "1.2.0",
            "_view_name": "LayoutView",
            "align_content": null,
            "align_items": null,
            "align_self": null,
            "border": null,
            "bottom": null,
            "display": null,
            "flex": null,
            "flex_flow": null,
            "grid_area": null,
            "grid_auto_columns": null,
            "grid_auto_flow": null,
            "grid_auto_rows": null,
            "grid_column": null,
            "grid_gap": null,
            "grid_row": null,
            "grid_template_areas": null,
            "grid_template_columns": null,
            "grid_template_rows": null,
            "height": null,
            "justify_content": null,
            "justify_items": null,
            "left": null,
            "margin": null,
            "max_height": null,
            "max_width": null,
            "min_height": null,
            "min_width": null,
            "object_fit": null,
            "object_position": null,
            "order": null,
            "overflow": null,
            "overflow_x": null,
            "overflow_y": null,
            "padding": null,
            "right": null,
            "top": null,
            "visibility": null,
            "width": null
          }
        },
        "1077cf2d914d40abaf555744647f42d0": {
          "model_module": "@jupyter-widgets/controls",
          "model_name": "ProgressStyleModel",
          "model_module_version": "1.5.0",
          "state": {
            "_model_module": "@jupyter-widgets/controls",
            "_model_module_version": "1.5.0",
            "_model_name": "ProgressStyleModel",
            "_view_count": null,
            "_view_module": "@jupyter-widgets/base",
            "_view_module_version": "1.2.0",
            "_view_name": "StyleView",
            "bar_color": null,
            "description_width": ""
          }
        },
        "937e509fc37b468e829a036bad6e2f88": {
          "model_module": "@jupyter-widgets/base",
          "model_name": "LayoutModel",
          "model_module_version": "1.2.0",
          "state": {
            "_model_module": "@jupyter-widgets/base",
            "_model_module_version": "1.2.0",
            "_model_name": "LayoutModel",
            "_view_count": null,
            "_view_module": "@jupyter-widgets/base",
            "_view_module_version": "1.2.0",
            "_view_name": "LayoutView",
            "align_content": null,
            "align_items": null,
            "align_self": null,
            "border": null,
            "bottom": null,
            "display": null,
            "flex": null,
            "flex_flow": null,
            "grid_area": null,
            "grid_auto_columns": null,
            "grid_auto_flow": null,
            "grid_auto_rows": null,
            "grid_column": null,
            "grid_gap": null,
            "grid_row": null,
            "grid_template_areas": null,
            "grid_template_columns": null,
            "grid_template_rows": null,
            "height": null,
            "justify_content": null,
            "justify_items": null,
            "left": null,
            "margin": null,
            "max_height": null,
            "max_width": null,
            "min_height": null,
            "min_width": null,
            "object_fit": null,
            "object_position": null,
            "order": null,
            "overflow": null,
            "overflow_x": null,
            "overflow_y": null,
            "padding": null,
            "right": null,
            "top": null,
            "visibility": null,
            "width": null
          }
        },
        "8784158defe04b6d862783f6db0d2b97": {
          "model_module": "@jupyter-widgets/controls",
          "model_name": "DescriptionStyleModel",
          "model_module_version": "1.5.0",
          "state": {
            "_model_module": "@jupyter-widgets/controls",
            "_model_module_version": "1.5.0",
            "_model_name": "DescriptionStyleModel",
            "_view_count": null,
            "_view_module": "@jupyter-widgets/base",
            "_view_module_version": "1.2.0",
            "_view_name": "StyleView",
            "description_width": ""
          }
        }
      }
    }
  },
  "cells": [
    {
      "cell_type": "markdown",
      "metadata": {
        "id": "view-in-github",
        "colab_type": "text"
      },
      "source": [
        "<a href=\"https://colab.research.google.com/github/jx-dohwan/Emotion_recognition_in_conversation.ipynb/blob/main/Emotion_recognition_in_conversation.ipynb\" target=\"_parent\"><img src=\"https://colab.research.google.com/assets/colab-badge.svg\" alt=\"Open In Colab\"/></a>"
      ]
    },
    {
      "cell_type": "code",
      "execution_count": 1,
      "metadata": {
        "colab": {
          "base_uri": "https://localhost:8080/"
        },
        "id": "j5j89T56rQ-X",
        "outputId": "a79225e3-7d2b-43d8-9548-1d5213a26f08"
      },
      "outputs": [
        {
          "output_type": "stream",
          "name": "stdout",
          "text": [
            "Looking in indexes: https://pypi.org/simple, https://us-python.pkg.dev/colab-wheels/public/simple/\n",
            "Collecting transformers==4.25.1\n",
            "  Downloading transformers-4.25.1-py3-none-any.whl (5.8 MB)\n",
            "\u001b[2K     \u001b[90m━━━━━━━━━━━━━━━━━━━━━━━━━━━━━━━━━━━━━━━━\u001b[0m \u001b[32m5.8/5.8 MB\u001b[0m \u001b[31m59.6 MB/s\u001b[0m eta \u001b[36m0:00:00\u001b[0m\n",
            "\u001b[?25hRequirement already satisfied: filelock in /usr/local/lib/python3.8/dist-packages (from transformers==4.25.1) (3.9.0)\n",
            "Requirement already satisfied: regex!=2019.12.17 in /usr/local/lib/python3.8/dist-packages (from transformers==4.25.1) (2022.6.2)\n",
            "Requirement already satisfied: requests in /usr/local/lib/python3.8/dist-packages (from transformers==4.25.1) (2.25.1)\n",
            "Collecting huggingface-hub<1.0,>=0.10.0\n",
            "  Downloading huggingface_hub-0.12.0-py3-none-any.whl (190 kB)\n",
            "\u001b[2K     \u001b[90m━━━━━━━━━━━━━━━━━━━━━━━━━━━━━━━━━━━━━━\u001b[0m \u001b[32m190.3/190.3 KB\u001b[0m \u001b[31m20.2 MB/s\u001b[0m eta \u001b[36m0:00:00\u001b[0m\n",
            "\u001b[?25hRequirement already satisfied: tqdm>=4.27 in /usr/local/lib/python3.8/dist-packages (from transformers==4.25.1) (4.64.1)\n",
            "Requirement already satisfied: pyyaml>=5.1 in /usr/local/lib/python3.8/dist-packages (from transformers==4.25.1) (6.0)\n",
            "Requirement already satisfied: packaging>=20.0 in /usr/local/lib/python3.8/dist-packages (from transformers==4.25.1) (23.0)\n",
            "Requirement already satisfied: numpy>=1.17 in /usr/local/lib/python3.8/dist-packages (from transformers==4.25.1) (1.21.6)\n",
            "Collecting tokenizers!=0.11.3,<0.14,>=0.11.1\n",
            "  Downloading tokenizers-0.13.2-cp38-cp38-manylinux_2_17_x86_64.manylinux2014_x86_64.whl (7.6 MB)\n",
            "\u001b[2K     \u001b[90m━━━━━━━━━━━━━━━━━━━━━━━━━━━━━━━━━━━━━━━━\u001b[0m \u001b[32m7.6/7.6 MB\u001b[0m \u001b[31m51.4 MB/s\u001b[0m eta \u001b[36m0:00:00\u001b[0m\n",
            "\u001b[?25hRequirement already satisfied: typing-extensions>=3.7.4.3 in /usr/local/lib/python3.8/dist-packages (from huggingface-hub<1.0,>=0.10.0->transformers==4.25.1) (4.4.0)\n",
            "Requirement already satisfied: idna<3,>=2.5 in /usr/local/lib/python3.8/dist-packages (from requests->transformers==4.25.1) (2.10)\n",
            "Requirement already satisfied: chardet<5,>=3.0.2 in /usr/local/lib/python3.8/dist-packages (from requests->transformers==4.25.1) (4.0.0)\n",
            "Requirement already satisfied: urllib3<1.27,>=1.21.1 in /usr/local/lib/python3.8/dist-packages (from requests->transformers==4.25.1) (1.24.3)\n",
            "Requirement already satisfied: certifi>=2017.4.17 in /usr/local/lib/python3.8/dist-packages (from requests->transformers==4.25.1) (2022.12.7)\n",
            "Installing collected packages: tokenizers, huggingface-hub, transformers\n",
            "Successfully installed huggingface-hub-0.12.0 tokenizers-0.13.2 transformers-4.25.1\n",
            "Looking in indexes: https://pypi.org/simple, https://us-python.pkg.dev/colab-wheels/public/simple/\n",
            "Collecting sklearn\n",
            "  Downloading sklearn-0.0.post1.tar.gz (3.6 kB)\n",
            "  \u001b[1;31merror\u001b[0m: \u001b[1msubprocess-exited-with-error\u001b[0m\n",
            "  \n",
            "  \u001b[31m×\u001b[0m \u001b[32mpython setup.py egg_info\u001b[0m did not run successfully.\n",
            "  \u001b[31m│\u001b[0m exit code: \u001b[1;36m1\u001b[0m\n",
            "  \u001b[31m╰─>\u001b[0m See above for output.\n",
            "  \n",
            "  \u001b[1;35mnote\u001b[0m: This error originates from a subprocess, and is likely not a problem with pip.\n",
            "  Preparing metadata (setup.py) ... \u001b[?25l\u001b[?25herror\n",
            "\u001b[1;31merror\u001b[0m: \u001b[1mmetadata-generation-failed\u001b[0m\n",
            "\n",
            "\u001b[31m×\u001b[0m Encountered error while generating package metadata.\n",
            "\u001b[31m╰─>\u001b[0m See above for output.\n",
            "\n",
            "\u001b[1;35mnote\u001b[0m: This is an issue with the package mentioned above, not pip.\n",
            "\u001b[1;36mhint\u001b[0m: See above for details.\n"
          ]
        }
      ],
      "source": [
        "!pip install transformers==4.25.1\n",
        "!pip install sklearn"
      ]
    },
    {
      "cell_type": "code",
      "source": [
        "import torch\n",
        "torch.__version__"
      ],
      "metadata": {
        "colab": {
          "base_uri": "https://localhost:8080/",
          "height": 35
        },
        "id": "4NitMYgLr96E",
        "outputId": "9f76fbac-6502-4597-f697-a8a2fc8c1abe"
      },
      "execution_count": 2,
      "outputs": [
        {
          "output_type": "execute_result",
          "data": {
            "text/plain": [
              "'1.13.1+cu116'"
            ],
            "application/vnd.google.colaboratory.intrinsic+json": {
              "type": "string"
            }
          },
          "metadata": {},
          "execution_count": 2
        }
      ]
    },
    {
      "cell_type": "code",
      "source": [
        "import transformers\n",
        "transformers.__version__"
      ],
      "metadata": {
        "colab": {
          "base_uri": "https://localhost:8080/",
          "height": 35
        },
        "id": "r6Ngc4HEXzm4",
        "outputId": "8415ced2-ea57-484d-a98e-824af3858b05"
      },
      "execution_count": 3,
      "outputs": [
        {
          "output_type": "execute_result",
          "data": {
            "text/plain": [
              "'4.25.1'"
            ],
            "application/vnd.google.colaboratory.intrinsic+json": {
              "type": "string"
            }
          },
          "metadata": {},
          "execution_count": 3
        }
      ]
    },
    {
      "cell_type": "code",
      "source": [
        "!nvidia-smi"
      ],
      "metadata": {
        "colab": {
          "base_uri": "https://localhost:8080/"
        },
        "id": "dG3OdnDOsW3X",
        "outputId": "f72c82b7-cc7a-474a-fa33-b8c1a5d083b2"
      },
      "execution_count": 4,
      "outputs": [
        {
          "output_type": "stream",
          "name": "stdout",
          "text": [
            "NVIDIA-SMI has failed because it couldn't communicate with the NVIDIA driver. Make sure that the latest NVIDIA driver is installed and running.\n",
            "\n"
          ]
        }
      ]
    },
    {
      "cell_type": "markdown",
      "source": [
        "##  데이터 다운로드"
      ],
      "metadata": {
        "id": "hxqfhIkktFAI"
      }
    },
    {
      "cell_type": "code",
      "source": [
        "!git clone https://github.com/declare-lab/MELD.git"
      ],
      "metadata": {
        "colab": {
          "base_uri": "https://localhost:8080/"
        },
        "id": "NaHilvsqsr7P",
        "outputId": "547eec8e-0953-462c-9ded-7760d93c917e"
      },
      "execution_count": 5,
      "outputs": [
        {
          "output_type": "stream",
          "name": "stdout",
          "text": [
            "Cloning into 'MELD'...\n",
            "remote: Enumerating objects: 487, done.\u001b[K\n",
            "remote: Counting objects: 100% (12/12), done.\u001b[K\n",
            "remote: Compressing objects: 100% (12/12), done.\u001b[K\n",
            "remote: Total 487 (delta 6), reused 0 (delta 0), pack-reused 475\u001b[K\n",
            "Receiving objects: 100% (487/487), 8.12 MiB | 14.71 MiB/s, done.\n",
            "Resolving deltas: 100% (254/254), done.\n"
          ]
        }
      ]
    },
    {
      "cell_type": "code",
      "source": [
        "import glob # 어떤 리스트가 있는지 도출하는 것\n",
        "data_path = \"./MELD/data/MELD/*csv\"\n",
        "data_path_list = glob.glob(data_path)\n",
        "print(data_path_list)"
      ],
      "metadata": {
        "colab": {
          "base_uri": "https://localhost:8080/"
        },
        "id": "0JubQmz6tXrt",
        "outputId": "7047040b-adc6-45ca-e6cc-8e35e442b6bc"
      },
      "execution_count": 6,
      "outputs": [
        {
          "output_type": "stream",
          "name": "stdout",
          "text": [
            "['./MELD/data/MELD/test_sent_emo.csv', './MELD/data/MELD/dev_sent_emo.csv', './MELD/data/MELD/train_sent_emo.csv']\n"
          ]
        }
      ]
    },
    {
      "cell_type": "markdown",
      "source": [
        "## 데이터 확인"
      ],
      "metadata": {
        "id": "g3Ignv8Ytr8T"
      }
    },
    {
      "cell_type": "code",
      "source": [
        "!head -5 './MELD/data/MELD/dev_sent_emo.csv' # head는 해당 파일의 앞부분을 보겠다."
      ],
      "metadata": {
        "colab": {
          "base_uri": "https://localhost:8080/"
        },
        "id": "ixQfN_KLtpid",
        "outputId": "b580c2b5-88fe-4d82-f19a-7715688052f6"
      },
      "execution_count": 7,
      "outputs": [
        {
          "output_type": "stream",
          "name": "stdout",
          "text": [
            "Sr No.,Utterance,Speaker,Emotion,Sentiment,Dialogue_ID,Utterance_ID,Season,Episode,StartTime,EndTime\r\n",
            "1,\"Oh my God, he’s lost it. He’s totally lost it.\",Phoebe,sadness,negative,0,0,4,7,\"00:20:57,256\",\"00:21:00,049\"\r\n",
            "2,What?,Monica,surprise,negative,0,1,4,7,\"00:21:01,927\",\"00:21:03,261\"\r\n",
            "3,\"Or! Or, we could go to the bank, close our accounts and cut them off at the source.\",Ross,neutral,neutral,1,0,4,4,\"00:12:24,660\",\"00:12:30,915\"\r\n",
            "4,You’re a genius!,Chandler,joy,positive,1,1,4,4,\"00:12:32,334\",\"00:12:33,960\"\r\n"
          ]
        }
      ]
    },
    {
      "cell_type": "code",
      "source": [
        "# 데이터 출력\n",
        "import csv #csv 확장자를 읽어들임임\n",
        "for data_path in data_path_list:\n",
        "  f = open(data_path, 'r')\n",
        "  rdr = csv.reader(f)\n",
        "\n",
        "  for line in rdr:\n",
        "    print(line)\n",
        "    break\n",
        "\n",
        "  f.close()\n",
        "  break\n"
      ],
      "metadata": {
        "colab": {
          "base_uri": "https://localhost:8080/"
        },
        "id": "lv-NAgOxt6gM",
        "outputId": "dad9c4e2-c9d5-4224-90aa-222ef50f0cd0"
      },
      "execution_count": 8,
      "outputs": [
        {
          "output_type": "stream",
          "name": "stdout",
          "text": [
            "['Sr No.', 'Utterance', 'Speaker', 'Emotion', 'Sentiment', 'Dialogue_ID', 'Utterance_ID', 'Season', 'Episode', 'StartTime', 'EndTime']\n"
          ]
        }
      ]
    },
    {
      "cell_type": "markdown",
      "source": [
        "## 세션으로 데이터 분할하기"
      ],
      "metadata": {
        "id": "K7ilfgU3uWHW"
      }
    },
    {
      "cell_type": "markdown",
      "source": [
        "[발화1, 발화2, 발화3] --> 감정예측한다는 것은 발화3에 해당하는 감정을\n",
        "여기서 발화1, 발화2에 해당하는 감정이 있고, 이를 학습데이터로 사용해야된다.\n",
        "--> [발화1], [발화1, 발화2]\n",
        "\n",
        "//\n",
        "모델이 roberta: bidirectional\n",
        ": attention이 양방향\n",
        "\n",
        "[발화1, 발화2, 발화3]: 여기서 발화2에 해당하는 감정을 학습한다.\n",
        ": 동시에 발화1에 해당하는 감정을 학습한다."
      ],
      "metadata": {
        "id": "CVIeMuy0CJNa"
      }
    },
    {
      "cell_type": "code",
      "source": [
        "# 데이터 저장\n",
        "# roberta : bidirectional \n",
        "# attention이 양방향\n",
        "def split(session):\n",
        "    final_data = []\n",
        "    split_session = []\n",
        "    for line in session:\n",
        "        split_session.append(line)\n",
        "        final_data.append(split_session[:])    \n",
        "    return final_data\n",
        "    \n",
        "for data_path in data_path_list:\n",
        "    f = open(data_path, 'r')\n",
        "    rdr = csv.reader(f)# 리스트 하나씩 데이터 불러읽어 들이기\n",
        "    \n",
        "    \"\"\" 세션 데이터 저장할 것\"\"\"\n",
        "    session_dataset = []\n",
        "    session = []\n",
        "    speaker_set = []\n",
        "    \n",
        "    \"\"\" 실제 데이터 저장 방식 \"\"\"\n",
        "    pre_sess = 'start'\n",
        "    for i, line in enumerate(rdr):\n",
        "        if i == 0:\n",
        "            \"\"\" 저장할 데이터들 index 확인 \"\"\"\n",
        "            header  = line\n",
        "            utt_idx = header.index('Utterance')\n",
        "            speaker_idx = header.index('Speaker')\n",
        "            emo_idx = header.index('Emotion')\n",
        "            sess_idx = header.index('Dialogue_ID')\n",
        "        else:\n",
        "            utt = line[utt_idx]\n",
        "            speaker = line[speaker_idx]\n",
        "            \"\"\" 유니크한 스피커로 바꾸기 \"\"\"\n",
        "            if speaker in speaker_set:# 스키퍼셋안에 있는 스피커(즉 이미 있는 스피커라면)\n",
        "                uniq_speaker = speaker_set.index(speaker)# 어떤 사람이 말했는지 그 사람의 index를 uniq로 둔다.\n",
        "            else:# 처음 등장한 인물이라면\n",
        "                speaker_set.append(speaker)# 스피커셋에 스피커를 넣어주고\n",
        "                uniq_speaker = speaker_set.index(speaker)#유니크 스피커가 몇 번째 인덱스에 해당하는지 바꿔줌\n",
        "            emotion = line[emo_idx]\n",
        "            sess = line[sess_idx]\n",
        "            \n",
        "            if pre_sess == 'start' or sess == pre_sess:# sess이 pre_sess이 같거나 start일때 저장\n",
        "                session.append([uniq_speaker, utt, emotion])\n",
        "            else:#다를경우 초기화하고 다시저장?\n",
        "                \"\"\" 세션 데이터 저장 \"\"\"\n",
        "                # session_dataset.append(session)\n",
        "                session_dataset += split(session)# 서브세셔으로 분리하여 데이터로 바꿈\n",
        "                session = [[uniq_speaker, utt, emotion]]\n",
        "                speaker_set = []\n",
        "            pre_sess = sess   \n",
        "    \"\"\" 마지막 세션 저장 \"\"\"\n",
        "    # session_dataset.append(session)\n",
        "    session_dataset += split(session)\n",
        "    f.close()\n",
        "    \n",
        "    \"\"\" 데이터 분할하기 \"\"\"\n",
        "    break"
      ],
      "metadata": {
        "id": "wB2jqfpUyjFa"
      },
      "execution_count": 9,
      "outputs": []
    },
    {
      "cell_type": "code",
      "source": [
        "session_dataset[0]"
      ],
      "metadata": {
        "colab": {
          "base_uri": "https://localhost:8080/"
        },
        "id": "Bz5gG4f4EM-X",
        "outputId": "85267522-93c8-454e-e773-9b0120f82d56"
      },
      "execution_count": 10,
      "outputs": [
        {
          "output_type": "execute_result",
          "data": {
            "text/plain": [
              "[[0, 'Why do all you’re coffee mugs have numbers on the bottom?', 'surprise']]"
            ]
          },
          "metadata": {},
          "execution_count": 10
        }
      ]
    },
    {
      "cell_type": "code",
      "source": [
        "session_dataset[1]"
      ],
      "metadata": {
        "colab": {
          "base_uri": "https://localhost:8080/"
        },
        "id": "W4nP_cJ4ENLa",
        "outputId": "edfc831f-714a-4da0-e298-4bdf43c03899"
      },
      "execution_count": 11,
      "outputs": [
        {
          "output_type": "execute_result",
          "data": {
            "text/plain": [
              "[[0, 'Why do all you’re coffee mugs have numbers on the bottom?', 'surprise'],\n",
              " [1,\n",
              "  'Oh. That’s so Monica can keep track. That way if one on them is missing, she can be like, ‘Where’s number 27?!’',\n",
              "  'anger']]"
            ]
          },
          "metadata": {},
          "execution_count": 11
        }
      ]
    },
    {
      "cell_type": "markdown",
      "source": [
        "## 실제 감정인식에 맞게 데이터 분할하기(배치처리 알아보기)"
      ],
      "metadata": {
        "id": "3HLU10vxP0vT"
      }
    },
    {
      "cell_type": "code",
      "source": [
        "import csv\n",
        "from torch.utils.data import Dataset\n",
        "def split(session):\n",
        "    final_data = []\n",
        "    split_session =[]\n",
        "    for line in session:\n",
        "        split_session.append(line)\n",
        "        final_data.append(split_session[:])\n",
        "    return final_data\n",
        "\n",
        "class data_loader(Dataset):\n",
        "    def __init__(self, data_path):\n",
        "        f = open(data_path, 'r')\n",
        "        rdr = csv.reader(f)\n",
        "\n",
        "        \"\"\"추가\"\"\"\n",
        "        emoSet = set()\n",
        "\n",
        "        \"\"\" 세션 데이터 저장할 것\"\"\"\n",
        "        self.session_dataset = []\n",
        "        session = []\n",
        "        speaker_set = []\n",
        "\n",
        "        \"\"\" 실제 데이터 저장 방식 \"\"\"\n",
        "        pre_sess = 'start'\n",
        "        for i, line in enumerate(rdr):\n",
        "            if i == 0:\n",
        "                \"\"\" 저장할 데이터들 index 확인 \"\"\"\n",
        "                header  = line\n",
        "                utt_idx = header.index('Utterance')\n",
        "                speaker_idx = header.index('Speaker')\n",
        "                emo_idx = header.index('Emotion')\n",
        "                sess_idx = header.index('Dialogue_ID')\n",
        "            else:\n",
        "                utt = line[utt_idx]\n",
        "                speaker = line[speaker_idx]\n",
        "                \"\"\" 유니크한 스피커로 바꾸기 \"\"\"\n",
        "                if speaker in speaker_set:# 스키퍼셋안에 있는 스피커(즉 이미 있는 스피커라면)\n",
        "                    uniq_speaker = speaker_set.index(speaker)# 어떤 사람이 말했는지 그 사람의 index를 uniq로 둔다.\n",
        "                else:# 처음 등장한 인물이라면\n",
        "                    speaker_set.append(speaker)# 스피커셋에 스피커를 넣어주고\n",
        "                    uniq_speaker = speaker_set.index(speaker)#유니크 스피커가 몇 번째 인덱스에 해당하는지 바꿔줌\n",
        "                emotion = line[emo_idx]\n",
        "                sess = line[sess_idx]\n",
        "                \n",
        "                if pre_sess == 'start' or sess == pre_sess:# sess이 pre_sess이 같거나 start일때 저장\n",
        "                    session.append([uniq_speaker, utt, emotion])\n",
        "                else:#다를경우 초기화하고 다시저장?\n",
        "                    \"\"\" 세션 데이터 저장 \"\"\"\n",
        "                    # session_dataset.append(session)\n",
        "                    self.session_dataset += split(session)# 서브세셔으로 분리하여 데이터로 바꿈\n",
        "                    session = [[uniq_speaker, utt, emotion]]\n",
        "                    speaker_set = []\n",
        "                    emoSet.add(emotion)\n",
        "                pre_sess = sess   \n",
        "        \"\"\" 마지막 세션 저장 \"\"\"\n",
        "        # session_dataset.append(session)\n",
        "        self.session_dataset += split(session)\n",
        "\n",
        "        self.emoList = sorted(emoSet) # 항상 같은 레이블 순서를 유지하기 위해\n",
        "        # self.emoList = ['anger', 'disgust', 'fear',' joy', 'neutral', 'sadness', 'surprise']\n",
        "        f.close()\n",
        "    \n",
        "    def __len__(self): # Dataset 기본적인 구성\n",
        "        return len(self.session_dataset) ## 리스트의 길이이\n",
        "\n",
        "    def __getitem__(self, idx): #기본적인 구성\n",
        "        return self.session_dataset[idx] ## 리스트중 하나를 불러와서 사용함\n",
        "\n",
        "    def collate_fn(self, sessions): # 배치를 위한 구성, sessions는 session_dataset모두 들어옴\n",
        "        '''\n",
        "            input:\n",
        "                data : [(session1),(session2),...]\n",
        "            return:\n",
        "                batch_input_tokens_pad: (B, L) apdded\n",
        "                batch_labels: (B)\n",
        "        '''\n",
        "        batch_input_token = []\n",
        "        for session in sessions:\n",
        "            input_token = \"\"\n",
        "            for line in session: # 하나의 세션을 linebyline으로 쪼개서 input_token으로 만든다.\n",
        "                speaker, utt, emotion = line\n",
        "                input_token += utt\n",
        "            batch_input_token.append(input_token)\n",
        "        return batch_input_token      "
      ],
      "metadata": {
        "id": "EMFZIAB0Epbc"
      },
      "execution_count": 12,
      "outputs": []
    },
    {
      "cell_type": "code",
      "source": [
        "dev_dataset = data_loader('./MELD/data/MELD/dev_sent_emo.csv')\n",
        "dev_dataset[0], dev_dataset[1]"
      ],
      "metadata": {
        "colab": {
          "base_uri": "https://localhost:8080/"
        },
        "id": "_cMqqPnCUGaQ",
        "outputId": "4e7a6b0a-7459-40c0-b56b-e5175df5da65"
      },
      "execution_count": 13,
      "outputs": [
        {
          "output_type": "execute_result",
          "data": {
            "text/plain": [
              "([[0, 'Oh my God, he’s lost it. He’s totally lost it.', 'sadness']],\n",
              " [[0, 'Oh my God, he’s lost it. He’s totally lost it.', 'sadness'],\n",
              "  [1, 'What?', 'surprise']])"
            ]
          },
          "metadata": {},
          "execution_count": 13
        }
      ]
    },
    {
      "cell_type": "code",
      "source": [
        "\"\"\"배치결과 확인 \"\"\"\n",
        "from torch.utils.data import DataLoader\n",
        "dev_dataloader = DataLoader(dev_dataset, \n",
        "                            batch_size=3, \n",
        "                            shuffle=False,\n",
        "                            num_workers=4, # 메모리를 몇 개를 사용할지?\n",
        "                            collate_fn=dev_dataset.collate_fn)\n",
        "\n",
        "i = 0\n",
        "for data in dev_dataloader:\n",
        "    print(i, data)\n",
        "    i += 1\n",
        "    if i > 2:\n",
        "        break"
      ],
      "metadata": {
        "colab": {
          "base_uri": "https://localhost:8080/"
        },
        "id": "Rg5guzeNWZL_",
        "outputId": "c25d42dc-fb1b-4af1-b4ff-4213f15e98da"
      },
      "execution_count": 14,
      "outputs": [
        {
          "output_type": "stream",
          "name": "stderr",
          "text": [
            "/usr/local/lib/python3.8/dist-packages/torch/utils/data/dataloader.py:554: UserWarning: This DataLoader will create 4 worker processes in total. Our suggested max number of worker in current system is 2, which is smaller than what this DataLoader is going to create. Please be aware that excessive worker creation might get DataLoader running slow or even freeze, lower the worker number to avoid potential slowness/freeze if necessary.\n",
            "  warnings.warn(_create_warning_msg(\n"
          ]
        },
        {
          "output_type": "stream",
          "name": "stdout",
          "text": [
            "0 ['Oh my God, he’s lost it. He’s totally lost it.', 'Oh my God, he’s lost it. He’s totally lost it.What?', 'Or! Or, we could go to the bank, close our accounts and cut them off at the source.']\n",
            "1 ['Or! Or, we could go to the bank, close our accounts and cut them off at the source.You’re a genius!', 'Or! Or, we could go to the bank, close our accounts and cut them off at the source.You’re a genius!Aww, man, now we won’t be bank buddies!', 'Or! Or, we could go to the bank, close our accounts and cut them off at the source.You’re a genius!Aww, man, now we won’t be bank buddies!Now, there’s two reasons.']\n",
            "2 ['Or! Or, we could go to the bank, close our accounts and cut them off at the source.You’re a genius!Aww, man, now we won’t be bank buddies!Now, there’s two reasons.Hey.', 'Or! Or, we could go to the bank, close our accounts and cut them off at the source.You’re a genius!Aww, man, now we won’t be bank buddies!Now, there’s two reasons.Hey.Hey!', 'Or! Or, we could go to the bank, close our accounts and cut them off at the source.You’re a genius!Aww, man, now we won’t be bank buddies!Now, there’s two reasons.Hey.Hey!Ohh, you guys, remember that cute client I told you about? I bit him.']\n"
          ]
        }
      ]
    },
    {
      "cell_type": "markdown",
      "source": [
        "## 사전학습 모델들에 대한 백그라운드\n"
      ],
      "metadata": {
        "id": "K2e7JYSxXfvN"
      }
    },
    {
      "cell_type": "code",
      "source": [
        "\"\"\" 토크나이즈 확인하기\"\"\"\n",
        "# https://github.com/thunlp/PLMpapers\n",
        "from transformers import RobertaTokenizer\n",
        "tokenizer = RobertaTokenizer.from_pretrained('roberta-base')"
      ],
      "metadata": {
        "colab": {
          "base_uri": "https://localhost:8080/",
          "height": 113,
          "referenced_widgets": [
            "1bbae49ab5234ed18256c94554271133",
            "06cde5c22e2a44819b83374bf539c9a3",
            "0b3e8bac7dc64d8ab3f44f5d63f53b41",
            "d229add0b23d43ae906dfed14eea3c00",
            "bb1a6b1f3f6246df8d6294c769244798",
            "cc7109b4fc1742eab8fe97b36ad48c10",
            "2e43ba9fd8204ad8ac12e54cf7e4cdb4",
            "bb236ae1c58548ac8a6e751d24f42485",
            "f19c71f431fe4729990b83834c9647c0",
            "445d5a26e26341878fb567fa60aad050",
            "012e2de6ecf94c5a8d926a71d2ec3109",
            "09682ed7c06e4590be4eb6e82b6b3e6f",
            "f18b4d247de745ee9f76d95a5cb9d258",
            "5eeb096c35294568b36d7377b3c602ea",
            "bcc5e00c901440078904e52185a84cfb",
            "e425e6d798444273a9678858fd0c387e",
            "eb9db898ee3e4cb885927273152f4664",
            "e09a886ce665402a8fb1feaf8fdbf27b",
            "049c42134ce5441baf6c7ad72c87fea2",
            "9c04e10d6b3b48c2a01e2066c5055d9b",
            "6b1f41608e0f4d209f3aaefcd7904a02",
            "58c55f2992fb4427a1aa73634bc571b6",
            "015404010a994ab586b4cf4b86326649",
            "001f0a48bda54521bcfdeae089d18469",
            "12d3a5d1774d4ca1b1a16fc281ae7c7e",
            "79e3c59d9a4441f8bc077e0e0497d12f",
            "09b9309b4eab4a1bbd21b6f5147a6bb1",
            "b5a6b576af104634a95d0da95a1290da",
            "b3519bf15e10489ab13ec27973645918",
            "81b338ca92cc498283d0b6c8382d605d",
            "1077cf2d914d40abaf555744647f42d0",
            "937e509fc37b468e829a036bad6e2f88",
            "8784158defe04b6d862783f6db0d2b97"
          ]
        },
        "id": "cM_l39DiXIHq",
        "outputId": "060f1d6f-7468-4e7c-e7ab-3c6a5994692b"
      },
      "execution_count": 15,
      "outputs": [
        {
          "output_type": "display_data",
          "data": {
            "text/plain": [
              "Downloading (…)olve/main/vocab.json:   0%|          | 0.00/899k [00:00<?, ?B/s]"
            ],
            "application/vnd.jupyter.widget-view+json": {
              "version_major": 2,
              "version_minor": 0,
              "model_id": "1bbae49ab5234ed18256c94554271133"
            }
          },
          "metadata": {}
        },
        {
          "output_type": "display_data",
          "data": {
            "text/plain": [
              "Downloading (…)olve/main/merges.txt:   0%|          | 0.00/456k [00:00<?, ?B/s]"
            ],
            "application/vnd.jupyter.widget-view+json": {
              "version_major": 2,
              "version_minor": 0,
              "model_id": "09682ed7c06e4590be4eb6e82b6b3e6f"
            }
          },
          "metadata": {}
        },
        {
          "output_type": "display_data",
          "data": {
            "text/plain": [
              "Downloading (…)lve/main/config.json:   0%|          | 0.00/481 [00:00<?, ?B/s]"
            ],
            "application/vnd.jupyter.widget-view+json": {
              "version_major": 2,
              "version_minor": 0,
              "model_id": "015404010a994ab586b4cf4b86326649"
            }
          },
          "metadata": {}
        }
      ]
    },
    {
      "cell_type": "code",
      "source": [
        "print(tokenizer.cls_token, tokenizer.sep_token, tokenizer.pad_token)\n",
        "print(tokenizer.cls_token_id, tokenizer.sep_token_id, tokenizer.pad_token_id)"
      ],
      "metadata": {
        "id": "EghYCWsJXqRO",
        "colab": {
          "base_uri": "https://localhost:8080/"
        },
        "outputId": "177f86c3-8873-47cc-b9ab-6a1d2f019d7b"
      },
      "execution_count": 16,
      "outputs": [
        {
          "output_type": "stream",
          "name": "stdout",
          "text": [
            "<s> </s> <pad>\n",
            "0 2 1\n"
          ]
        }
      ]
    },
    {
      "cell_type": "code",
      "source": [
        "dir(tokenizer)"
      ],
      "metadata": {
        "colab": {
          "base_uri": "https://localhost:8080/"
        },
        "id": "4TGRbo7VXfaA",
        "outputId": "723c2895-81c3-4fff-bd58-ebac16f8c8a4"
      },
      "execution_count": 17,
      "outputs": [
        {
          "output_type": "execute_result",
          "data": {
            "text/plain": [
              "['SPECIAL_TOKENS_ATTRIBUTES',\n",
              " '__annotations__',\n",
              " '__call__',\n",
              " '__class__',\n",
              " '__delattr__',\n",
              " '__dict__',\n",
              " '__dir__',\n",
              " '__doc__',\n",
              " '__eq__',\n",
              " '__format__',\n",
              " '__ge__',\n",
              " '__getattribute__',\n",
              " '__gt__',\n",
              " '__hash__',\n",
              " '__init__',\n",
              " '__init_subclass__',\n",
              " '__le__',\n",
              " '__len__',\n",
              " '__lt__',\n",
              " '__module__',\n",
              " '__ne__',\n",
              " '__new__',\n",
              " '__reduce__',\n",
              " '__reduce_ex__',\n",
              " '__repr__',\n",
              " '__setattr__',\n",
              " '__sizeof__',\n",
              " '__str__',\n",
              " '__subclasshook__',\n",
              " '__weakref__',\n",
              " '_add_tokens',\n",
              " '_additional_special_tokens',\n",
              " '_auto_class',\n",
              " '_batch_encode_plus',\n",
              " '_batch_prepare_for_model',\n",
              " '_bos_token',\n",
              " '_call_one',\n",
              " '_cls_token',\n",
              " '_convert_id_to_token',\n",
              " '_convert_token_to_id',\n",
              " '_convert_token_to_id_with_added_voc',\n",
              " '_create_repo',\n",
              " '_create_trie',\n",
              " '_decode',\n",
              " '_decode_use_source_tokenizer',\n",
              " '_encode_plus',\n",
              " '_eos_token',\n",
              " '_eventual_warn_about_too_long_sequence',\n",
              " '_eventually_correct_t5_max_length',\n",
              " '_from_pretrained',\n",
              " '_get_files_timestamps',\n",
              " '_get_padding_truncation_strategies',\n",
              " '_in_target_context_manager',\n",
              " '_mask_token',\n",
              " '_pad',\n",
              " '_pad_token',\n",
              " '_pad_token_type_id',\n",
              " '_processor_class',\n",
              " '_save_pretrained',\n",
              " '_sep_token',\n",
              " '_set_processor_class',\n",
              " '_switch_to_input_mode',\n",
              " '_switch_to_target_mode',\n",
              " '_tokenize',\n",
              " '_unk_token',\n",
              " '_upload_modified_files',\n",
              " 'add_prefix_space',\n",
              " 'add_special_tokens',\n",
              " 'add_tokens',\n",
              " 'added_tokens_decoder',\n",
              " 'added_tokens_encoder',\n",
              " 'additional_special_tokens',\n",
              " 'additional_special_tokens_ids',\n",
              " 'all_special_ids',\n",
              " 'all_special_tokens',\n",
              " 'all_special_tokens_extended',\n",
              " 'as_target_tokenizer',\n",
              " 'batch_decode',\n",
              " 'batch_encode_plus',\n",
              " 'bos_token',\n",
              " 'bos_token_id',\n",
              " 'bpe',\n",
              " 'bpe_ranks',\n",
              " 'build_inputs_with_special_tokens',\n",
              " 'byte_decoder',\n",
              " 'byte_encoder',\n",
              " 'cache',\n",
              " 'clean_up_tokenization',\n",
              " 'cls_token',\n",
              " 'cls_token_id',\n",
              " 'convert_ids_to_tokens',\n",
              " 'convert_tokens_to_ids',\n",
              " 'convert_tokens_to_string',\n",
              " 'create_token_type_ids_from_sequences',\n",
              " 'decode',\n",
              " 'decoder',\n",
              " 'deprecation_warnings',\n",
              " 'encode',\n",
              " 'encode_plus',\n",
              " 'encoder',\n",
              " 'eos_token',\n",
              " 'eos_token_id',\n",
              " 'errors',\n",
              " 'from_pretrained',\n",
              " 'get_added_vocab',\n",
              " 'get_special_tokens_mask',\n",
              " 'get_vocab',\n",
              " 'init_inputs',\n",
              " 'init_kwargs',\n",
              " 'is_fast',\n",
              " 'mask_token',\n",
              " 'mask_token_id',\n",
              " 'max_len_sentences_pair',\n",
              " 'max_len_single_sentence',\n",
              " 'max_model_input_sizes',\n",
              " 'model_input_names',\n",
              " 'model_max_length',\n",
              " 'name_or_path',\n",
              " 'num_special_tokens_to_add',\n",
              " 'pad',\n",
              " 'pad_token',\n",
              " 'pad_token_id',\n",
              " 'pad_token_type_id',\n",
              " 'padding_side',\n",
              " 'pat',\n",
              " 'prepare_for_model',\n",
              " 'prepare_for_tokenization',\n",
              " 'prepare_seq2seq_batch',\n",
              " 'pretrained_init_configuration',\n",
              " 'pretrained_vocab_files_map',\n",
              " 'push_to_hub',\n",
              " 'register_for_auto_class',\n",
              " 'sanitize_special_tokens',\n",
              " 'save_pretrained',\n",
              " 'save_vocabulary',\n",
              " 'sep_token',\n",
              " 'sep_token_id',\n",
              " 'slow_tokenizer_class',\n",
              " 'special_tokens_map',\n",
              " 'special_tokens_map_extended',\n",
              " 'tokenize',\n",
              " 'tokens_trie',\n",
              " 'truncate_sequences',\n",
              " 'truncation_side',\n",
              " 'unique_no_split_tokens',\n",
              " 'unk_token',\n",
              " 'unk_token_id',\n",
              " 'verbose',\n",
              " 'vocab_files_names',\n",
              " 'vocab_size']"
            ]
          },
          "metadata": {},
          "execution_count": 17
        }
      ]
    },
    {
      "cell_type": "code",
      "source": [
        "tokenizer.model_max_length"
      ],
      "metadata": {
        "colab": {
          "base_uri": "https://localhost:8080/"
        },
        "id": "vbdiTUmcXhhS",
        "outputId": "765ebf09-64a7-4ece-9075-3286ff1190e5"
      },
      "execution_count": 18,
      "outputs": [
        {
          "output_type": "execute_result",
          "data": {
            "text/plain": [
              "512"
            ]
          },
          "metadata": {},
          "execution_count": 18
        }
      ]
    },
    {
      "cell_type": "code",
      "source": [
        "\"\"\" 토크나이저 작동 \"\"\"\n",
        "res = tokenizer('hello. this is fastcampus')\n",
        "print(res)\n",
        "res = tokenizer.encode('hello. this is fastcampus')\n",
        "print(res)\n",
        "res = tokenizer(['hello. this is fastcampus','what are you doing'])\n",
        "print(res)\n",
        "res = tokenizer(['hello. this is fastcampus','what are you doing'], add_special_tokens=False)\n",
        "print(res)\n",
        "res = tokenizer.encode('hello. this is fastcampus', add_special_tokens=False)\n",
        "print(res)"
      ],
      "metadata": {
        "colab": {
          "base_uri": "https://localhost:8080/"
        },
        "id": "747Ij2QZXtRH",
        "outputId": "3f14e0cd-937a-4d66-94b7-6bec59986a4c"
      },
      "execution_count": 21,
      "outputs": [
        {
          "output_type": "stream",
          "name": "stdout",
          "text": [
            "{'input_ids': [0, 42891, 4, 42, 16, 1769, 28135, 2], 'attention_mask': [1, 1, 1, 1, 1, 1, 1, 1]}\n",
            "[0, 42891, 4, 42, 16, 1769, 28135, 2]\n",
            "{'input_ids': [[0, 42891, 4, 42, 16, 1769, 28135, 2], [0, 12196, 32, 47, 608, 2]], 'attention_mask': [[1, 1, 1, 1, 1, 1, 1, 1], [1, 1, 1, 1, 1, 1]]}\n",
            "{'input_ids': [[42891, 4, 42, 16, 1769, 28135], [12196, 32, 47, 608]], 'attention_mask': [[1, 1, 1, 1, 1, 1], [1, 1, 1, 1]]}\n",
            "[42891, 4, 42, 16, 1769, 28135]\n"
          ]
        }
      ]
    },
    {
      "cell_type": "code",
      "source": [
        "import csv\n",
        "from torch.utils.data import Dataset\n",
        "def split(session):\n",
        "    final_data = []\n",
        "    split_session =[]\n",
        "    for line in session:\n",
        "        split_session.append(line)\n",
        "        final_data.append(split_session[:])\n",
        "    return final_data\n",
        "\n",
        "class data_loader(Dataset):\n",
        "    def __init__(self, data_path):\n",
        "        f = open(data_path, 'r')\n",
        "        rdr = csv.reader(f)\n",
        "\n",
        "        \"\"\"추가\"\"\"\n",
        "        emoSet = set()\n",
        "        self.tokenizer = RobertaTokenizer.from_pretrained('roberta-base')\n",
        "\n",
        "        \"\"\" 세션 데이터 저장할 것\"\"\"\n",
        "        self.session_dataset = []\n",
        "        session = []\n",
        "        speaker_set = []\n",
        "\n",
        "        \"\"\" 실제 데이터 저장 방식 \"\"\"\n",
        "        pre_sess = 'start'\n",
        "        for i, line in enumerate(rdr):\n",
        "            if i == 0:\n",
        "                \"\"\" 저장할 데이터들 index 확인 \"\"\"\n",
        "                header  = line\n",
        "                utt_idx = header.index('Utterance')\n",
        "                speaker_idx = header.index('Speaker')\n",
        "                emo_idx = header.index('Emotion')\n",
        "                sess_idx = header.index('Dialogue_ID')\n",
        "            else:\n",
        "                utt = line[utt_idx]\n",
        "                speaker = line[speaker_idx]\n",
        "                \"\"\" 유니크한 스피커로 바꾸기 \"\"\"\n",
        "                if speaker in speaker_set:# 스키퍼셋안에 있는 스피커(즉 이미 있는 스피커라면)\n",
        "                    uniq_speaker = speaker_set.index(speaker)# 어떤 사람이 말했는지 그 사람의 index를 uniq로 둔다.\n",
        "                else:# 처음 등장한 인물이라면\n",
        "                    speaker_set.append(speaker)# 스피커셋에 스피커를 넣어주고\n",
        "                    uniq_speaker = speaker_set.index(speaker)#유니크 스피커가 몇 번째 인덱스에 해당하는지 바꿔줌\n",
        "                emotion = line[emo_idx]\n",
        "                sess = line[sess_idx]\n",
        "                \n",
        "                if pre_sess == 'start' or sess == pre_sess:# sess이 pre_sess이 같거나 start일때 저장\n",
        "                    session.append([uniq_speaker, utt, emotion])\n",
        "                else:#다를경우 초기화하고 다시저장?\n",
        "                    \"\"\" 세션 데이터 저장 \"\"\"\n",
        "                    # session_dataset.append(session)\n",
        "                    self.session_dataset += split(session)# 서브세셔으로 분리하여 데이터로 바꿈\n",
        "                    session = [[uniq_speaker, utt, emotion]]\n",
        "                    speaker_set = []\n",
        "                    emoSet.add(emotion)\n",
        "                pre_sess = sess   \n",
        "        \"\"\" 마지막 세션 저장 \"\"\"\n",
        "        # session_dataset.append(session)\n",
        "        self.session_dataset += split(session)\n",
        "\n",
        "        self.emoList = sorted(emoSet) # 항상 같은 레이블 순서를 유지하기 위해\n",
        "        # self.emoList = ['anger', 'disgust', 'fear',' joy', 'neutral', 'sadness', 'surprise']\n",
        "        f.close()\n",
        "    \n",
        "    def __len__(self): # Dataset 기본적인 구성\n",
        "        return len(self.session_dataset) ## 리스트의 길이이\n",
        "\n",
        "    def __getitem__(self, idx): #기본적인 구성\n",
        "        return self.session_dataset[idx] ## 리스트중 하나를 불러와서 사용함\n",
        "\n",
        "    def padding(self, batch_input_token):# batch가 1이면 필요없다./ 길이가 다른 입력을 처리할 필요가없기 때문에\n",
        "        \"\"\"추가\"\"\"\n",
        "        \"\"\" 512 토큰 길이 넘으면 잘라내기\"\"\"\n",
        "        batch_token_ids, batch_attention_masks = batch_input_token['input_ids'], batch_input_token['attention_mask'] # \n",
        "        trunc_batch_token_ids, trunc_batch_attention_masks = [], []\n",
        "        for batch_token_id, batch_attention_mask in zip(batch_token_ids, batch_attention_masks):\n",
        "            if len(batch_token_id) > self.tokenizer.model_max_length: # 512보다 길이가 긴경우우\n",
        "                trunc_batch_token_id = [batch_token_id[0]] + batch_token_id[1:][-self.tokenizer.model_max_length+1:] \n",
        "                # cls는 필수, 1부터 길이만큼인데 뒤부분부터 자름 앞부분부터 자르면 마지막 발화에 감정 예측 토큰이 사라지면 학습이 제대로 되지 않는다. \n",
        "                trunc_batch_attention_mask = [batch_attention_mask[0]] + batch_attention_mask[1:][-self.tokenizer.model_max_length+1:]\n",
        "                # attention mask도 위와 동일하게\n",
        "                trunc_batch_token_ids.append(trunc_batch_token_id)\n",
        "                trunc_batch_attention_masks.append(trunc_batch_attention_mask)\n",
        "            else: # 512보다 길이가 짧은 경우 -> 그냥 들어간다.\n",
        "                trunc_batch_token_ids.append(batch_token_id)\n",
        "                trunc_batch_attention_masks.append(batch_attention_mask)\n",
        "        \"\"\" padding token으로 패딩하기\"\"\"\n",
        "        #\n",
        "        max_length = max([len(x) for x in trunc_batch_token_ids])\n",
        "        padding_tokens, padding_attention_masks = [], []\n",
        "        for batch_token_id, batch_attention_mask in zip(trunc_batch_token_ids, trunc_batch_attention_masks):\n",
        "            padding_tokens.append(batch_token_id + [self.tokenizer.pad_token_id for _ in range(max_length-len(batch_token_id))])\n",
        "            # 512-max_length해서 남는 부분을 padding 토큰 입력\n",
        "            padding_attention_masks.append(batch_attention_mask + [0 for _ in range(max_length-len(batch_token_id))])\n",
        "            # 0을 넣어준다.\n",
        "        return torch.tensor(padding_tokens), torch.tensor(padding_attention_masks) # 리스트가 텐서포 변함\n",
        "\n",
        "    def collate_fn(self, sessions): # 배치를 위한 구성, sessions는 session_dataset모두 들어옴\n",
        "        '''\n",
        "            input:\n",
        "                data : [(session1),(session2),...]\n",
        "            return:\n",
        "                batch_input_tokens_pad: (B, L) apdded\n",
        "                batch_labels: (B)\n",
        "        '''\n",
        "        # 컨텍스트 길이 조정해도 된다.\n",
        "        # 발화 1이런식으로 앞에 제거할 수 있다. \n",
        "        # 앞을 제구하는 이유는 뒤에 내용이 더 중요하기 때문이다.\n",
        "        \"\"\"추가\"\"\"\n",
        "        batch_input, batch_labels = [], [] # com 입력, 학습할 레이블\n",
        "        batch_PM_input = [] # pm 입력\n",
        "        for session in sessions: # 하나의 세션을 linebyline으로 쪼개서 input_token으로 만든다.\n",
        "            input_str = self.tokenizer.cls_token # 입력의 맨 앞에 들어감\n",
        "            \"\"\"For PM\"\"\"\n",
        "            current_speaker, curent_utt, current_emotion = session[-1] # 마지막을 의미함/마지막 발화자를 알기 위함\n",
        "            PM_input = [] \n",
        "            for i, line in enumerate(session): # 세션에서 하나씩 부르는데 \n",
        "                speaker, utt, emotion = line\n",
        "                input_str += \" \" + utt + self.tokenizer.sep_token # 중첩해서 더해줌 구분은 sep로 \n",
        "                if i < len(session)-1 and current_speaker == speaker: # 마지막은 무조건 스피커와 커런트가 같으니까 아닌 경우에 대해 입력해줌/스피커와 커런트 스피커와 같으면 입력\n",
        "                    PM_input.append(self.tokenizer.encode(utt, add_special_tokens=True, return_tensors='pt')) \n",
        "                    # True : concat해서 저장하는 것이 아니고 하나의 입력을 바로 PM에 태우는 것이기 때문\n",
        "                    # [cls_token, tokens, sep_token]\n",
        "            \n",
        "            \"\"\"For CoM\"\"\"\n",
        "            batch_input.append(input_str)\n",
        "            batch_labels.append(self.emoList.index(emotion))\n",
        "            batch_PM_input.append(PM_input) # batch안에 batch의 개념\n",
        "        batch_input_token = self.tokenizer(batch_input, add_special_tokens=False)\n",
        "        batch_padding_token, batch_padding_attention_mask = self.padding(batch_input_token)\n",
        "\n",
        "        return batch_padding_token, batch_padding_attention_mask, batch_PM_input, torch.tensor(batch_labels)      "
      ],
      "metadata": {
        "id": "8ToMbNz8YCwM"
      },
      "execution_count": 35,
      "outputs": []
    },
    {
      "cell_type": "code",
      "source": [
        "\"\"\" 배치 결과 확인 \"\"\"\n",
        "from torch.utils.data import DataLoader\n",
        "dev_dataset = data_loader('./MELD/data/MELD/dev_sent_emo.csv')\n",
        "dev_dataloader = DataLoader(dev_dataset, batch_size=3, shuffle=False, num_workers=4, collate_fn=dev_dataset.collate_fn)\n",
        "\n",
        "for i, data in enumerate(dev_dataloader):\n",
        "    if i == 1:\n",
        "        print(data[0].shape)\n",
        "        batch_padding_token, batch_padding_attention_mask, batch_PM_input, batch_label = data\n",
        "        print(\"batch_padding_token\", batch_padding_token)\n",
        "        print(\"batch_padding_attention_mask\", batch_padding_attention_mask)\n",
        "        print(\"batch_PM_input\", batch_PM_input)\n",
        "        print(\"batch_label\", batch_label)\n",
        "        break"
      ],
      "metadata": {
        "colab": {
          "base_uri": "https://localhost:8080/"
        },
        "id": "cYhZipxKlnGE",
        "outputId": "6f6e5bb0-b373-428c-c21a-8bcdc3b9a69a"
      },
      "execution_count": 36,
      "outputs": [
        {
          "output_type": "stream",
          "name": "stdout",
          "text": [
            "torch.Size([3, 58])\n",
            "batch_padding_token tensor([[    0,  1793,   328,  1793,     6,    52,   115,   213,     7,     5,\n",
            "           827,     6,   593,    84,  2349,     8,   847,   106,   160,    23,\n",
            "             5,  1300,     4,     2,   370,    17,    27,   241,    10, 16333,\n",
            "           328,     2,     1,     1,     1,     1,     1,     1,     1,     1,\n",
            "             1,     1,     1,     1,     1,     1,     1,     1,     1,     1,\n",
            "             1,     1,     1,     1,     1,     1,     1,     1],\n",
            "        [    0,  1793,   328,  1793,     6,    52,   115,   213,     7,     5,\n",
            "           827,     6,   593,    84,  2349,     8,   847,   106,   160,    23,\n",
            "             5,  1300,     4,     2,   370,    17,    27,   241,    10, 16333,\n",
            "           328,     2,    83, 33130,     6,   313,     6,   122,    52,   351,\n",
            "            17,    27,    90,    28,   827, 30489,   328,     2,     1,     1,\n",
            "             1,     1,     1,     1,     1,     1,     1,     1],\n",
            "        [    0,  1793,   328,  1793,     6,    52,   115,   213,     7,     5,\n",
            "           827,     6,   593,    84,  2349,     8,   847,   106,   160,    23,\n",
            "             5,  1300,     4,     2,   370,    17,    27,   241,    10, 16333,\n",
            "           328,     2,    83, 33130,     6,   313,     6,   122,    52,   351,\n",
            "            17,    27,    90,    28,   827, 30489,   328,     2,   978,     6,\n",
            "            89,    17,    27,    29,    80,  2188,     4,     2]])\n",
            "batch_padding_attention_mask tensor([[1, 1, 1, 1, 1, 1, 1, 1, 1, 1, 1, 1, 1, 1, 1, 1, 1, 1, 1, 1, 1, 1, 1, 1,\n",
            "         1, 1, 1, 1, 1, 1, 1, 1, 0, 0, 0, 0, 0, 0, 0, 0, 0, 0, 0, 0, 0, 0, 0, 0,\n",
            "         0, 0, 0, 0, 0, 0, 0, 0, 0, 0],\n",
            "        [1, 1, 1, 1, 1, 1, 1, 1, 1, 1, 1, 1, 1, 1, 1, 1, 1, 1, 1, 1, 1, 1, 1, 1,\n",
            "         1, 1, 1, 1, 1, 1, 1, 1, 1, 1, 1, 1, 1, 1, 1, 1, 1, 1, 1, 1, 1, 1, 1, 1,\n",
            "         0, 0, 0, 0, 0, 0, 0, 0, 0, 0],\n",
            "        [1, 1, 1, 1, 1, 1, 1, 1, 1, 1, 1, 1, 1, 1, 1, 1, 1, 1, 1, 1, 1, 1, 1, 1,\n",
            "         1, 1, 1, 1, 1, 1, 1, 1, 1, 1, 1, 1, 1, 1, 1, 1, 1, 1, 1, 1, 1, 1, 1, 1,\n",
            "         1, 1, 1, 1, 1, 1, 1, 1, 1, 1]])\n",
            "batch_PM_input [[], [], [tensor([[    0,  1185,    17,    27,   241,    10, 16333,   328,     2]])]]\n",
            "batch_label tensor([2, 4, 3])\n"
          ]
        }
      ]
    },
    {
      "cell_type": "code",
      "source": [],
      "metadata": {
        "id": "AwLDh_0lte8u"
      },
      "execution_count": null,
      "outputs": []
    }
  ]
}